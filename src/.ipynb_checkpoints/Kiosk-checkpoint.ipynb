{
 "cells": [
  {
   "cell_type": "code",
   "execution_count": 29,
   "metadata": {},
   "outputs": [],
   "source": [
    "import sqlite3\n",
    "import time\n",
    "\n",
    "class Kiosk:\n",
    "    def __init__(self, db_filename, staff_tel):\n",
    "        print(\"Kiosk 객체가 생성되었습니다.\")\n",
    "        self.__staff_tel = staff_tel\n",
    "        print(\"Staff Tel. = \" + self.__staff_tel)\n",
    "        \n",
    "        # SQLite DB 연결\n",
    "        # db_filename 있으면 연결, 없으면 새로 생성\n",
    "        self.conn = sqlite3.connect(db_filename, detect_types=sqlite3.PARSE_DECLTYPES)\n",
    "        # Connection 으로부터 Cursor 생성\n",
    "        self.cur = self.conn.cursor()\n",
    "        \n",
    "    @property\n",
    "    def staff_tel(self):\n",
    "        return self.__staff_tel\n",
    "    \n",
    "    # 원래 설계는 뒤 4자리만 누르는 걸로 했지만\n",
    "    # 그냥 12가1234 이렇게 앞숫자 2자리, 한글 한 자리, 뒤 숫자 4자리의 조합을 모두 입력하는 것으로 한다.\n",
    "    def where_is_my_car(self, car_num):\n",
    "        self.cur.execute(\"SELECT parking_spot FROM PARKINGLOT_LIST WHERE Customer_car_num = ?\", (car_num,))\n",
    "        location = self.cur.fetchone()\n",
    "        if location is None :\n",
    "            print('해당 번호의 차량이 없습니다.')\n",
    "        else :\n",
    "            print('고객님의 차량은 ', location[0], '에 있습니다.')"
   ]
  },
  {
   "cell_type": "code",
   "execution_count": 30,
   "metadata": {},
   "outputs": [
    {
     "name": "stdout",
     "output_type": "stream",
     "text": [
      "Kiosk 객체가 생성되었습니다.\n",
      "Staff Tel. = 010-1111-2222\n"
     ]
    }
   ],
   "source": [
    "kiosk = Kiosk('pms_db_fin.sqlite','010-1111-2222')"
   ]
  },
  {
   "cell_type": "code",
   "execution_count": 31,
   "metadata": {},
   "outputs": [
    {
     "name": "stdout",
     "output_type": "stream",
     "text": [
      "해당 번호의 차량이 없습니다.\n"
     ]
    }
   ],
   "source": [
    "kiosk.where_is_my_car('23도7501')"
   ]
  },
  {
   "cell_type": "code",
   "execution_count": 32,
   "metadata": {},
   "outputs": [
    {
     "data": {
      "text/plain": [
       "'010-1111-2222'"
      ]
     },
     "execution_count": 32,
     "metadata": {},
     "output_type": "execute_result"
    }
   ],
   "source": [
    "kiosk.staff_tel "
   ]
  },
  {
   "cell_type": "code",
   "execution_count": null,
   "metadata": {},
   "outputs": [],
   "source": []
  }
 ],
 "metadata": {
  "kernelspec": {
   "display_name": "Python 3",
   "language": "python",
   "name": "python3"
  },
  "language_info": {
   "codemirror_mode": {
    "name": "ipython",
    "version": 3
   },
   "file_extension": ".py",
   "mimetype": "text/x-python",
   "name": "python",
   "nbconvert_exporter": "python",
   "pygments_lexer": "ipython3",
   "version": "3.6.5"
  }
 },
 "nbformat": 4,
 "nbformat_minor": 2
}
