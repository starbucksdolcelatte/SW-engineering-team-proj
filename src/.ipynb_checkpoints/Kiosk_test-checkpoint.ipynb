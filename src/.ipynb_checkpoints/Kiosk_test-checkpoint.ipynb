{
 "cells": [
  {
   "cell_type": "code",
   "execution_count": 1,
   "metadata": {},
   "outputs": [],
   "source": [
    "from Kiosk import Kiosk\n",
    "from Camera import Camera\n",
    "from Pms_db import DBinit"
   ]
  },
  {
   "cell_type": "code",
   "execution_count": 2,
   "metadata": {},
   "outputs": [
    {
     "name": "stdout",
     "output_type": "stream",
     "text": [
      "Camera 객체가 생성되었습니다.\n",
      "DBinit 객체가 생성되었습니다.\n",
      "DBinit 객체가 생성되었습니다.\n"
     ]
    }
   ],
   "source": [
    "db_path = 'pms_db_fin_1.sqlite'\n",
    "myKiosk = Kiosk()\n",
    "myCam = Camera(db_path)\n",
    "mypmsdb = DBinit(db_path)"
   ]
  },
  {
   "cell_type": "code",
   "execution_count": 3,
   "metadata": {},
   "outputs": [
    {
     "data": {
      "text/plain": [
       "'7641'"
      ]
     },
     "execution_count": 3,
     "metadata": {},
     "output_type": "execute_result"
    }
   ],
   "source": [
    "carnum = myCam.recog()[0]\n",
    "carnum[-4:]"
   ]
  },
  {
   "cell_type": "code",
   "execution_count": 4,
   "metadata": {},
   "outputs": [
    {
     "name": "stdout",
     "output_type": "stream",
     "text": [
      "아래 튜플이 PARKINGLOT_LIST 테이블에 UPDATE 되었습니다.\n",
      "('B3-A1', 1, '60모7641')\n"
     ]
    }
   ],
   "source": [
    "mypmsdb.cur.execute(\"UPDATE PARKINGLOT_LIST SET Parking_status = ?, Customer_car_num = ? WHERE Parking_spot = ?\",\n",
    "            (1, carnum , 'B3-A1',))\n",
    "# commit 을 해줘야 sqlite 에 반영이 됨\n",
    "mypmsdb.conn.commit()\n",
    "\n",
    "mypmsdb.cur.execute(\"SELECT * FROM PARKINGLOT_LIST WHERE Parking_spot = ?\", ('B3-A1',))\n",
    "print('아래 튜플이 PARKINGLOT_LIST 테이블에 UPDATE 되었습니다.')\n",
    "print(mypmsdb.cur.fetchone())"
   ]
  },
  {
   "cell_type": "code",
   "execution_count": 6,
   "metadata": {},
   "outputs": [
    {
     "name": "stdout",
     "output_type": "stream",
     "text": [
      "7641의 주차위치 : B3-A1\n"
     ]
    },
    {
     "data": {
      "text/plain": [
       "'B3-A1'"
      ]
     },
     "execution_count": 6,
     "metadata": {},
     "output_type": "execute_result"
    }
   ],
   "source": [
    "myKiosk.get_location(carnum[-4:])"
   ]
  },
  {
   "cell_type": "code",
   "execution_count": null,
   "metadata": {},
   "outputs": [],
   "source": []
  }
 ],
 "metadata": {
  "kernelspec": {
   "display_name": "Python 3",
   "language": "python",
   "name": "python3"
  },
  "language_info": {
   "codemirror_mode": {
    "name": "ipython",
    "version": 3
   },
   "file_extension": ".py",
   "mimetype": "text/x-python",
   "name": "python",
   "nbconvert_exporter": "python",
   "pygments_lexer": "ipython3",
   "version": "3.6.5"
  }
 },
 "nbformat": 4,
 "nbformat_minor": 2
}
