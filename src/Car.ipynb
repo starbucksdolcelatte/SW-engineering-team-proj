{
 "cells": [
  {
   "cell_type": "code",
   "execution_count": 86,
   "metadata": {
    "scrolled": true
   },
   "outputs": [
    {
     "name": "stdout",
     "output_type": "stream",
     "text": [
      "Hi\n"
     ]
    }
   ],
   "source": [
    "import sqlite3\n",
    "from datetime import datetime, date\n",
    "\n",
    "# SQLite DB 연결\n",
    "# test.db가 있으면 연결, 없으면 새로 생성\n",
    "con = sqlite3.connect(\"PMS_db_car.sqlite\",detect_types=sqlite3.PARSE_DECLTYPES)\n",
    "\n",
    "# Connection 으로부터 Cursor 생성\n",
    "curs = con.cursor()\n",
    "print('Hi')"
   ]
  },
  {
   "cell_type": "markdown",
   "metadata": {},
   "source": [
    "# 차량번호 검색은 이렇게"
   ]
  },
  {
   "cell_type": "code",
   "execution_count": 98,
   "metadata": {},
   "outputs": [
    {
     "name": "stdout",
     "output_type": "stream",
     "text": [
      "('80서8443', 'VISA 1987-5998-9662-4215', 'HWANG SOO JOO')\n"
     ]
    }
   ],
   "source": [
    "car_num = '80서8443'\n",
    "curs.execute(\"select * from customer_list where customer_car_num = ?\", (car_num,))\n",
    "rows = curs.fetchone()\n",
    "print(rows)"
   ]
  },
  {
   "cell_type": "code",
   "execution_count": 85,
   "metadata": {},
   "outputs": [
    {
     "name": "stdout",
     "output_type": "stream",
     "text": [
      "('80서8443', 'VISA 1987-5998-9662-4215', 'HWANG SOO JOO')\n",
      "('77자9182', 'JCB 4909-8586-9104-3375', 'MOON SEONG SEOK')\n",
      "('01배0649', 'BC 3084-7912-7511-4032', 'JEONG HYUN MI')\n",
      "('40우5084', 'VISA 4739-1311-7771-8776', 'MOON HYUN JOON')\n",
      "('52다6812', 'JCB 2479-7161-9745-5995', 'HA KYUNG YEON')\n",
      "('70마3823', 'MasterCard 7800-1896-9338-4855', 'KONG YOON WOON')\n",
      "('34누3094', 'Amex 3907-7885-5078-3593', 'KONG SEONG AH')\n",
      "('26바2277', 'UnionPay 8451-7812-5466-8159', 'HWANG YOON JOON')\n",
      "('60무9201', 'JCB 9037-4544-3147-4737', 'HYUN SEONG WOON')\n",
      "('94서8014', 'BC 6826-0097-9181-7562', 'JEONG SEO SEOK')\n",
      "('57아7777', 'MasterCard 3816-7779-4595-3359', 'YOON SOO JOO')\n",
      "('62어3242', 'VISA 4677-3943-2169-0831', 'HYUN JI YEON')\n",
      "('68도3456', 'Amex 5726-7616-3817-2218', 'JEONG EUN HYUK')\n",
      "('15로1558', 'BC 6020-6994-3824-0495', 'HWANG YOON JOO')\n",
      "('92루3966', 'Amex 8352-0659-8106-3513', 'CHA MIN YEON')\n",
      "('40오7784', 'JCB 3269-6586-9987-5969', 'LEE JI YEON')\n",
      "('87바0780', 'JCB 1839-2656-0400-7744', 'YOON MOON JOON')\n",
      "('27나3808', 'JCB 9055-4694-6763-6101', 'HWANG KYUNG HYUK')\n",
      "('00거8693', 'Amex 9748-2162-0381-0133', 'HAN SEO JOO')\n",
      "('09서3783', 'UnionPay 6828-3980-8163-4329', 'HYUN SOO SEOK')\n",
      "('76소3172', 'BC 0612-5491-1808-6114', 'KONG MIN WOON')\n",
      "('83고5621', 'Amex 9691-4810-6569-3084', 'KONG EUN HYUK')\n",
      "('44누8292', 'MasterCard 2097-0230-0646-9190', 'LEE EUN AH')\n",
      "('03어2604', 'MasterCard 3427-4236-4274-4729', 'HA HYUN YEON')\n",
      "('02버3667', 'MasterCard 3554-5860-1973-1288', 'HAN SEO HYUK')\n",
      "('11마2073', 'VISA 6420-6473-9637-4774', 'YOON MIN MI')\n",
      "('70보3956', 'JCB 9241-1126-0652-4931', 'KONG KYUNG YEON')\n",
      "('32부5426', 'MasterCard 3966-4680-1007-7362', 'HA HYUN WOON')\n",
      "('72주3019', 'JCB 8581-8384-8086-2499', 'YOON SEO JOO')\n",
      "('98오3294', 'UnionPay 2816-8804-6511-4357', 'MOON SEONG JOO')\n",
      "('04너0845', 'BC 8508-1393-4362-0677', 'MOON YOON HYUK')\n",
      "('99바3683', 'BC 8694-4791-8983-2217', 'JEONG JI HYUK')\n",
      "('61바5271', 'Amex 3769-7736-9644-9266', 'JEONG KYUNG WOON')\n",
      "('67너8520', 'Amex 1377-6526-1402-4966', 'LEE SEO JOO')\n",
      "('25라7854', 'MasterCard 9790-7899-3945-7794', 'KONG SOO WOON')\n",
      "('77라7277', 'Amex 7788-7208-2822-5169', 'YOON YOON YEON')\n",
      "('16버9884', 'Amex 9297-2467-4666-7607', 'KONG YOON MI')\n",
      "('93저4029', 'MasterCard 0023-1545-6796-0298', 'CHA SOO YEON')\n",
      "('86조9856', 'JCB 8892-0716-1788-3419', 'HAN SEO SEOK')\n",
      "('31버5073', 'UnionPay 9679-3529-9056-1226', 'CHA SEO HYUK')\n",
      "('50구8555', 'Amex 3904-2365-3820-6495', 'HA YOON WOON')\n",
      "('42우7409', 'BC 1284-8315-9260-2358', 'PARK EUN AH')\n",
      "('15아4899', 'UnionPay 1346-5798-4269-1468', 'MOON YOON MI')\n",
      "('46버7097', 'VISA 8613-2319-0554-6522', 'MOON KYUNG AH')\n",
      "('17우9949', 'VISA 4388-1241-5764-9889', 'KANG EUN MI')\n",
      "('81러2694', 'Amex 4304-4219-2970-8448', 'YOON JI JOON')\n",
      "('28보6176', 'UnionPay 1744-1981-2189-1851', 'KIM EUN HYUK')\n",
      "('39아2715', 'UnionPay 5430-0588-3452-4940', 'MOON JI WOON')\n",
      "('04모5006', 'VISA 1421-5072-7057-7556', 'HYUN EUN SEOK')\n",
      "('84서9947', 'UnionPay 4811-4472-2983-7011', 'PARK EUN MI')\n"
     ]
    }
   ],
   "source": [
    "curs.execute(\"select * from CUSTOMER_LIST\")\n",
    "\n",
    "# 데이타 Fetch\n",
    "rows = curs.fetchall()\n",
    "for row in rows:\n",
    "    print(row)\n"
   ]
  },
  {
   "cell_type": "code",
   "execution_count": 106,
   "metadata": {},
   "outputs": [],
   "source": [
    "import time\n",
    "class Car:\n",
    "    '''\n",
    "    car_num : str\n",
    "    location : str\n",
    "    status : int x\n",
    "    in_time : str\n",
    "    out_time : int\n",
    "\n",
    "    ----------------------\n",
    "    in()    차단바 올리고 들어오기\n",
    "    out()   차단바 올리고 나가기\n",
    "    park()   칸\n",
    "    move()   칸에서 빼기\n",
    "    '''\n",
    "\n",
    "    def __init__(self, car_num):\n",
    "        print(\"Car 객체가 생성되었습니다.\")\n",
    "        self.__car_num = car_num\n",
    "        print(\"Car number = \" + self.__car_num)\n",
    "        self.__location = ''\n",
    "        self.__status = ''\n",
    "        self.__in_time = ''\n",
    "        self.__out_time = ''\n",
    "    \n",
    "    @property\n",
    "    def car_num(self):\n",
    "        return self.__car_num\n",
    "    \n",
    "    @property\n",
    "    def location(self):\n",
    "        return self.__location\n",
    "    \n",
    "    @property\n",
    "    def status(self):\n",
    "        return self.__status\n",
    "    \n",
    "    @property\n",
    "    def in_time(self):\n",
    "        return self.__in_time\n",
    "    \n",
    "    @property\n",
    "    def out_time(self):\n",
    "        return self.__out_time\n",
    "    \n",
    "    \n",
    "    '''\n",
    "    park()   칸에 주차하기\n",
    "    move()   칸에서 차 빼기\n",
    "    '''\n",
    "    def park(self, parking_lot):\n",
    "        now = time.localtime()\n",
    "        self.__in_time = \"%04d-%02d-%02d %02d:%02d:%02d\" % (now.tm_year, now.tm_mon, now.tm_mday, now.tm_hour, now.tm_min, now.tm_sec)\n",
    "        self.__location = parking_lot\n",
    "        self.__status = 'parking'\n",
    "        \n",
    "        print(\"주차 시작시각 : \" + self.__in_time)\n",
    "        print(\"주차 칸 : \" + self.__location)\n",
    "        print(\"주차 상태 : \" + self.__status)\n",
    "\n",
    "    def move(self):\n",
    "        now = time.localtime()\n",
    "        self.__out_time = \"%04d-%02d-%02d %02d:%02d:%02d\" % (now.tm_year, now.tm_mon, now.tm_mday, now.tm_hour, now.tm_min, now.tm_sec)\n",
    "        self.__status = 'moved'\n",
    "        \n",
    "        print(\"주차 종료시각 : \" + self.__out_time)\n",
    "        print(\"주차 칸 : \" + self.__location)\n",
    "        print(\"주차 상태 : \" + self.__status)\n",
    "        \n",
    "    "
   ]
  },
  {
   "cell_type": "code",
   "execution_count": 107,
   "metadata": {},
   "outputs": [
    {
     "name": "stdout",
     "output_type": "stream",
     "text": [
      "주차 시작시각 : 2018-11-29 00:53:42\n",
      "주차 칸 : B1-A2\n",
      "주차 상태 : parking\n",
      "주차 종료시각 : 2018-11-29 00:53:42\n",
      "주차 칸 : B1-A2\n",
      "주차 상태 : moved\n"
     ]
    }
   ],
   "source": [
    "Car.park(mycar2, 'B1-A2')\n",
    "Car.move(mycar2)"
   ]
  },
  {
   "cell_type": "code",
   "execution_count": 110,
   "metadata": {},
   "outputs": [],
   "source": [
    "def is_registered(self):\n",
    "    curs.execute(\"select * from customer_list where customer_car_num like ?%\", (self.car_num,))\n",
    "    cust_info = curs.fetchone()\n",
    "    print(cust_info)\n",
    "    if (cust_info is not None):\n",
    "        print(\"등록된 회원입니다.\")\n",
    "        \n",
    "    else:\n",
    "        print(\"등록된 회원이 아닙니다.\")"
   ]
  },
  {
   "cell_type": "code",
   "execution_count": 96,
   "metadata": {},
   "outputs": [
    {
     "name": "stdout",
     "output_type": "stream",
     "text": [
      "Car 객체가 생성되었습니다.\n",
      "Car number = 99구9999\n",
      "99구9999\n",
      "\n",
      "None\n",
      "등록된 회원이 아닙니다.\n"
     ]
    }
   ],
   "source": [
    "\n",
    "mycar = Car('99구9999')\n",
    "print(mycar.car_num)\n",
    "print(mycar.location)\n",
    "is_registered(mycar)"
   ]
  },
  {
   "cell_type": "code",
   "execution_count": 111,
   "metadata": {},
   "outputs": [
    {
     "name": "stdout",
     "output_type": "stream",
     "text": [
      "Car 객체가 생성되었습니다.\n",
      "Car number = 80\n"
     ]
    },
    {
     "ename": "OperationalError",
     "evalue": "near \"%\": syntax error",
     "output_type": "error",
     "traceback": [
      "\u001b[1;31m---------------------------------------------------------------------------\u001b[0m",
      "\u001b[1;31mOperationalError\u001b[0m                          Traceback (most recent call last)",
      "\u001b[1;32m<ipython-input-111-8c1102724f8d>\u001b[0m in \u001b[0;36m<module>\u001b[1;34m()\u001b[0m\n\u001b[0;32m      1\u001b[0m \u001b[0mmycar3\u001b[0m \u001b[1;33m=\u001b[0m \u001b[0mCar\u001b[0m\u001b[1;33m(\u001b[0m\u001b[1;34m'80'\u001b[0m\u001b[1;33m)\u001b[0m\u001b[1;33m\u001b[0m\u001b[0m\n\u001b[1;32m----> 2\u001b[1;33m \u001b[0mis_registered\u001b[0m\u001b[1;33m(\u001b[0m\u001b[0mmycar3\u001b[0m\u001b[1;33m)\u001b[0m\u001b[1;33m\u001b[0m\u001b[0m\n\u001b[0m",
      "\u001b[1;32m<ipython-input-110-34ab980a83e8>\u001b[0m in \u001b[0;36mis_registered\u001b[1;34m(self)\u001b[0m\n\u001b[0;32m      1\u001b[0m \u001b[1;32mdef\u001b[0m \u001b[0mis_registered\u001b[0m\u001b[1;33m(\u001b[0m\u001b[0mself\u001b[0m\u001b[1;33m)\u001b[0m\u001b[1;33m:\u001b[0m\u001b[1;33m\u001b[0m\u001b[0m\n\u001b[1;32m----> 2\u001b[1;33m     \u001b[0mcurs\u001b[0m\u001b[1;33m.\u001b[0m\u001b[0mexecute\u001b[0m\u001b[1;33m(\u001b[0m\u001b[1;34m\"select * from customer_list where customer_car_num like ?%\"\u001b[0m\u001b[1;33m,\u001b[0m \u001b[1;33m(\u001b[0m\u001b[0mself\u001b[0m\u001b[1;33m.\u001b[0m\u001b[0mcar_num\u001b[0m\u001b[1;33m,\u001b[0m\u001b[1;33m)\u001b[0m\u001b[1;33m)\u001b[0m\u001b[1;33m\u001b[0m\u001b[0m\n\u001b[0m\u001b[0;32m      3\u001b[0m     \u001b[0mcust_info\u001b[0m \u001b[1;33m=\u001b[0m \u001b[0mcurs\u001b[0m\u001b[1;33m.\u001b[0m\u001b[0mfetchone\u001b[0m\u001b[1;33m(\u001b[0m\u001b[1;33m)\u001b[0m\u001b[1;33m\u001b[0m\u001b[0m\n\u001b[0;32m      4\u001b[0m     \u001b[0mprint\u001b[0m\u001b[1;33m(\u001b[0m\u001b[0mcust_info\u001b[0m\u001b[1;33m)\u001b[0m\u001b[1;33m\u001b[0m\u001b[0m\n\u001b[0;32m      5\u001b[0m     \u001b[1;32mif\u001b[0m \u001b[1;33m(\u001b[0m\u001b[0mcust_info\u001b[0m \u001b[1;32mis\u001b[0m \u001b[1;32mnot\u001b[0m \u001b[1;32mNone\u001b[0m\u001b[1;33m)\u001b[0m\u001b[1;33m:\u001b[0m\u001b[1;33m\u001b[0m\u001b[0m\n",
      "\u001b[1;31mOperationalError\u001b[0m: near \"%\": syntax error"
     ]
    }
   ],
   "source": [
    "mycar3 = Car('80')\n",
    "is_registered(mycar3)\n"
   ]
  },
  {
   "cell_type": "code",
   "execution_count": null,
   "metadata": {},
   "outputs": [],
   "source": []
  }
 ],
 "metadata": {
  "kernelspec": {
   "display_name": "Python 3",
   "language": "python",
   "name": "python3"
  },
  "language_info": {
   "codemirror_mode": {
    "name": "ipython",
    "version": 3
   },
   "file_extension": ".py",
   "mimetype": "text/x-python",
   "name": "python",
   "nbconvert_exporter": "python",
   "pygments_lexer": "ipython3",
   "version": "3.6.5"
  }
 },
 "nbformat": 4,
 "nbformat_minor": 2
}
