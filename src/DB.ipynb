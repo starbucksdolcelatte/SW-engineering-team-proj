{
 "cells": [
  {
   "cell_type": "code",
   "execution_count": 247,
   "metadata": {},
   "outputs": [
    {
     "name": "stdout",
     "output_type": "stream",
     "text": [
      "2018-11-29 00:47:14.870229\n",
      "2018-11-29 00:47:14\n"
     ]
    }
   ],
   "source": [
    "import datetime\n",
    "import time\n",
    "now = time.localtime()\n",
    "s = datetime.datetime.now()\n",
    "f = '%m/%d/%Y %I:%M:%S %p'\n",
    "ss = \"%04d-%02d-%02d %02d:%02d:%02d\" % (now.tm_year, now.tm_mon, now.tm_mday, now.tm_hour, now.tm_min, now.tm_sec)\n",
    "print (s)\n",
    "print (ss)"
   ]
  },
  {
   "cell_type": "code",
   "execution_count": 141,
   "metadata": {},
   "outputs": [],
   "source": [
    "def print_table(tbl_name, cur):\n",
    "    # SQL 쿼리 실행은 cur.execute로 함\n",
    "    cur.execute(\"select * from \" + tbl_name)\n",
    "\n",
    "    # 데이타 Fetch\n",
    "    rows = cur.fetchall()\n",
    "    for row in rows:\n",
    "        print(row)\n",
    "        \n",
    "    return None"
   ]
  },
  {
   "cell_type": "code",
   "execution_count": 143,
   "metadata": {},
   "outputs": [],
   "source": [
    "##################################################################\n",
    "## PRICE = {Unit_minute, Unit_price}\n",
    "## 10 분 당 500 원\n",
    "def init_price(cur):\n",
    "    cur.execute(\"INSERT INTO PRICE VALUES(10,500)\")\n",
    "    return 0\n",
    "\n",
    "##################################################################\n",
    "## DISCOUNT = {Shopping_pay_minimum, Free_hour}\n",
    "def init_discount(cur):\n",
    "    for i in range(1,6):\n",
    "        cur.execute(\"INSERT INTO DISCOUNT VALUES(\" + str((i*2-1)*10000) + \", \" + str(i) + \")\")\n",
    "    return 0"
   ]
  },
  {
   "cell_type": "code",
   "execution_count": 145,
   "metadata": {},
   "outputs": [
    {
     "data": {
      "text/plain": [
       "0"
      ]
     },
     "execution_count": 145,
     "metadata": {},
     "output_type": "execute_result"
    }
   ],
   "source": [
    "init_price(cur)\n",
    "init_discount(cur)"
   ]
  },
  {
   "cell_type": "code",
   "execution_count": 146,
   "metadata": {},
   "outputs": [
    {
     "name": "stdout",
     "output_type": "stream",
     "text": [
      "(10, 500)\n",
      "(10000, 1)\n",
      "(30000, 2)\n",
      "(50000, 3)\n",
      "(70000, 4)\n",
      "(90000, 5)\n"
     ]
    }
   ],
   "source": [
    "print_table('PRICE', cur)\n",
    "print_table('DISCOUNT', cur)"
   ]
  },
  {
   "cell_type": "code",
   "execution_count": 2,
   "metadata": {},
   "outputs": [],
   "source": [
    "##################################################################\n",
    "## PARKINGLOT_LIST = {Parking_spot, Parking_status, Customer_car_num}\n",
    "## Parking_status : 0 == vacant ; 1 == occupied ; 2 == moving_out\n",
    "## Total 3 levels, A-J zones, 1-10 spots\n",
    "## ['B3-J10', 0, NULL]\n",
    "def init_parkinglot_list(cur):\n",
    "    for floor in range (1,4):\n",
    "        for zone in range (0,10):\n",
    "            for spot in range (1,11):\n",
    "                cur.execute(\"INSERT INTO PARKINGLOT_LIST VALUES('B\"+str(floor)\n",
    "                +\"-\"+string.ascii_uppercase[zone]+str(spot)+\"', 0, NULL)\")\n",
    "    return 0"
   ]
  },
  {
   "cell_type": "code",
   "execution_count": 3,
   "metadata": {},
   "outputs": [],
   "source": [
    "##################################################################\n",
    "## CUSTOMER_LIST = {Customer_car_num, Customer_card_info, Customer_name}\n",
    "h_plate = ['가','나','다','라','마',\n",
    "                 '거','너','더','러','머','버','서','어','저',\n",
    "                 '고','노','도','로','모','보','소','오','조',\n",
    "                 '구','누','두','루','무','부','수','우','주',\n",
    "                 '아','바','사','자',\n",
    "                 '배','하','허','호']\n",
    "\n",
    "n_first = ['KIM','LEE', 'PARK', 'KONG', 'YOON', 'HYUN', 'KANG',\n",
    "            'JEONG', 'MOON', 'CHA', 'HAN', 'HWANG', 'HA']\n",
    "n_middle = ['SEO', 'MOON', 'YOON', 'KYUNG', 'HYUN', 'MIN',\n",
    "            'SOO', 'EUN', 'SEONG', 'JI']\n",
    "n_last = ['JOON', 'MI', 'AH', 'JOO', 'YEON', 'HYUK', 'SEOK','WOON']\n",
    "\n",
    "card = ['VISA', 'MasterCard', 'Amex', 'BC', 'UnionPay','JCB']\n",
    "\n",
    "\n",
    "# Make sample tuple of CUSTOMER_LIST and insert it to CUSTOMER_LIST\n",
    "## CUSTOMER_LIST = { Customer_car_num, Customer_card_info, Customer_name }\n",
    "def mk_sample_cust(cust_num, cur):\n",
    "    for _ in range (cust_num):\n",
    "        cur.execute(\"INSERT INTO CUSTOMER_LIST VALUES('\"\n",
    "        '{0:02d}'.format(random.randrange(100)) + h_plate[random.randrange(len(h_plate))] + '{0:04d}'.format(random.randrange(10000)) +\n",
    "            \"','\" + card[random.randrange(len(card))] + \" \" + '{0:04d}'.format(random.randrange(10000)) + \"-\" + '{0:04d}'.format(random.randrange(10000)) + \"-\" + '{0:04d}'.format(random.randrange(10000)) + \"-\" + '{0:04d}'.format(random.randrange(10000)) +\n",
    "            \"','\" + n_first[random.randrange(len(n_first))] + \" \" + n_middle[random.randrange(len(n_middle))] + \" \" + n_last[random.randrange(len(n_last))] +\n",
    "            \"')\")\n",
    "    return 0"
   ]
  },
  {
   "cell_type": "code",
   "execution_count": 7,
   "metadata": {},
   "outputs": [],
   "source": [
    "# Connect to SQLite DB\n",
    "## if exist \"PMS_db.sqlite\" then connect \n",
    "## if not exitst \"PMS_db.sqlite\" then create\n",
    "conn_test = sqlite3.connect(\"PMS_test.sqlite\", detect_types=sqlite3.PARSE_DECLTYPES)\n",
    "\n",
    "# Create cursor from DB Connection\n",
    "cur_test = conn_test.cursor()"
   ]
  },
  {
   "cell_type": "code",
   "execution_count": 10,
   "metadata": {},
   "outputs": [
    {
     "data": {
      "text/plain": [
       "<sqlite3.Cursor at 0x199956fb6c0>"
      ]
     },
     "execution_count": 10,
     "metadata": {},
     "output_type": "execute_result"
    }
   ],
   "source": [
    "cur_test.execute(\"\"\"\n",
    "    CREATE TABLE SHOPPING_PAY (\n",
    "    Spay_id INTEGER PRIMARY KEY AUTOINCREMENT,\n",
    "    Customer_car_num text     )\"\"\")"
   ]
  },
  {
   "cell_type": "code",
   "execution_count": 11,
   "metadata": {},
   "outputs": [
    {
     "data": {
      "text/plain": [
       "<sqlite3.Cursor at 0x199955b3030>"
      ]
     },
     "execution_count": 11,
     "metadata": {},
     "output_type": "execute_result"
    }
   ],
   "source": [
    "cur.execute(\"INSERT INTO CUSTOMER_LIST VALUES('12가1234','VISA 1234-1234-1234-1234', 'KIM MIN JI')\")"
   ]
  },
  {
   "cell_type": "code",
   "execution_count": 15,
   "metadata": {},
   "outputs": [
    {
     "data": {
      "text/plain": [
       "0"
      ]
     },
     "execution_count": 15,
     "metadata": {},
     "output_type": "execute_result"
    }
   ],
   "source": [
    "init_parkinglot_list()\n",
    "mk_sample_cust(50)"
   ]
  },
  {
   "cell_type": "code",
   "execution_count": 240,
   "metadata": {
    "scrolled": true
   },
   "outputs": [
    {
     "name": "stdout",
     "output_type": "stream",
     "text": [
      "('12가1234', 'VISA 1234-1234-1234-1234', 'KIM MIN JI')\n",
      "('49루0663', 'Amex 8376-7961-6634-4969', 'JEONG MIN JOO')\n",
      "('64러4617', 'MasterCard 1553-4104-8725-9861', 'PARK HYUN MI')\n",
      "('93마5409', 'BC 9171-1649-5796-7113', 'HYUN JI JOO')\n",
      "('70우7253', 'UnionPay 4267-1020-8989-0230', 'LEE SOO JOON')\n",
      "('78주5458', 'MasterCard 5328-1031-3130-9298', 'KONG KYUNG AH')\n",
      "('69부1494', 'VISA 5243-8322-8016-1786', 'YOON SEONG YEON')\n",
      "('90더8969', 'Amex 8852-3329-9882-8965', 'CHA HYUN WOON')\n",
      "('11허6306', 'Amex 9431-3966-4756-3012', 'KONG YOON JOON')\n",
      "('78도7807', 'VISA 1471-2133-2450-0633', 'LEE SEONG SEOK')\n",
      "('90바4515', 'UnionPay 3858-3525-9663-6871', 'CHA HYUN WOON')\n",
      "('63조1349', 'Amex 1889-7969-9618-5493', 'KONG KYUNG JOON')\n",
      "('93로1919', 'JCB 3612-6095-2793-5448', 'KANG SEO MI')\n",
      "('18고0741', 'UnionPay 8752-9865-1212-0437', 'LEE KYUNG MI')\n",
      "('50거6064', 'VISA 0596-9920-0354-3188', 'PARK MOON WOON')\n",
      "('26라0373', 'UnionPay 6973-1662-4258-1146', 'KONG MOON YEON')\n",
      "('44무2954', 'VISA 8251-7653-0645-9772', 'LEE SOO JOO')\n",
      "('33조7704', 'UnionPay 2775-3332-0951-2592', 'PARK MIN YEON')\n",
      "('15허7246', 'JCB 2864-0216-7727-6715', 'CHA SEONG YEON')\n",
      "('83조6367', 'JCB 4111-2513-9184-0203', 'JEONG MOON HYUK')\n",
      "('94다8918', 'Amex 2209-3934-7894-5770', 'CHA HYUN HYUK')\n",
      "('75호2168', 'JCB 5083-6357-6789-1322', 'KIM JI JOO')\n",
      "('89오2622', 'MasterCard 3655-7342-6203-9308', 'KANG SEO SEOK')\n",
      "('89배6852', 'JCB 0766-2714-7296-1046', 'YOON YOON WOON')\n",
      "('67주9198', 'UnionPay 0001-0637-8103-5340', 'YOON EUN JOON')\n",
      "('53어8987', 'JCB 1367-2138-0241-6583', 'HAN SOO HYUK')\n",
      "('00저0234', 'JCB 0038-8656-1602-3120', 'LEE JI JOO')\n",
      "('38로2985', 'VISA 7792-6499-1332-0357', 'YOON EUN MI')\n",
      "('32러8533', 'JCB 5686-1885-2530-4561', 'KIM SEO JOON')\n",
      "('26도9148', 'Amex 6011-9297-0688-9954', 'HAN EUN WOON')\n",
      "('81무6102', 'UnionPay 2921-3405-6153-9619', 'YOON SEO AH')\n",
      "('19로5462', 'Amex 6016-1535-5541-0584', 'KIM HYUN AH')\n",
      "('19하4743', 'Amex 6468-8986-2124-4807', 'LEE EUN JOO')\n",
      "('06보2942', 'UnionPay 1161-4958-6605-5382', 'YOON SOO MI')\n",
      "('12자7883', 'BC 5522-5630-2036-7849', 'LEE EUN SEOK')\n",
      "('04보5489', 'JCB 2550-2728-9248-6153', 'HA MOON MI')\n",
      "('10어3621', 'VISA 6304-0128-1606-6452', 'MOON SEONG YEON')\n",
      "('57주9582', 'JCB 3559-6931-1370-6034', 'KONG HYUN AH')\n",
      "('55어5873', 'VISA 1046-0452-8614-7399', 'HA KYUNG MI')\n",
      "('63두4202', 'MasterCard 0689-3537-2397-1714', 'KONG EUN SEOK')\n",
      "('46사2479', 'VISA 9768-7993-2431-9239', 'KANG SOO WOON')\n",
      "('86소8166', 'BC 3309-8893-9990-3584', 'KIM MIN HYUK')\n",
      "('41다8603', 'MasterCard 4208-9872-2554-6209', 'CHA HYUN WOON')\n",
      "('08거8462', 'VISA 1087-3687-2138-0665', 'YOON SEO WOON')\n",
      "('42버2438', 'JCB 7548-6083-8273-6262', 'MOON SEONG JOON')\n",
      "('73거8486', 'UnionPay 1251-6985-3376-4745', 'MOON JI SEOK')\n",
      "('61누9952', 'UnionPay 3826-0335-0003-2981', 'YOON SEONG YEON')\n",
      "('42마8085', 'Amex 4961-6685-6294-6286', 'KIM YOON AH')\n",
      "('30모5472', 'VISA 0588-7886-6846-2308', 'JEONG JI MI')\n",
      "('86머5779', 'BC 0576-7639-6335-7518', 'KIM MOON WOON')\n",
      "('99머0331', 'VISA 9802-2174-5306-1725', 'HWANG SEONG HYUK')\n"
     ]
    }
   ],
   "source": [
    "# SQL 쿼리 실행은 cur.execute로 함\n",
    "cur.execute(\"select * from CUSTOMER_LIST\")\n",
    "\n",
    "# 데이타 Fetch\n",
    "rows = cur.fetchall()\n",
    "for row in rows:\n",
    "    print(row)"
   ]
  },
  {
   "cell_type": "code",
   "execution_count": 17,
   "metadata": {},
   "outputs": [
    {
     "name": "stdout",
     "output_type": "stream",
     "text": [
      "('B1-A1', 0, None)\n",
      "('B1-A2', 0, None)\n",
      "('B1-A3', 0, None)\n",
      "('B1-A4', 0, None)\n",
      "('B1-A5', 0, None)\n",
      "('B1-A6', 0, None)\n",
      "('B1-A7', 0, None)\n",
      "('B1-A8', 0, None)\n",
      "('B1-A9', 0, None)\n",
      "('B1-A10', 0, None)\n",
      "('B1-B1', 0, None)\n",
      "('B1-B2', 0, None)\n",
      "('B1-B3', 0, None)\n",
      "('B1-B4', 0, None)\n",
      "('B1-B5', 0, None)\n",
      "('B1-B6', 0, None)\n",
      "('B1-B7', 0, None)\n",
      "('B1-B8', 0, None)\n",
      "('B1-B9', 0, None)\n",
      "('B1-B10', 0, None)\n",
      "('B1-C1', 0, None)\n",
      "('B1-C2', 0, None)\n",
      "('B1-C3', 0, None)\n",
      "('B1-C4', 0, None)\n",
      "('B1-C5', 0, None)\n",
      "('B1-C6', 0, None)\n",
      "('B1-C7', 0, None)\n",
      "('B1-C8', 0, None)\n",
      "('B1-C9', 0, None)\n",
      "('B1-C10', 0, None)\n",
      "('B1-D1', 0, None)\n",
      "('B1-D2', 0, None)\n",
      "('B1-D3', 0, None)\n",
      "('B1-D4', 0, None)\n",
      "('B1-D5', 0, None)\n",
      "('B1-D6', 0, None)\n",
      "('B1-D7', 0, None)\n",
      "('B1-D8', 0, None)\n",
      "('B1-D9', 0, None)\n",
      "('B1-D10', 0, None)\n",
      "('B1-E1', 0, None)\n",
      "('B1-E2', 0, None)\n",
      "('B1-E3', 0, None)\n",
      "('B1-E4', 0, None)\n",
      "('B1-E5', 0, None)\n",
      "('B1-E6', 0, None)\n",
      "('B1-E7', 0, None)\n",
      "('B1-E8', 0, None)\n",
      "('B1-E9', 0, None)\n",
      "('B1-E10', 0, None)\n",
      "('B1-F1', 0, None)\n",
      "('B1-F2', 0, None)\n",
      "('B1-F3', 0, None)\n",
      "('B1-F4', 0, None)\n",
      "('B1-F5', 0, None)\n",
      "('B1-F6', 0, None)\n",
      "('B1-F7', 0, None)\n",
      "('B1-F8', 0, None)\n",
      "('B1-F9', 0, None)\n",
      "('B1-F10', 0, None)\n",
      "('B1-G1', 0, None)\n",
      "('B1-G2', 0, None)\n",
      "('B1-G3', 0, None)\n",
      "('B1-G4', 0, None)\n",
      "('B1-G5', 0, None)\n",
      "('B1-G6', 0, None)\n",
      "('B1-G7', 0, None)\n",
      "('B1-G8', 0, None)\n",
      "('B1-G9', 0, None)\n",
      "('B1-G10', 0, None)\n",
      "('B1-H1', 0, None)\n",
      "('B1-H2', 0, None)\n",
      "('B1-H3', 0, None)\n",
      "('B1-H4', 0, None)\n",
      "('B1-H5', 0, None)\n",
      "('B1-H6', 0, None)\n",
      "('B1-H7', 0, None)\n",
      "('B1-H8', 0, None)\n",
      "('B1-H9', 0, None)\n",
      "('B1-H10', 0, None)\n",
      "('B1-I1', 0, None)\n",
      "('B1-I2', 0, None)\n",
      "('B1-I3', 0, None)\n",
      "('B1-I4', 0, None)\n",
      "('B1-I5', 0, None)\n",
      "('B1-I6', 0, None)\n",
      "('B1-I7', 0, None)\n",
      "('B1-I8', 0, None)\n",
      "('B1-I9', 0, None)\n",
      "('B1-I10', 0, None)\n",
      "('B1-J1', 0, None)\n",
      "('B1-J2', 0, None)\n",
      "('B1-J3', 0, None)\n",
      "('B1-J4', 0, None)\n",
      "('B1-J5', 0, None)\n",
      "('B1-J6', 0, None)\n",
      "('B1-J7', 0, None)\n",
      "('B1-J8', 0, None)\n",
      "('B1-J9', 0, None)\n",
      "('B1-J10', 0, None)\n",
      "('B2-A1', 0, None)\n",
      "('B2-A2', 0, None)\n",
      "('B2-A3', 0, None)\n",
      "('B2-A4', 0, None)\n",
      "('B2-A5', 0, None)\n",
      "('B2-A6', 0, None)\n",
      "('B2-A7', 0, None)\n",
      "('B2-A8', 0, None)\n",
      "('B2-A9', 0, None)\n",
      "('B2-A10', 0, None)\n",
      "('B2-B1', 0, None)\n",
      "('B2-B2', 0, None)\n",
      "('B2-B3', 0, None)\n",
      "('B2-B4', 0, None)\n",
      "('B2-B5', 0, None)\n",
      "('B2-B6', 0, None)\n",
      "('B2-B7', 0, None)\n",
      "('B2-B8', 0, None)\n",
      "('B2-B9', 0, None)\n",
      "('B2-B10', 0, None)\n",
      "('B2-C1', 0, None)\n",
      "('B2-C2', 0, None)\n",
      "('B2-C3', 0, None)\n",
      "('B2-C4', 0, None)\n",
      "('B2-C5', 0, None)\n",
      "('B2-C6', 0, None)\n",
      "('B2-C7', 0, None)\n",
      "('B2-C8', 0, None)\n",
      "('B2-C9', 0, None)\n",
      "('B2-C10', 0, None)\n",
      "('B2-D1', 0, None)\n",
      "('B2-D2', 0, None)\n",
      "('B2-D3', 0, None)\n",
      "('B2-D4', 0, None)\n",
      "('B2-D5', 0, None)\n",
      "('B2-D6', 0, None)\n",
      "('B2-D7', 0, None)\n",
      "('B2-D8', 0, None)\n",
      "('B2-D9', 0, None)\n",
      "('B2-D10', 0, None)\n",
      "('B2-E1', 0, None)\n",
      "('B2-E2', 0, None)\n",
      "('B2-E3', 0, None)\n",
      "('B2-E4', 0, None)\n",
      "('B2-E5', 0, None)\n",
      "('B2-E6', 0, None)\n",
      "('B2-E7', 0, None)\n",
      "('B2-E8', 0, None)\n",
      "('B2-E9', 0, None)\n",
      "('B2-E10', 0, None)\n",
      "('B2-F1', 0, None)\n",
      "('B2-F2', 0, None)\n",
      "('B2-F3', 0, None)\n",
      "('B2-F4', 0, None)\n",
      "('B2-F5', 0, None)\n",
      "('B2-F6', 0, None)\n",
      "('B2-F7', 0, None)\n",
      "('B2-F8', 0, None)\n",
      "('B2-F9', 0, None)\n",
      "('B2-F10', 0, None)\n",
      "('B2-G1', 0, None)\n",
      "('B2-G2', 0, None)\n",
      "('B2-G3', 0, None)\n",
      "('B2-G4', 0, None)\n",
      "('B2-G5', 0, None)\n",
      "('B2-G6', 0, None)\n",
      "('B2-G7', 0, None)\n",
      "('B2-G8', 0, None)\n",
      "('B2-G9', 0, None)\n",
      "('B2-G10', 0, None)\n",
      "('B2-H1', 0, None)\n",
      "('B2-H2', 0, None)\n",
      "('B2-H3', 0, None)\n",
      "('B2-H4', 0, None)\n",
      "('B2-H5', 0, None)\n",
      "('B2-H6', 0, None)\n",
      "('B2-H7', 0, None)\n",
      "('B2-H8', 0, None)\n",
      "('B2-H9', 0, None)\n",
      "('B2-H10', 0, None)\n",
      "('B2-I1', 0, None)\n",
      "('B2-I2', 0, None)\n",
      "('B2-I3', 0, None)\n",
      "('B2-I4', 0, None)\n",
      "('B2-I5', 0, None)\n",
      "('B2-I6', 0, None)\n",
      "('B2-I7', 0, None)\n",
      "('B2-I8', 0, None)\n",
      "('B2-I9', 0, None)\n",
      "('B2-I10', 0, None)\n",
      "('B2-J1', 0, None)\n",
      "('B2-J2', 0, None)\n",
      "('B2-J3', 0, None)\n",
      "('B2-J4', 0, None)\n",
      "('B2-J5', 0, None)\n",
      "('B2-J6', 0, None)\n",
      "('B2-J7', 0, None)\n",
      "('B2-J8', 0, None)\n",
      "('B2-J9', 0, None)\n",
      "('B2-J10', 0, None)\n",
      "('B3-A1', 0, None)\n",
      "('B3-A2', 0, None)\n",
      "('B3-A3', 0, None)\n",
      "('B3-A4', 0, None)\n",
      "('B3-A5', 0, None)\n",
      "('B3-A6', 0, None)\n",
      "('B3-A7', 0, None)\n",
      "('B3-A8', 0, None)\n",
      "('B3-A9', 0, None)\n",
      "('B3-A10', 0, None)\n",
      "('B3-B1', 0, None)\n",
      "('B3-B2', 0, None)\n",
      "('B3-B3', 0, None)\n",
      "('B3-B4', 0, None)\n",
      "('B3-B5', 0, None)\n",
      "('B3-B6', 0, None)\n",
      "('B3-B7', 0, None)\n",
      "('B3-B8', 0, None)\n",
      "('B3-B9', 0, None)\n",
      "('B3-B10', 0, None)\n",
      "('B3-C1', 0, None)\n",
      "('B3-C2', 0, None)\n",
      "('B3-C3', 0, None)\n",
      "('B3-C4', 0, None)\n",
      "('B3-C5', 0, None)\n",
      "('B3-C6', 0, None)\n",
      "('B3-C7', 0, None)\n",
      "('B3-C8', 0, None)\n",
      "('B3-C9', 0, None)\n",
      "('B3-C10', 0, None)\n",
      "('B3-D1', 0, None)\n",
      "('B3-D2', 0, None)\n",
      "('B3-D3', 0, None)\n",
      "('B3-D4', 0, None)\n",
      "('B3-D5', 0, None)\n",
      "('B3-D6', 0, None)\n",
      "('B3-D7', 0, None)\n",
      "('B3-D8', 0, None)\n",
      "('B3-D9', 0, None)\n",
      "('B3-D10', 0, None)\n",
      "('B3-E1', 0, None)\n",
      "('B3-E2', 0, None)\n",
      "('B3-E3', 0, None)\n",
      "('B3-E4', 0, None)\n",
      "('B3-E5', 0, None)\n",
      "('B3-E6', 0, None)\n",
      "('B3-E7', 0, None)\n",
      "('B3-E8', 0, None)\n",
      "('B3-E9', 0, None)\n",
      "('B3-E10', 0, None)\n",
      "('B3-F1', 0, None)\n",
      "('B3-F2', 0, None)\n",
      "('B3-F3', 0, None)\n",
      "('B3-F4', 0, None)\n",
      "('B3-F5', 0, None)\n",
      "('B3-F6', 0, None)\n",
      "('B3-F7', 0, None)\n",
      "('B3-F8', 0, None)\n",
      "('B3-F9', 0, None)\n",
      "('B3-F10', 0, None)\n",
      "('B3-G1', 0, None)\n",
      "('B3-G2', 0, None)\n",
      "('B3-G3', 0, None)\n",
      "('B3-G4', 0, None)\n",
      "('B3-G5', 0, None)\n",
      "('B3-G6', 0, None)\n",
      "('B3-G7', 0, None)\n",
      "('B3-G8', 0, None)\n",
      "('B3-G9', 0, None)\n",
      "('B3-G10', 0, None)\n",
      "('B3-H1', 0, None)\n",
      "('B3-H2', 0, None)\n",
      "('B3-H3', 0, None)\n",
      "('B3-H4', 0, None)\n",
      "('B3-H5', 0, None)\n",
      "('B3-H6', 0, None)\n",
      "('B3-H7', 0, None)\n",
      "('B3-H8', 0, None)\n",
      "('B3-H9', 0, None)\n",
      "('B3-H10', 0, None)\n",
      "('B3-I1', 0, None)\n",
      "('B3-I2', 0, None)\n",
      "('B3-I3', 0, None)\n",
      "('B3-I4', 0, None)\n",
      "('B3-I5', 0, None)\n",
      "('B3-I6', 0, None)\n",
      "('B3-I7', 0, None)\n",
      "('B3-I8', 0, None)\n",
      "('B3-I9', 0, None)\n",
      "('B3-I10', 0, None)\n",
      "('B3-J1', 0, None)\n",
      "('B3-J2', 0, None)\n",
      "('B3-J3', 0, None)\n",
      "('B3-J4', 0, None)\n",
      "('B3-J5', 0, None)\n",
      "('B3-J6', 0, None)\n",
      "('B3-J7', 0, None)\n",
      "('B3-J8', 0, None)\n",
      "('B3-J9', 0, None)\n",
      "('B3-J10', 0, None)\n"
     ]
    }
   ],
   "source": [
    "# SQL 쿼리 실행은 cur.execute로 함\n",
    "cur.execute(\"select * from PARKINGLOT_LIST\")\n",
    "\n",
    "# 데이타 Fetch\n",
    "rows = cur.fetchall()\n",
    "for row in rows:\n",
    "    print(row)"
   ]
  },
  {
   "cell_type": "code",
   "execution_count": 29,
   "metadata": {},
   "outputs": [
    {
     "data": {
      "text/plain": [
       "<sqlite3.Cursor at 0x199955b3030>"
      ]
     },
     "execution_count": 29,
     "metadata": {},
     "output_type": "execute_result"
    }
   ],
   "source": [
    "cur.execute(\"SELECT * FROM CUSTOMER_LIST WHERE Customer_car_num LIKE '89오%'\")"
   ]
  },
  {
   "cell_type": "code",
   "execution_count": 30,
   "metadata": {},
   "outputs": [
    {
     "name": "stdout",
     "output_type": "stream",
     "text": [
      "('89오2622', 'MasterCard 3655-7342-6203-9308', 'KANG SEO SEOK')\n"
     ]
    }
   ],
   "source": [
    "# 데이타 Fetch\n",
    "rows = cur.fetchall()\n",
    "for row in rows:\n",
    "    print(row)"
   ]
  },
  {
   "cell_type": "code",
   "execution_count": 47,
   "metadata": {},
   "outputs": [
    {
     "data": {
      "text/plain": [
       "<sqlite3.Cursor at 0x199955b3030>"
      ]
     },
     "execution_count": 47,
     "metadata": {},
     "output_type": "execute_result"
    }
   ],
   "source": [
    "cur.execute(\"SELECT * FROM CUSTOMER_LIST WHERE Customer_car_num = '70우7253'\")"
   ]
  },
  {
   "cell_type": "code",
   "execution_count": 48,
   "metadata": {},
   "outputs": [
    {
     "name": "stdout",
     "output_type": "stream",
     "text": [
      "('70우7253',)\n"
     ]
    }
   ],
   "source": [
    "# 데이타 Fetch\n",
    "rows = cur.fetchall()\n",
    "for row in rows:\n",
    "    print(row)"
   ]
  },
  {
   "cell_type": "code",
   "execution_count": 53,
   "metadata": {
    "scrolled": true
   },
   "outputs": [
    {
     "name": "stdout",
     "output_type": "stream",
     "text": [
      "['00저0234', '04보5489', '06보2942', '08거8462', '10어3621', '11허6306', '12가1234', '12자7883', '15허7246', '18고0741', '19로5462', '19하4743', '26도9148', '26라0373', '30모5472', '32러8533', '33조7704', '38로2985', '41다8603', '42마8085', '42버2438', '44무2954', '46사2479', '49루0663', '50거6064', '53어8987', '55어5873', '57주9582', '61누9952', '63두4202', '63조1349', '64러4617', '67주9198', '69부1494', '70우7253', '73거8486', '75호2168', '78도7807', '78주5458', '81무6102', '83조6367', '86머5779', '86소8166', '89배6852', '89오2622', '90더8969', '90바4515', '93로1919', '93마5409', '94다8918', '99머0331']\n",
      "['B1-A1', 'B1-A10', 'B1-A2', 'B1-A3', 'B1-A4', 'B1-A5', 'B1-A6', 'B1-A7', 'B1-A8', 'B1-A9', 'B1-B1', 'B1-B10', 'B1-B2', 'B1-B3', 'B1-B4', 'B1-B5', 'B1-B6', 'B1-B7', 'B1-B8', 'B1-B9', 'B1-C1', 'B1-C10', 'B1-C2', 'B1-C3', 'B1-C4', 'B1-C5', 'B1-C6', 'B1-C7', 'B1-C8', 'B1-C9', 'B1-D1', 'B1-D10', 'B1-D2', 'B1-D3', 'B1-D4', 'B1-D5', 'B1-D6', 'B1-D7', 'B1-D8', 'B1-D9', 'B1-E1', 'B1-E10', 'B1-E2', 'B1-E3', 'B1-E4', 'B1-E5', 'B1-E6', 'B1-E7', 'B1-E8', 'B1-E9', 'B1-F1', 'B1-F10', 'B1-F2', 'B1-F3', 'B1-F4', 'B1-F5', 'B1-F6', 'B1-F7', 'B1-F8', 'B1-F9', 'B1-G1', 'B1-G10', 'B1-G2', 'B1-G3', 'B1-G4', 'B1-G5', 'B1-G6', 'B1-G7', 'B1-G8', 'B1-G9', 'B1-H1', 'B1-H10', 'B1-H2', 'B1-H3', 'B1-H4', 'B1-H5', 'B1-H6', 'B1-H7', 'B1-H8', 'B1-H9', 'B1-I1', 'B1-I10', 'B1-I2', 'B1-I3', 'B1-I4', 'B1-I5', 'B1-I6', 'B1-I7', 'B1-I8', 'B1-I9', 'B1-J1', 'B1-J10', 'B1-J2', 'B1-J3', 'B1-J4', 'B1-J5', 'B1-J6', 'B1-J7', 'B1-J8', 'B1-J9', 'B2-A1', 'B2-A10', 'B2-A2', 'B2-A3', 'B2-A4', 'B2-A5', 'B2-A6', 'B2-A7', 'B2-A8', 'B2-A9', 'B2-B1', 'B2-B10', 'B2-B2', 'B2-B3', 'B2-B4', 'B2-B5', 'B2-B6', 'B2-B7', 'B2-B8', 'B2-B9', 'B2-C1', 'B2-C10', 'B2-C2', 'B2-C3', 'B2-C4', 'B2-C5', 'B2-C6', 'B2-C7', 'B2-C8', 'B2-C9', 'B2-D1', 'B2-D10', 'B2-D2', 'B2-D3', 'B2-D4', 'B2-D5', 'B2-D6', 'B2-D7', 'B2-D8', 'B2-D9', 'B2-E1', 'B2-E10', 'B2-E2', 'B2-E3', 'B2-E4', 'B2-E5', 'B2-E6', 'B2-E7', 'B2-E8', 'B2-E9', 'B2-F1', 'B2-F10', 'B2-F2', 'B2-F3', 'B2-F4', 'B2-F5', 'B2-F6', 'B2-F7', 'B2-F8', 'B2-F9', 'B2-G1', 'B2-G10', 'B2-G2', 'B2-G3', 'B2-G4', 'B2-G5', 'B2-G6', 'B2-G7', 'B2-G8', 'B2-G9', 'B2-H1', 'B2-H10', 'B2-H2', 'B2-H3', 'B2-H4', 'B2-H5', 'B2-H6', 'B2-H7', 'B2-H8', 'B2-H9', 'B2-I1', 'B2-I10', 'B2-I2', 'B2-I3', 'B2-I4', 'B2-I5', 'B2-I6', 'B2-I7', 'B2-I8', 'B2-I9', 'B2-J1', 'B2-J10', 'B2-J2', 'B2-J3', 'B2-J4', 'B2-J5', 'B2-J6', 'B2-J7', 'B2-J8', 'B2-J9', 'B3-A1', 'B3-A10', 'B3-A2', 'B3-A3', 'B3-A4', 'B3-A5', 'B3-A6', 'B3-A7', 'B3-A8', 'B3-A9', 'B3-B1', 'B3-B10', 'B3-B2', 'B3-B3', 'B3-B4', 'B3-B5', 'B3-B6', 'B3-B7', 'B3-B8', 'B3-B9', 'B3-C1', 'B3-C10', 'B3-C2', 'B3-C3', 'B3-C4', 'B3-C5', 'B3-C6', 'B3-C7', 'B3-C8', 'B3-C9', 'B3-D1', 'B3-D10', 'B3-D2', 'B3-D3', 'B3-D4', 'B3-D5', 'B3-D6', 'B3-D7', 'B3-D8', 'B3-D9', 'B3-E1', 'B3-E10', 'B3-E2', 'B3-E3', 'B3-E4', 'B3-E5', 'B3-E6', 'B3-E7', 'B3-E8', 'B3-E9', 'B3-F1', 'B3-F10', 'B3-F2', 'B3-F3', 'B3-F4', 'B3-F5', 'B3-F6', 'B3-F7', 'B3-F8', 'B3-F9', 'B3-G1', 'B3-G10', 'B3-G2', 'B3-G3', 'B3-G4', 'B3-G5', 'B3-G6', 'B3-G7', 'B3-G8', 'B3-G9', 'B3-H1', 'B3-H10', 'B3-H2', 'B3-H3', 'B3-H4', 'B3-H5', 'B3-H6', 'B3-H7', 'B3-H8', 'B3-H9', 'B3-I1', 'B3-I10', 'B3-I2', 'B3-I3', 'B3-I4', 'B3-I5', 'B3-I6', 'B3-I7', 'B3-I8', 'B3-I9', 'B3-J1', 'B3-J10', 'B3-J2', 'B3-J3', 'B3-J4', 'B3-J5', 'B3-J6', 'B3-J7', 'B3-J8', 'B3-J9']\n"
     ]
    }
   ],
   "source": [
    "\n",
    "    \n",
    "    \n",
    "    \n",
    "# Excute\n",
    "cur.execute('SELECT Parking_spot FROM PARKINGLOT_LIST') \n",
    "pklt_list = []\n",
    "\n",
    "for row in cur:\n",
    "    pklt_list.append(row[0])\n",
    "print(pklt_list)"
   ]
  },
  {
   "cell_type": "code",
   "execution_count": 8,
   "metadata": {},
   "outputs": [
    {
     "name": "stdout",
     "output_type": "stream",
     "text": [
      "2017-12-31\n",
      "11:58:02 AM\n",
      "12/08/2018 05:48:53 PM\n"
     ]
    }
   ],
   "source": [
    "import random\n",
    "import time\n",
    "\n",
    "def strDateProp(start, end, format, prop):\n",
    "    \"\"\"Get a time at a proportion of a range of two formatted times.\n",
    "\n",
    "    start and end should be strings specifying times formated in the\n",
    "    given format (strftime-style), giving an interval [start, end].\n",
    "    prop specifies how a proportion of the interval to be taken after\n",
    "    start.  The returned time will be in the specified format.\n",
    "    \"\"\"\n",
    "\n",
    "    sdate = time.mktime(time.strptime(start, format))\n",
    "    edate = time.mktime(time.strptime(end, format))\n",
    "    pdate = sdate + prop * (edate - sdate)\n",
    "\n",
    "    return time.strftime(format, time.localtime(pdate))\n",
    "\n",
    "\n",
    "\n",
    "\n",
    "def strTimeProp(start, end, format, prop, date):\n",
    "    \"\"\"Get a time at a proportion of a range of two formatted times.\n",
    "\n",
    "    start and end should be strings specifying times formated in the\n",
    "    given format (strftime-style), giving an interval [start, end].\n",
    "    prop specifies how a proportion of the interval to be taken after\n",
    "    start.  The returned time will be in the specified format.\n",
    "    \"\"\"\n",
    "    start_dt = date + ' ' + start\n",
    "    end_dt = date + ' ' + end\n",
    "    stime = time.mktime(time.strptime(start_dt, '%m/%d/%Y %I:%M:%S %p'))\n",
    "    etime = time.mktime(time.strptime(end_dt, '%m/%d/%Y %I:%M:%S %p'))\n",
    "    ptime = stime + prop * (etime - stime)\n",
    "\n",
    "    return time.strftime(format, time.localtime(ptime))\n",
    "\n",
    "\n",
    "\n",
    "\n",
    "def randomDate(start, end, prop):\n",
    "    return strDateProp(start, end, '%Y-%m-%d', prop)\n",
    "print(randomDate(\"2016-01-01\", \"2018-11-22\", random.random()))\n",
    "\n",
    "\n",
    "def randomTime(start, end, format, prop, date = '1/1/2018'):\n",
    "    return strTimeProp(start, end, format, prop, date)\n",
    "# Open Hours : 11:00:00 AM to 11:00:00 PM\n",
    "print (randomTime(\"11:00:00 AM\", \"11:00:00 PM\", '%I:%M:%S %p', random.random()))\n",
    "print (randomTime(\"11:00:00 AM\", \"11:00:00 PM\", '%m/%d/%Y %I:%M:%S %p', random.random(), '12/8/2018'))"
   ]
  },
  {
   "cell_type": "code",
   "execution_count": 117,
   "metadata": {},
   "outputs": [],
   "source": [
    "##################################################################\n",
    "def mk_sample_spay(spay_num, start_date, end_date, open_time, close_time, cnum_list):\n",
    "    '''\n",
    "    Make sample tuples of SHOPPING_PAY and insert them to SHOPPING_PAY\n",
    "    SHOPPING_PAY = {Spay_id, Customer_car_num, Shopping_pay_amount, Shopping_pay_time}\n",
    "    # Format of parameters \n",
    "      spay_num : int, \n",
    "      start_date, end_date : str'%Y-%m-%d' \n",
    "      open_time, close_time : str '%I:%M:%S %p'\n",
    "      cnum_list : list of Customer_car_num\n",
    "    '''\n",
    "    for i in range (spay_num):\n",
    "        cur.execute(\"INSERT INTO SHOPPING_PAY(Customer_car_num, Shopping_pay_amount, Shopping_pay_time) VALUES('\"\n",
    "                    + cnum_list[random.randrange(len(cnum_list))] \n",
    "                    + \"',\" + str((random.randrange(10,30000))*10)\n",
    "                    + \",'\" + randomDate(start_date, end_date, random.random()) + ' '\n",
    "                    + randomTime(open_time, close_time, random.random())+\"')\")\n",
    "    return 0\n"
   ]
  },
  {
   "cell_type": "code",
   "execution_count": 121,
   "metadata": {
    "scrolled": true
   },
   "outputs": [
    {
     "data": {
      "text/plain": [
       "0"
      ]
     },
     "execution_count": 121,
     "metadata": {},
     "output_type": "execute_result"
    }
   ],
   "source": [
    "# Get Customer_car_num list\n",
    "cur.execute('SELECT Customer_car_num FROM CUSTOMER_LIST') \n",
    "cnum_list = []\n",
    "for row in cur:\n",
    "    cnum_list.append(row[0])\n",
    "    \n",
    "# Make Sample tuples and insert them into SHOPPING_PAY table \n",
    "sample_data_num = 20\n",
    "start_date = \"2016-01-01\"\n",
    "end_date = \"2018-11-22\"\n",
    "open_time = \"11:00:00 AM\"\n",
    "close_time = \"11:00:00 PM\"\n",
    "mk_sample_spay(sample_data_num, start_date, end_date, open_time, close_time, cnum_list)"
   ]
  },
  {
   "cell_type": "code",
   "execution_count": 122,
   "metadata": {
    "scrolled": true
   },
   "outputs": [
    {
     "name": "stdout",
     "output_type": "stream",
     "text": [
      "(1, '81무6102', 70780, '2016-01-27 04:39:30 PM')\n",
      "(2, '00저0234', 277390, '2017-07-10 11:47:50 AM')\n",
      "(3, '11허6306', 224980, '2018-09-29 10:05:43 PM')\n",
      "(4, '53어8987', 2200, '2017-01-16 12:23:37 PM')\n",
      "(5, '00저0234', 88680, '2018-07-11 07:23:46 PM')\n",
      "(6, '90바4515', 295240, '2016-08-27 08:01:09 PM')\n",
      "(7, '41다8603', 62750, '2016-04-21 04:31:50 PM')\n",
      "(8, '44무2954', 125970, '2016-06-26 04:03:37 PM')\n",
      "(9, '89배6852', 142720, '2016-06-05 10:11:55 PM')\n",
      "(10, '18고0741', 171850, '2016-11-29 01:30:23 PM')\n",
      "(11, '19하4743', 145630, '2017-01-03 10:48:06 PM')\n",
      "(12, '57주9582', 264480, '2017-06-03 07:45:26 PM')\n",
      "(13, '99머0331', 64380, '2017-04-08 01:27:04 PM')\n",
      "(14, '90더8969', 16410, '2018-08-14 11:23:57 AM')\n",
      "(15, '83조6367', 27840, '2018-07-08 03:21:47 PM')\n",
      "(16, '93로1919', 209180, '2017-12-16 01:47:48 PM')\n",
      "(17, '42마8085', 200800, '2016-04-01 09:25:34 PM')\n",
      "(18, '93마5409', 93300, '2018-03-25 09:35:43 PM')\n",
      "(19, '55어5873', 150270, '2016-02-26 07:21:41 PM')\n",
      "(20, '86소8166', 212600, '2018-10-05 10:09:25 PM')\n"
     ]
    }
   ],
   "source": [
    "# SQL 쿼리 실행은 cur.execute로 함\n",
    "cur.execute(\"select * from SHOPPING_PAY\")\n",
    "\n",
    "# 데이타 Fetch\n",
    "rows = cur.fetchall()\n",
    "for row in rows:\n",
    "    print(row)"
   ]
  },
  {
   "cell_type": "code",
   "execution_count": 127,
   "metadata": {},
   "outputs": [
    {
     "name": "stdout",
     "output_type": "stream",
     "text": [
      "['a', 'b']\n",
      "h\n",
      "5\n"
     ]
    }
   ],
   "source": [
    "alist = [['a','b'],['c','d'],['e','f'],['g','h'],['i','j']]\n",
    "print(alist[0])\n",
    "print(alist[3][1])\n",
    "print(len(alist))"
   ]
  },
  {
   "cell_type": "code",
   "execution_count": 184,
   "metadata": {},
   "outputs": [
    {
     "name": "stdout",
     "output_type": "stream",
     "text": [
      "[['04:39:30', 'PM'], ['11:47:50', 'AM'], ['10:05:43', 'PM'], ['12:23:37', 'PM'], ['07:23:46', 'PM'], ['08:01:09', 'PM'], ['04:31:50', 'PM'], ['04:03:37', 'PM'], ['10:11:55', 'PM'], ['01:30:23', 'PM'], ['10:48:06', 'PM'], ['07:45:26', 'PM'], ['01:27:04', 'PM'], ['11:23:57', 'AM'], ['03:21:47', 'PM'], ['01:47:48', 'PM'], ['09:25:34', 'PM'], ['09:35:43', 'PM'], ['07:21:41', 'PM'], ['10:09:25', 'PM']]\n",
      "['04:39:30 PM', '11:47:50 AM', '10:05:43 PM', '12:23:37 PM', '07:23:46 PM', '08:01:09 PM', '04:31:50 PM', '04:03:37 PM', '10:11:55 PM', '01:30:23 PM', '10:48:06 PM', '07:45:26 PM', '01:27:04 PM', '11:23:57 AM', '03:21:47 PM', '01:47:48 PM', '09:25:34 PM', '09:35:43 PM', '07:21:41 PM', '10:09:25 PM']\n"
     ]
    }
   ],
   "source": [
    "# SQL 쿼리 실행은 cur.execute로 함\n",
    "cur.execute(\"select * from SHOPPING_PAY\")\n",
    "\n",
    "# 데이타 Fetch\n",
    "rows = cur.fetchall()\n",
    "\n",
    "ss = [[r[0],r[1],r[2], r[3]] for r in rows]\n",
    "times = [t[3].split()[1:] for t in ss]\n",
    "print(times)\n",
    "\n",
    "timestr = [' '.join(t) for t in times]\n",
    "print(timestr)"
   ]
  },
  {
   "cell_type": "code",
   "execution_count": 193,
   "metadata": {},
   "outputs": [
    {
     "data": {
      "text/plain": [
       "time.struct_time(tm_year=2018, tm_mon=11, tm_mday=22, tm_hour=11, tm_min=30, tm_sec=0, tm_wday=3, tm_yday=326, tm_isdst=-1)"
      ]
     },
     "execution_count": 193,
     "metadata": {},
     "output_type": "execute_result"
    }
   ],
   "source": [
    "# string to to time.struct_time\n",
    "time.strptime(\"2018-11-22 11:30:00 AM\",'%Y-%m-%d %I:%M:%S %p')"
   ]
  },
  {
   "cell_type": "code",
   "execution_count": 228,
   "metadata": {},
   "outputs": [
    {
     "name": "stdout",
     "output_type": "stream",
     "text": [
      "2012-11-22\n",
      "2018-11-21\n",
      "<class 'str'>\n"
     ]
    }
   ],
   "source": [
    "import datetime\n",
    "adate = datetime.datetime.strptime(\"23.10.2012\", \"%d.%m.%Y\").date()\n",
    "print(adate + datetime.timedelta(days=30))\n",
    "atime = datetime.datetime.strptime(\"2018-11-22 11:30:00 AM\",'%Y-%m-%d %I:%M:%S %p').date()\n",
    "aaaa = 12\n",
    "print(atime + datetime.timedelta(hours=-aaaa))\n",
    "print(type(str(atime + datetime.timedelta(hours=-aaaa))))"
   ]
  },
  {
   "cell_type": "code",
   "execution_count": 205,
   "metadata": {},
   "outputs": [
    {
     "data": {
      "text/plain": [
       "['B1-A1',\n",
       " 'B1-A10',\n",
       " 'B1-A2',\n",
       " 'B1-A3',\n",
       " 'B1-A4',\n",
       " 'B1-A5',\n",
       " 'B1-A6',\n",
       " 'B1-A7',\n",
       " 'B1-A8',\n",
       " 'B1-A9',\n",
       " 'B1-B1',\n",
       " 'B1-B10',\n",
       " 'B1-B2',\n",
       " 'B1-B3',\n",
       " 'B1-B4',\n",
       " 'B1-B5',\n",
       " 'B1-B6',\n",
       " 'B1-B7',\n",
       " 'B1-B8',\n",
       " 'B1-B9',\n",
       " 'B1-C1',\n",
       " 'B1-C10',\n",
       " 'B1-C2',\n",
       " 'B1-C3',\n",
       " 'B1-C4',\n",
       " 'B1-C5',\n",
       " 'B1-C6',\n",
       " 'B1-C7',\n",
       " 'B1-C8',\n",
       " 'B1-C9',\n",
       " 'B1-D1',\n",
       " 'B1-D10',\n",
       " 'B1-D2',\n",
       " 'B1-D3',\n",
       " 'B1-D4',\n",
       " 'B1-D5',\n",
       " 'B1-D6',\n",
       " 'B1-D7',\n",
       " 'B1-D8',\n",
       " 'B1-D9',\n",
       " 'B1-E1',\n",
       " 'B1-E10',\n",
       " 'B1-E2',\n",
       " 'B1-E3',\n",
       " 'B1-E4',\n",
       " 'B1-E5',\n",
       " 'B1-E6',\n",
       " 'B1-E7',\n",
       " 'B1-E8',\n",
       " 'B1-E9',\n",
       " 'B1-F1',\n",
       " 'B1-F10',\n",
       " 'B1-F2',\n",
       " 'B1-F3',\n",
       " 'B1-F4',\n",
       " 'B1-F5',\n",
       " 'B1-F6',\n",
       " 'B1-F7',\n",
       " 'B1-F8',\n",
       " 'B1-F9',\n",
       " 'B1-G1',\n",
       " 'B1-G10',\n",
       " 'B1-G2',\n",
       " 'B1-G3',\n",
       " 'B1-G4',\n",
       " 'B1-G5',\n",
       " 'B1-G6',\n",
       " 'B1-G7',\n",
       " 'B1-G8',\n",
       " 'B1-G9',\n",
       " 'B1-H1',\n",
       " 'B1-H10',\n",
       " 'B1-H2',\n",
       " 'B1-H3',\n",
       " 'B1-H4',\n",
       " 'B1-H5',\n",
       " 'B1-H6',\n",
       " 'B1-H7',\n",
       " 'B1-H8',\n",
       " 'B1-H9',\n",
       " 'B1-I1',\n",
       " 'B1-I10',\n",
       " 'B1-I2',\n",
       " 'B1-I3',\n",
       " 'B1-I4',\n",
       " 'B1-I5',\n",
       " 'B1-I6',\n",
       " 'B1-I7',\n",
       " 'B1-I8',\n",
       " 'B1-I9',\n",
       " 'B1-J1',\n",
       " 'B1-J10',\n",
       " 'B1-J2',\n",
       " 'B1-J3',\n",
       " 'B1-J4',\n",
       " 'B1-J5',\n",
       " 'B1-J6',\n",
       " 'B1-J7',\n",
       " 'B1-J8',\n",
       " 'B1-J9',\n",
       " 'B2-A1',\n",
       " 'B2-A10',\n",
       " 'B2-A2',\n",
       " 'B2-A3',\n",
       " 'B2-A4',\n",
       " 'B2-A5',\n",
       " 'B2-A6',\n",
       " 'B2-A7',\n",
       " 'B2-A8',\n",
       " 'B2-A9',\n",
       " 'B2-B1',\n",
       " 'B2-B10',\n",
       " 'B2-B2',\n",
       " 'B2-B3',\n",
       " 'B2-B4',\n",
       " 'B2-B5',\n",
       " 'B2-B6',\n",
       " 'B2-B7',\n",
       " 'B2-B8',\n",
       " 'B2-B9',\n",
       " 'B2-C1',\n",
       " 'B2-C10',\n",
       " 'B2-C2',\n",
       " 'B2-C3',\n",
       " 'B2-C4',\n",
       " 'B2-C5',\n",
       " 'B2-C6',\n",
       " 'B2-C7',\n",
       " 'B2-C8',\n",
       " 'B2-C9',\n",
       " 'B2-D1',\n",
       " 'B2-D10',\n",
       " 'B2-D2',\n",
       " 'B2-D3',\n",
       " 'B2-D4',\n",
       " 'B2-D5',\n",
       " 'B2-D6',\n",
       " 'B2-D7',\n",
       " 'B2-D8',\n",
       " 'B2-D9',\n",
       " 'B2-E1',\n",
       " 'B2-E10',\n",
       " 'B2-E2',\n",
       " 'B2-E3',\n",
       " 'B2-E4',\n",
       " 'B2-E5',\n",
       " 'B2-E6',\n",
       " 'B2-E7',\n",
       " 'B2-E8',\n",
       " 'B2-E9',\n",
       " 'B2-F1',\n",
       " 'B2-F10',\n",
       " 'B2-F2',\n",
       " 'B2-F3',\n",
       " 'B2-F4',\n",
       " 'B2-F5',\n",
       " 'B2-F6',\n",
       " 'B2-F7',\n",
       " 'B2-F8',\n",
       " 'B2-F9',\n",
       " 'B2-G1',\n",
       " 'B2-G10',\n",
       " 'B2-G2',\n",
       " 'B2-G3',\n",
       " 'B2-G4',\n",
       " 'B2-G5',\n",
       " 'B2-G6',\n",
       " 'B2-G7',\n",
       " 'B2-G8',\n",
       " 'B2-G9',\n",
       " 'B2-H1',\n",
       " 'B2-H10',\n",
       " 'B2-H2',\n",
       " 'B2-H3',\n",
       " 'B2-H4',\n",
       " 'B2-H5',\n",
       " 'B2-H6',\n",
       " 'B2-H7',\n",
       " 'B2-H8',\n",
       " 'B2-H9',\n",
       " 'B2-I1',\n",
       " 'B2-I10',\n",
       " 'B2-I2',\n",
       " 'B2-I3',\n",
       " 'B2-I4',\n",
       " 'B2-I5',\n",
       " 'B2-I6',\n",
       " 'B2-I7',\n",
       " 'B2-I8',\n",
       " 'B2-I9',\n",
       " 'B2-J1',\n",
       " 'B2-J10',\n",
       " 'B2-J2',\n",
       " 'B2-J3',\n",
       " 'B2-J4',\n",
       " 'B2-J5',\n",
       " 'B2-J6',\n",
       " 'B2-J7',\n",
       " 'B2-J8',\n",
       " 'B2-J9',\n",
       " 'B3-A1',\n",
       " 'B3-A10',\n",
       " 'B3-A2',\n",
       " 'B3-A3',\n",
       " 'B3-A4',\n",
       " 'B3-A5',\n",
       " 'B3-A6',\n",
       " 'B3-A7',\n",
       " 'B3-A8',\n",
       " 'B3-A9',\n",
       " 'B3-B1',\n",
       " 'B3-B10',\n",
       " 'B3-B2',\n",
       " 'B3-B3',\n",
       " 'B3-B4',\n",
       " 'B3-B5',\n",
       " 'B3-B6',\n",
       " 'B3-B7',\n",
       " 'B3-B8',\n",
       " 'B3-B9',\n",
       " 'B3-C1',\n",
       " 'B3-C10',\n",
       " 'B3-C2',\n",
       " 'B3-C3',\n",
       " 'B3-C4',\n",
       " 'B3-C5',\n",
       " 'B3-C6',\n",
       " 'B3-C7',\n",
       " 'B3-C8',\n",
       " 'B3-C9',\n",
       " 'B3-D1',\n",
       " 'B3-D10',\n",
       " 'B3-D2',\n",
       " 'B3-D3',\n",
       " 'B3-D4',\n",
       " 'B3-D5',\n",
       " 'B3-D6',\n",
       " 'B3-D7',\n",
       " 'B3-D8',\n",
       " 'B3-D9',\n",
       " 'B3-E1',\n",
       " 'B3-E10',\n",
       " 'B3-E2',\n",
       " 'B3-E3',\n",
       " 'B3-E4',\n",
       " 'B3-E5',\n",
       " 'B3-E6',\n",
       " 'B3-E7',\n",
       " 'B3-E8',\n",
       " 'B3-E9',\n",
       " 'B3-F1',\n",
       " 'B3-F10',\n",
       " 'B3-F2',\n",
       " 'B3-F3',\n",
       " 'B3-F4',\n",
       " 'B3-F5',\n",
       " 'B3-F6',\n",
       " 'B3-F7',\n",
       " 'B3-F8',\n",
       " 'B3-F9',\n",
       " 'B3-G1',\n",
       " 'B3-G10',\n",
       " 'B3-G2',\n",
       " 'B3-G3',\n",
       " 'B3-G4',\n",
       " 'B3-G5',\n",
       " 'B3-G6',\n",
       " 'B3-G7',\n",
       " 'B3-G8',\n",
       " 'B3-G9',\n",
       " 'B3-H1',\n",
       " 'B3-H10',\n",
       " 'B3-H2',\n",
       " 'B3-H3',\n",
       " 'B3-H4',\n",
       " 'B3-H5',\n",
       " 'B3-H6',\n",
       " 'B3-H7',\n",
       " 'B3-H8',\n",
       " 'B3-H9',\n",
       " 'B3-I1',\n",
       " 'B3-I10',\n",
       " 'B3-I2',\n",
       " 'B3-I3',\n",
       " 'B3-I4',\n",
       " 'B3-I5',\n",
       " 'B3-I6',\n",
       " 'B3-I7',\n",
       " 'B3-I8',\n",
       " 'B3-I9',\n",
       " 'B3-J1',\n",
       " 'B3-J10',\n",
       " 'B3-J2',\n",
       " 'B3-J3',\n",
       " 'B3-J4',\n",
       " 'B3-J5',\n",
       " 'B3-J6',\n",
       " 'B3-J7',\n",
       " 'B3-J8',\n",
       " 'B3-J9']"
      ]
     },
     "execution_count": 205,
     "metadata": {},
     "output_type": "execute_result"
    }
   ],
   "source": [
    "pklt_list"
   ]
  },
  {
   "cell_type": "code",
   "execution_count": 219,
   "metadata": {},
   "outputs": [],
   "source": [
    "##################################################################\n",
    "# Get price from PRICE\n",
    "def get_price(cur):\n",
    "    cur.execute('SELECT * FROM PRICE') \n",
    "    price = []\n",
    "    for row in cur:\n",
    "        price.append(row[0])\n",
    "        price.append(row[1])\n",
    "    return price\n",
    "    \n",
    "# Get discount list from DISCOUNT\n",
    "def get_discount(cur):\n",
    "    cur.execute('SELECT * FROM DISCOUNT') \n",
    "    discount = []\n",
    "    for row in cur:\n",
    "        discount.append([row[0], row[1]])\n",
    "    return discount\n",
    "\n",
    "# Get spay_list[[Customer_car_num, Shopping_pay_amount, Shopping_pay_time]] from SHOPPING_PAY\n",
    "def get_spay(cur):\n",
    "    cur.execute('SELECT Customer_car_num, Shopping_pay_amount, Shopping_pay_time FROM SHOPPING_PAY') \n",
    "    spay = []\n",
    "    for row in cur:\n",
    "        spay.append([row[0], row[1],row[2]])\n",
    "    return spay\n",
    "\n",
    "def calculate_free_hour(spay_amount, discount):\n",
    "    '''\n",
    "    # Format of parameters \n",
    "      spay_amount : int\n",
    "      # discount is table of ['Shopping_pay_minimum','Free_hour']\n",
    "      discount : list [m][2] like  [[10000,1],[30000,2],[50000,3],[70000,4],[100000,5]]\n",
    "    '''\n",
    "    for i in range(len(discount)):\n",
    "        if spay_amount < discount[i][0]:\n",
    "            return discount[i][1]-1\n",
    "    return discount[i][1]\n",
    "\n",
    "    \n",
    "def calculate_price(minutes, price_list):\n",
    "    '''\n",
    "    price_list = [Unit_minute, Unit_price]\n",
    "    '''\n",
    "    t = int(minutes / price_list[0])\n",
    "    if (minutes % price_list[0] == 0):\n",
    "        return int(t * price_list[1])\n",
    "    else:\n",
    "        return int((t + 1) * price_list[1])\n",
    "    \n",
    "def diff_minute (start, end, format):\n",
    "    \"Convert time string to minutes\"\n",
    "    seconds = time.mktime(time.strptime(end,format)) - time.mktime(time.strptime(start,format))\n",
    "    minutes = int(seconds/60)\n",
    "    return minutes\n",
    "\n",
    "\n",
    "import datetime\n",
    "def mk_sample_ppay(open_time, close_time, spay_list, pklt_list, discount_list, price_list,format):\n",
    "    '''\n",
    "    Make sample tuples of PARK_PAY and insert them to PARK_PAY\n",
    "    PARK_PAY = {Ppay_id, Customer_car_num, Parking_spot, Park_in, Park_out, Park_free_hour, Park_pay_amount, Park_is_paid}\n",
    "    # Format of parameters \n",
    "      spay_list : [[Customer_car_num, Shopping_pay_amount, Shopping_pay_time]] \n",
    "      start_date, end_date : str'%Y-%m-%d' \n",
    "      open_time, close_time : str '%I:%M:%S %p'\n",
    "      cnum_list : list of Customer_car_num\n",
    "    '''\n",
    "    dates = [t[2].split()[0] for t in spay_list]\n",
    "    times = [t[2].split()[1:] for t in spay_list]\n",
    "    print(times)\n",
    "    sp_times = [' '.join(t) for t in times]\n",
    "    print(sp_times)\n",
    "    \n",
    "\n",
    "    # 당일주차만 한다고 가정함. 오늘 입차했으면 오늘 빼야 함\n",
    "    # 주차한 사람은 무조건 쇼핑했다고 가정함. 쇼핑을 하지 않는 거래처 화물차량 등 주차만 하는 차량은 제외.\n",
    "    # Start parking between open_time and shopping_pay_time (날짜 포함 안하고 시간만)\n",
    "    stimes = [randomTime(open_time, t, random.random()) for t in sp_times]\n",
    "    # End parking between shopping_pay_time and close_time (날짜 포함 안하고 시간만)\n",
    "    etimes = [randomTime(t, close_time, random.random()) for t in sp_times]\n",
    "    print(stimes)\n",
    "    print(etimes)\n",
    "    \n",
    "    # parking start datetime\n",
    "    p_start = [dates[i] + ' ' + stimes[i] for i in range(len(spay_list))]\n",
    "    # parking end datetime\n",
    "    p_end = [dates[i] + ' ' + etimes[i] for i in range(len(spay_list))]\n",
    "    # hours availble for free parking\n",
    "    f_hrs = [calculate_free_hour(spay_list[i][1], discount_list) for i in range(len(spay_list))]\n",
    "\n",
    "    for i in range (len(spay_list)):\n",
    "        cur.execute(\"INSERT INTO PARK_PAY(Customer_car_num, Parking_spot, Park_in, Park_out, Park_free_hour, Park_pay_amount, Park_is_paid) \"\n",
    "                    + \"VALUES('\"\n",
    "                    + spay_list[i][0] \n",
    "                    + \"','\" + pklt_list[i]\n",
    "                    + \"','\" + p_start[i]\n",
    "                    + \"','\" + p_end[i]\n",
    "                    + \"',\" + f_hrs[i]\n",
    "                    + \",\" + str(calculate_price(diff_minute (p_start[i], p_end[i] + datetime.timedelta(hours = - f_hrs[i]), format), price_list))\n",
    "                    + \",\" + str(1) + \")\")\n",
    "    return 0"
   ]
  },
  {
   "cell_type": "code",
   "execution_count": 222,
   "metadata": {},
   "outputs": [
    {
     "name": "stdout",
     "output_type": "stream",
     "text": [
      "[['81무6102', 70780, '2016-01-27 04:39:30 PM'], ['00저0234', 277390, '2017-07-10 11:47:50 AM'], ['11허6306', 224980, '2018-09-29 10:05:43 PM'], ['53어8987', 2200, '2017-01-16 12:23:37 PM'], ['00저0234', 88680, '2018-07-11 07:23:46 PM'], ['90바4515', 295240, '2016-08-27 08:01:09 PM'], ['41다8603', 62750, '2016-04-21 04:31:50 PM'], ['44무2954', 125970, '2016-06-26 04:03:37 PM'], ['89배6852', 142720, '2016-06-05 10:11:55 PM'], ['18고0741', 171850, '2016-11-29 01:30:23 PM'], ['19하4743', 145630, '2017-01-03 10:48:06 PM'], ['57주9582', 264480, '2017-06-03 07:45:26 PM'], ['99머0331', 64380, '2017-04-08 01:27:04 PM'], ['90더8969', 16410, '2018-08-14 11:23:57 AM'], ['83조6367', 27840, '2018-07-08 03:21:47 PM'], ['93로1919', 209180, '2017-12-16 01:47:48 PM'], ['42마8085', 200800, '2016-04-01 09:25:34 PM'], ['93마5409', 93300, '2018-03-25 09:35:43 PM'], ['55어5873', 150270, '2016-02-26 07:21:41 PM'], ['86소8166', 212600, '2018-10-05 10:09:25 PM']]\n"
     ]
    }
   ],
   "source": [
    "print(spay_list)"
   ]
  },
  {
   "cell_type": "code",
   "execution_count": 235,
   "metadata": {},
   "outputs": [
    {
     "name": "stdout",
     "output_type": "stream",
     "text": [
      "2016-11-29 16:30:23\n"
     ]
    },
    {
     "ename": "TypeError",
     "evalue": "strptime() argument 0 must be str, not <class 'datetime.datetime'>",
     "output_type": "error",
     "traceback": [
      "\u001b[1;31m---------------------------------------------------------------------------\u001b[0m",
      "\u001b[1;31mTypeError\u001b[0m                                 Traceback (most recent call last)",
      "\u001b[1;32m<ipython-input-235-9d824afec413>\u001b[0m in \u001b[0;36m<module>\u001b[1;34m()\u001b[0m\n\u001b[0;32m      1\u001b[0m \u001b[0ma\u001b[0m \u001b[1;33m=\u001b[0m \u001b[0mdatetime\u001b[0m\u001b[1;33m.\u001b[0m\u001b[0mdatetime\u001b[0m\u001b[1;33m.\u001b[0m\u001b[0mstrptime\u001b[0m\u001b[1;33m(\u001b[0m\u001b[1;34m'2016-11-29 06:30:23 PM'\u001b[0m\u001b[1;33m,\u001b[0m\u001b[1;34m'%Y-%m-%d %I:%M:%S %p'\u001b[0m\u001b[1;33m)\u001b[0m \u001b[1;33m+\u001b[0m \u001b[0mdatetime\u001b[0m\u001b[1;33m.\u001b[0m\u001b[0mtimedelta\u001b[0m\u001b[1;33m(\u001b[0m\u001b[0mhours\u001b[0m \u001b[1;33m=\u001b[0m \u001b[1;33m-\u001b[0m \u001b[1;36m2\u001b[0m\u001b[1;33m)\u001b[0m\u001b[1;33m\u001b[0m\u001b[0m\n\u001b[0;32m      2\u001b[0m \u001b[0mprint\u001b[0m\u001b[1;33m(\u001b[0m\u001b[0ma\u001b[0m\u001b[1;33m)\u001b[0m\u001b[1;33m\u001b[0m\u001b[0m\n\u001b[1;32m----> 3\u001b[1;33m \u001b[0mprint\u001b[0m\u001b[1;33m(\u001b[0m\u001b[0mdiff_minute\u001b[0m \u001b[1;33m(\u001b[0m\u001b[1;34m'2016-11-29 01:30:23 PM'\u001b[0m\u001b[1;33m,\u001b[0m  \u001b[0ma\u001b[0m\u001b[1;33m,\u001b[0m \u001b[0mformat\u001b[0m\u001b[1;33m)\u001b[0m\u001b[1;33m)\u001b[0m\u001b[1;33m\u001b[0m\u001b[0m\n\u001b[0m\u001b[0;32m      4\u001b[0m \u001b[1;31m# str(calculate_price(diff_minute ('2016-11-29 01:30:23 PM', '2016-11-29 06:30:23 PM' + datetime.timedelta(hours = - 2), format), price_list))\u001b[0m\u001b[1;33m\u001b[0m\u001b[1;33m\u001b[0m\u001b[0m\n",
      "\u001b[1;32m<ipython-input-219-ce36b18c3189>\u001b[0m in \u001b[0;36mdiff_minute\u001b[1;34m(start, end, format)\u001b[0m\n\u001b[0;32m     50\u001b[0m \u001b[1;32mdef\u001b[0m \u001b[0mdiff_minute\u001b[0m \u001b[1;33m(\u001b[0m\u001b[0mstart\u001b[0m\u001b[1;33m,\u001b[0m \u001b[0mend\u001b[0m\u001b[1;33m,\u001b[0m \u001b[0mformat\u001b[0m\u001b[1;33m)\u001b[0m\u001b[1;33m:\u001b[0m\u001b[1;33m\u001b[0m\u001b[0m\n\u001b[0;32m     51\u001b[0m     \u001b[1;34m\"Convert time string to minutes\"\u001b[0m\u001b[1;33m\u001b[0m\u001b[0m\n\u001b[1;32m---> 52\u001b[1;33m     \u001b[0mseconds\u001b[0m \u001b[1;33m=\u001b[0m \u001b[0mtime\u001b[0m\u001b[1;33m.\u001b[0m\u001b[0mmktime\u001b[0m\u001b[1;33m(\u001b[0m\u001b[0mtime\u001b[0m\u001b[1;33m.\u001b[0m\u001b[0mstrptime\u001b[0m\u001b[1;33m(\u001b[0m\u001b[0mend\u001b[0m\u001b[1;33m,\u001b[0m\u001b[0mformat\u001b[0m\u001b[1;33m)\u001b[0m\u001b[1;33m)\u001b[0m \u001b[1;33m-\u001b[0m \u001b[0mtime\u001b[0m\u001b[1;33m.\u001b[0m\u001b[0mmktime\u001b[0m\u001b[1;33m(\u001b[0m\u001b[0mtime\u001b[0m\u001b[1;33m.\u001b[0m\u001b[0mstrptime\u001b[0m\u001b[1;33m(\u001b[0m\u001b[0mstart\u001b[0m\u001b[1;33m,\u001b[0m\u001b[0mformat\u001b[0m\u001b[1;33m)\u001b[0m\u001b[1;33m)\u001b[0m\u001b[1;33m\u001b[0m\u001b[0m\n\u001b[0m\u001b[0;32m     53\u001b[0m     \u001b[0mminutes\u001b[0m \u001b[1;33m=\u001b[0m \u001b[0mint\u001b[0m\u001b[1;33m(\u001b[0m\u001b[0mseconds\u001b[0m\u001b[1;33m/\u001b[0m\u001b[1;36m60\u001b[0m\u001b[1;33m)\u001b[0m\u001b[1;33m\u001b[0m\u001b[0m\n\u001b[0;32m     54\u001b[0m     \u001b[1;32mreturn\u001b[0m \u001b[0mminutes\u001b[0m\u001b[1;33m\u001b[0m\u001b[0m\n",
      "\u001b[1;32mC:\\Program Files (x86)\\Microsoft Visual Studio\\Shared\\Anaconda3_64\\lib\\_strptime.py\u001b[0m in \u001b[0;36m_strptime_time\u001b[1;34m(data_string, format)\u001b[0m\n\u001b[0;32m    557\u001b[0m     \"\"\"Return a time struct based on the input string and the\n\u001b[0;32m    558\u001b[0m     format string.\"\"\"\n\u001b[1;32m--> 559\u001b[1;33m     \u001b[0mtt\u001b[0m \u001b[1;33m=\u001b[0m \u001b[0m_strptime\u001b[0m\u001b[1;33m(\u001b[0m\u001b[0mdata_string\u001b[0m\u001b[1;33m,\u001b[0m \u001b[0mformat\u001b[0m\u001b[1;33m)\u001b[0m\u001b[1;33m[\u001b[0m\u001b[1;36m0\u001b[0m\u001b[1;33m]\u001b[0m\u001b[1;33m\u001b[0m\u001b[0m\n\u001b[0m\u001b[0;32m    560\u001b[0m     \u001b[1;32mreturn\u001b[0m \u001b[0mtime\u001b[0m\u001b[1;33m.\u001b[0m\u001b[0mstruct_time\u001b[0m\u001b[1;33m(\u001b[0m\u001b[0mtt\u001b[0m\u001b[1;33m[\u001b[0m\u001b[1;33m:\u001b[0m\u001b[0mtime\u001b[0m\u001b[1;33m.\u001b[0m\u001b[0m_STRUCT_TM_ITEMS\u001b[0m\u001b[1;33m]\u001b[0m\u001b[1;33m)\u001b[0m\u001b[1;33m\u001b[0m\u001b[0m\n\u001b[0;32m    561\u001b[0m \u001b[1;33m\u001b[0m\u001b[0m\n",
      "\u001b[1;32mC:\\Program Files (x86)\\Microsoft Visual Studio\\Shared\\Anaconda3_64\\lib\\_strptime.py\u001b[0m in \u001b[0;36m_strptime\u001b[1;34m(data_string, format)\u001b[0m\n\u001b[0;32m    327\u001b[0m         \u001b[1;32mif\u001b[0m \u001b[1;32mnot\u001b[0m \u001b[0misinstance\u001b[0m\u001b[1;33m(\u001b[0m\u001b[0marg\u001b[0m\u001b[1;33m,\u001b[0m \u001b[0mstr\u001b[0m\u001b[1;33m)\u001b[0m\u001b[1;33m:\u001b[0m\u001b[1;33m\u001b[0m\u001b[0m\n\u001b[0;32m    328\u001b[0m             \u001b[0mmsg\u001b[0m \u001b[1;33m=\u001b[0m \u001b[1;34m\"strptime() argument {} must be str, not {}\"\u001b[0m\u001b[1;33m\u001b[0m\u001b[0m\n\u001b[1;32m--> 329\u001b[1;33m             \u001b[1;32mraise\u001b[0m \u001b[0mTypeError\u001b[0m\u001b[1;33m(\u001b[0m\u001b[0mmsg\u001b[0m\u001b[1;33m.\u001b[0m\u001b[0mformat\u001b[0m\u001b[1;33m(\u001b[0m\u001b[0mindex\u001b[0m\u001b[1;33m,\u001b[0m \u001b[0mtype\u001b[0m\u001b[1;33m(\u001b[0m\u001b[0marg\u001b[0m\u001b[1;33m)\u001b[0m\u001b[1;33m)\u001b[0m\u001b[1;33m)\u001b[0m\u001b[1;33m\u001b[0m\u001b[0m\n\u001b[0m\u001b[0;32m    330\u001b[0m \u001b[1;33m\u001b[0m\u001b[0m\n\u001b[0;32m    331\u001b[0m     \u001b[1;32mglobal\u001b[0m \u001b[0m_TimeRE_cache\u001b[0m\u001b[1;33m,\u001b[0m \u001b[0m_regex_cache\u001b[0m\u001b[1;33m\u001b[0m\u001b[0m\n",
      "\u001b[1;31mTypeError\u001b[0m: strptime() argument 0 must be str, not <class 'datetime.datetime'>"
     ]
    }
   ],
   "source": [
    "a = datetime.datetime.strptime('2016-11-29 06:30:23 PM','%Y-%m-%d %I:%M:%S %p') + datetime.timedelta(hours = - 2)\n",
    "print(a)\n",
    "print(diff_minute ('2016-11-29 01:30:23 PM',  a, format))\n",
    "# str(calculate_price(diff_minute ('2016-11-29 01:30:23 PM', '2016-11-29 06:30:23 PM' + datetime.timedelta(hours = - 2), format), price_list))"
   ]
  },
  {
   "cell_type": "code",
   "execution_count": 238,
   "metadata": {},
   "outputs": [
    {
     "data": {
      "text/plain": [
       "0"
      ]
     },
     "execution_count": 238,
     "metadata": {},
     "output_type": "execute_result"
    }
   ],
   "source": [
    "import numpy as np\n",
    "ve = [30,50]\n",
    "v = np.array(ve)\n",
    "v.argmin()"
   ]
  },
  {
   "cell_type": "code",
   "execution_count": 221,
   "metadata": {},
   "outputs": [
    {
     "name": "stdout",
     "output_type": "stream",
     "text": [
      "[['04:39:30', 'PM'], ['11:47:50', 'AM'], ['10:05:43', 'PM'], ['12:23:37', 'PM'], ['07:23:46', 'PM'], ['08:01:09', 'PM'], ['04:31:50', 'PM'], ['04:03:37', 'PM'], ['10:11:55', 'PM'], ['01:30:23', 'PM'], ['10:48:06', 'PM'], ['07:45:26', 'PM'], ['01:27:04', 'PM'], ['11:23:57', 'AM'], ['03:21:47', 'PM'], ['01:47:48', 'PM'], ['09:25:34', 'PM'], ['09:35:43', 'PM'], ['07:21:41', 'PM'], ['10:09:25', 'PM']]\n",
      "['04:39:30 PM', '11:47:50 AM', '10:05:43 PM', '12:23:37 PM', '07:23:46 PM', '08:01:09 PM', '04:31:50 PM', '04:03:37 PM', '10:11:55 PM', '01:30:23 PM', '10:48:06 PM', '07:45:26 PM', '01:27:04 PM', '11:23:57 AM', '03:21:47 PM', '01:47:48 PM', '09:25:34 PM', '09:35:43 PM', '07:21:41 PM', '10:09:25 PM']\n",
      "['12:23:47 PM', '11:01:03 AM', '07:56:52 PM', '11:14:07 AM', '05:36:48 PM', '05:09:57 PM', '11:55:51 AM', '11:23:49 AM', '09:23:18 PM', '12:29:54 PM', '06:19:22 PM', '03:00:23 PM', '11:22:04 AM', '11:14:25 AM', '12:06:05 PM', '01:15:13 PM', '06:38:21 PM', '11:17:20 AM', '06:47:46 PM', '11:24:18 AM']\n",
      "['05:13:36 PM', '03:04:35 PM', '10:13:54 PM', '02:53:53 PM', '08:40:42 PM', '10:12:41 PM', '07:08:55 PM', '05:55:58 PM', '10:35:35 PM', '05:14:00 PM', '10:51:47 PM', '10:40:38 PM', '06:42:26 PM', '10:44:13 PM', '09:15:56 PM', '07:02:49 PM', '09:50:21 PM', '10:33:36 PM', '09:01:13 PM', '10:45:54 PM']\n"
     ]
    },
    {
     "ename": "TypeError",
     "evalue": "must be str, not int",
     "output_type": "error",
     "traceback": [
      "\u001b[1;31m---------------------------------------------------------------------------\u001b[0m",
      "\u001b[1;31mTypeError\u001b[0m                                 Traceback (most recent call last)",
      "\u001b[1;32m<ipython-input-221-a0198f1e9cf9>\u001b[0m in \u001b[0;36m<module>\u001b[1;34m()\u001b[0m\n\u001b[0;32m      8\u001b[0m \u001b[0mclose_time\u001b[0m \u001b[1;33m=\u001b[0m \u001b[1;34m\"11:00:00 PM\"\u001b[0m\u001b[1;33m\u001b[0m\u001b[0m\n\u001b[0;32m      9\u001b[0m \u001b[0mformat\u001b[0m \u001b[1;33m=\u001b[0m \u001b[1;34m'%Y-%m-%d %I:%M:%S %p'\u001b[0m\u001b[1;33m\u001b[0m\u001b[0m\n\u001b[1;32m---> 10\u001b[1;33m \u001b[0mmk_sample_ppay\u001b[0m\u001b[1;33m(\u001b[0m\u001b[0mopen_time\u001b[0m\u001b[1;33m,\u001b[0m \u001b[0mclose_time\u001b[0m\u001b[1;33m,\u001b[0m \u001b[0mspay_list\u001b[0m\u001b[1;33m,\u001b[0m \u001b[0mpklt_list\u001b[0m\u001b[1;33m,\u001b[0m \u001b[0mdiscount_list\u001b[0m\u001b[1;33m,\u001b[0m \u001b[0mprice_list\u001b[0m\u001b[1;33m,\u001b[0m\u001b[0mformat\u001b[0m\u001b[1;33m)\u001b[0m\u001b[1;33m\u001b[0m\u001b[0m\n\u001b[0m\u001b[0;32m     11\u001b[0m \u001b[0mprint_table\u001b[0m\u001b[1;33m(\u001b[0m\u001b[1;34m'PARK_PAY'\u001b[0m\u001b[1;33m,\u001b[0m \u001b[0mcur\u001b[0m\u001b[1;33m)\u001b[0m\u001b[1;33m\u001b[0m\u001b[0m\n",
      "\u001b[1;32m<ipython-input-219-ce36b18c3189>\u001b[0m in \u001b[0;36mmk_sample_ppay\u001b[1;34m(open_time, close_time, spay_list, pklt_list, discount_list, price_list, format)\u001b[0m\n\u001b[0;32m     98\u001b[0m                     \u001b[1;33m+\u001b[0m \u001b[1;34m\"',\"\u001b[0m \u001b[1;33m+\u001b[0m \u001b[0mf_hrs\u001b[0m\u001b[1;33m[\u001b[0m\u001b[0mi\u001b[0m\u001b[1;33m]\u001b[0m\u001b[1;33m\u001b[0m\u001b[0m\n\u001b[0;32m     99\u001b[0m                     \u001b[1;33m+\u001b[0m \u001b[1;34m\",\"\u001b[0m \u001b[1;33m+\u001b[0m \u001b[0mstr\u001b[0m\u001b[1;33m(\u001b[0m\u001b[0mcalculate_price\u001b[0m\u001b[1;33m(\u001b[0m\u001b[0mdiff_minute\u001b[0m \u001b[1;33m(\u001b[0m\u001b[0mp_start\u001b[0m\u001b[1;33m[\u001b[0m\u001b[0mi\u001b[0m\u001b[1;33m]\u001b[0m\u001b[1;33m,\u001b[0m \u001b[0mp_end\u001b[0m\u001b[1;33m[\u001b[0m\u001b[0mi\u001b[0m\u001b[1;33m]\u001b[0m \u001b[1;33m+\u001b[0m \u001b[0mdatetime\u001b[0m\u001b[1;33m.\u001b[0m\u001b[0mtimedelta\u001b[0m\u001b[1;33m(\u001b[0m\u001b[0mhours\u001b[0m \u001b[1;33m=\u001b[0m \u001b[1;33m-\u001b[0m \u001b[0mf_hrs\u001b[0m\u001b[1;33m[\u001b[0m\u001b[0mi\u001b[0m\u001b[1;33m]\u001b[0m\u001b[1;33m)\u001b[0m\u001b[1;33m,\u001b[0m \u001b[0mformat\u001b[0m\u001b[1;33m)\u001b[0m\u001b[1;33m,\u001b[0m \u001b[0mprice_list\u001b[0m\u001b[1;33m)\u001b[0m\u001b[1;33m)\u001b[0m\u001b[1;33m\u001b[0m\u001b[0m\n\u001b[1;32m--> 100\u001b[1;33m                     + \",'\" + str(1) + \"')\")\n\u001b[0m\u001b[0;32m    101\u001b[0m     \u001b[1;32mreturn\u001b[0m \u001b[1;36m0\u001b[0m\u001b[1;33m\u001b[0m\u001b[0m\n",
      "\u001b[1;31mTypeError\u001b[0m: must be str, not int"
     ]
    }
   ],
   "source": [
    "# Get price_list from PRICE \n",
    "price_list = get_price(cur)\n",
    "# Get discount_list from DISCOUNT\n",
    "discount_list = get_discount(cur)\n",
    "# Get spay_list[[Customer_car_num, Shopping_pay_amount, Shopping_pay_time]] from SHOPPING_PAY\n",
    "spay_list = get_spay(cur)\n",
    "open_time = \"11:00:00 AM\"\n",
    "close_time = \"11:00:00 PM\"\n",
    "format = '%Y-%m-%d %I:%M:%S %p'\n",
    "mk_sample_ppay(open_time, close_time, spay_list, pklt_list, discount_list, price_list,format)\n",
    "print_table('PARK_PAY', cur)"
   ]
  },
  {
   "cell_type": "code",
   "execution_count": 166,
   "metadata": {},
   "outputs": [
    {
     "name": "stdout",
     "output_type": "stream",
     "text": [
      "[10, 500]\n",
      "[[10000, 1], [30000, 2], [50000, 3], [70000, 4], [90000, 5]]\n",
      "2\n",
      "3000\n",
      "3000\n",
      "2500\n"
     ]
    }
   ],
   "source": [
    "print(getPrice(cur))\n",
    "print(getDiscount(cur))\n",
    "print(calculate_free_hour(32000, getDiscount(cur)))\n",
    "# testcase : 10분 단위로 떨어지는 시간 동안 주차한 경우\n",
    "print(calculate_price(60, getPrice(cur)[0], getPrice(cur)[1]))\n",
    "# testcase : 10분 단위로 떨어지지 않는 시간 동안 주차한 경우\n",
    "print(calculate_price(57, getPrice(cur)[0], getPrice(cur)[1]))\n",
    "print(calculate_price(43, getPrice(cur)[0], getPrice(cur)[1]))"
   ]
  },
  {
   "cell_type": "code",
   "execution_count": 167,
   "metadata": {},
   "outputs": [
    {
     "ename": "TypeError",
     "evalue": "mk_sample_ppay() takes 7 positional arguments but 8 were given",
     "output_type": "error",
     "traceback": [
      "\u001b[1;31m---------------------------------------------------------------------------\u001b[0m",
      "\u001b[1;31mTypeError\u001b[0m                                 Traceback (most recent call last)",
      "\u001b[1;32m<ipython-input-167-bc90450fe66a>\u001b[0m in \u001b[0;36m<module>\u001b[1;34m()\u001b[0m\n\u001b[0;32m     24\u001b[0m \u001b[0mopen_time\u001b[0m \u001b[1;33m=\u001b[0m \u001b[1;34m\"11:00:00 AM\"\u001b[0m\u001b[1;33m\u001b[0m\u001b[0m\n\u001b[0;32m     25\u001b[0m \u001b[0mclose_time\u001b[0m \u001b[1;33m=\u001b[0m \u001b[1;34m\"11:00:00 PM\"\u001b[0m\u001b[1;33m\u001b[0m\u001b[0m\n\u001b[1;32m---> 26\u001b[1;33m \u001b[0mmk_sample_ppay\u001b[0m\u001b[1;33m(\u001b[0m\u001b[0msample_data_num\u001b[0m\u001b[1;33m,\u001b[0m \u001b[0mstart_date\u001b[0m\u001b[1;33m,\u001b[0m \u001b[0mend_date\u001b[0m\u001b[1;33m,\u001b[0m \u001b[0mopen_time\u001b[0m\u001b[1;33m,\u001b[0m \u001b[0mclose_time\u001b[0m\u001b[1;33m,\u001b[0m \u001b[0mspay_cnum_list\u001b[0m\u001b[1;33m,\u001b[0m \u001b[0mspay_tme_list\u001b[0m\u001b[1;33m,\u001b[0m \u001b[0mpklt_list\u001b[0m\u001b[1;33m)\u001b[0m\u001b[1;33m\u001b[0m\u001b[0m\n\u001b[0m",
      "\u001b[1;31mTypeError\u001b[0m: mk_sample_ppay() takes 7 positional arguments but 8 were given"
     ]
    }
   ],
   "source": [
    "# Get Customer_car_num list from SHOPPING_PAY\n",
    "# This list means the list of customers who had paid for shopping.\n",
    "cur.execute('SELECT Customer_car_num FROM SHOPPING_PAY') \n",
    "spay_cnum_list = []\n",
    "for row in cur:\n",
    "    spay_cnum_list.append(row[0])\n",
    "\n",
    "# Get Shopping_pay_time list from SHOPPING_PAY\n",
    "cur.execute('SELECT Shopping_pay_time FROM SHOPPING_PAY') \n",
    "spay_tme_list = []\n",
    "for row in cur:\n",
    "    spay_tme_list.append(row[0])\n",
    "\n",
    "# Get Parking_spot list from PARKINGLOT_LIST\n",
    "cur.execute('SELECT Parking_spot FROM PARKINGLOT_LIST') \n",
    "pklt_list = []\n",
    "for row in cur:\n",
    "    pklt_list.append(row[0])\n",
    "\n",
    "# Make Sample tuples and insert them into SHOPPING_PAY table \n",
    "sample_data_num = 20\n",
    "start_date = \"2016-01-01\"\n",
    "end_date = \"2018-11-22\"\n",
    "open_time = \"11:00:00 AM\"\n",
    "close_time = \"11:00:00 PM\"\n",
    "mk_sample_ppay(sample_data_num, start_date, end_date, open_time, close_time, spay_cnum_list, spay_tme_list, pklt_list)"
   ]
  },
  {
   "cell_type": "code",
   "execution_count": 176,
   "metadata": {},
   "outputs": [],
   "source": [
    "def diff_minute (start, end, format):\n",
    "    \"Convert time string to minutes\"\n",
    "    seconds = time.mktime(time.strptime(end,format)) - time.mktime(time.strptime(start,format))\n",
    "    minutes = int(seconds/60)\n",
    "    return minutes"
   ]
  },
  {
   "cell_type": "code",
   "execution_count": 178,
   "metadata": {},
   "outputs": [
    {
     "name": "stdout",
     "output_type": "stream",
     "text": [
      "1\n",
      "0\n",
      "360\n"
     ]
    }
   ],
   "source": [
    "# 초 단위는 삭제됨\n",
    "print(diff_minute (\"2018-11-22 11:29:00 AM\",\"2018-11-22 11:30:01 AM\",'%Y-%m-%d %I:%M:%S %p')) # 0 hr 0 min 59 sec\n",
    "print(diff_minute (\"2018-11-22 11:29:01 AM\",\"2018-11-22 11:30:00 AM\",'%Y-%m-%d %I:%M:%S %p')) # 0 hr 1 min  1 sec\n",
    "print(diff_minute (\"2018-11-22 11:30:00 AM\",\"2018-11-22 5:30:21 PM\",'%Y-%m-%d %I:%M:%S %p'))  # 6 hr 0 min 21 sec"
   ]
  },
  {
   "cell_type": "code",
   "execution_count": 171,
   "metadata": {},
   "outputs": [
    {
     "data": {
      "text/plain": [
       "60.0"
      ]
     },
     "execution_count": 171,
     "metadata": {},
     "output_type": "execute_result"
    }
   ],
   "source": [
    "# string to to time.struct_time\n",
    "time.mktime(time.strptime(\"2018-11-22 11:30:00 AM\",'%Y-%m-%d %I:%M:%S %p')) - time.mktime(time.strptime(\"2018-11-22 11:29:00 AM\",'%Y-%m-%d %I:%M:%S %p'))"
   ]
  },
  {
   "cell_type": "code",
   "execution_count": 144,
   "metadata": {},
   "outputs": [
    {
     "data": {
      "text/plain": [
       "<sqlite3.Cursor at 0x199955b3030>"
      ]
     },
     "execution_count": 144,
     "metadata": {},
     "output_type": "execute_result"
    }
   ],
   "source": [
    "cur.execute(\"ALTER TABLE DISCOUNT RENAME TO SHOPPING_PAY_DEL\")\n",
    "\n",
    "cur.execute(\"\"\"\n",
    "    CREATE TABLE DISCOUNT (\n",
    "\tShopping_pay_minimum integer,\n",
    "\tFree_hour integer)\"\"\")\n",
    "\n",
    "cur.execute(\"DROP TABLE SHOPPING_PAY_DEL\")"
   ]
  },
  {
   "cell_type": "code",
   "execution_count": 239,
   "metadata": {},
   "outputs": [
    {
     "name": "stdout",
     "output_type": "stream",
     "text": [
      "('12가1234', 'VISA 1234-1234-1234-1234', 'KIM MIN JI')\n",
      "('49루0663', 'Amex 8376-7961-6634-4969', 'JEONG MIN JOO')\n",
      "('64러4617', 'MasterCard 1553-4104-8725-9861', 'PARK HYUN MI')\n",
      "('93마5409', 'BC 9171-1649-5796-7113', 'HYUN JI JOO')\n",
      "('70우7253', 'UnionPay 4267-1020-8989-0230', 'LEE SOO JOON')\n",
      "('78주5458', 'MasterCard 5328-1031-3130-9298', 'KONG KYUNG AH')\n",
      "('69부1494', 'VISA 5243-8322-8016-1786', 'YOON SEONG YEON')\n",
      "('90더8969', 'Amex 8852-3329-9882-8965', 'CHA HYUN WOON')\n",
      "('11허6306', 'Amex 9431-3966-4756-3012', 'KONG YOON JOON')\n",
      "('78도7807', 'VISA 1471-2133-2450-0633', 'LEE SEONG SEOK')\n",
      "('90바4515', 'UnionPay 3858-3525-9663-6871', 'CHA HYUN WOON')\n",
      "('63조1349', 'Amex 1889-7969-9618-5493', 'KONG KYUNG JOON')\n",
      "('93로1919', 'JCB 3612-6095-2793-5448', 'KANG SEO MI')\n",
      "('18고0741', 'UnionPay 8752-9865-1212-0437', 'LEE KYUNG MI')\n",
      "('50거6064', 'VISA 0596-9920-0354-3188', 'PARK MOON WOON')\n",
      "('26라0373', 'UnionPay 6973-1662-4258-1146', 'KONG MOON YEON')\n",
      "('44무2954', 'VISA 8251-7653-0645-9772', 'LEE SOO JOO')\n",
      "('33조7704', 'UnionPay 2775-3332-0951-2592', 'PARK MIN YEON')\n",
      "('15허7246', 'JCB 2864-0216-7727-6715', 'CHA SEONG YEON')\n",
      "('83조6367', 'JCB 4111-2513-9184-0203', 'JEONG MOON HYUK')\n",
      "('94다8918', 'Amex 2209-3934-7894-5770', 'CHA HYUN HYUK')\n",
      "('75호2168', 'JCB 5083-6357-6789-1322', 'KIM JI JOO')\n",
      "('89오2622', 'MasterCard 3655-7342-6203-9308', 'KANG SEO SEOK')\n",
      "('89배6852', 'JCB 0766-2714-7296-1046', 'YOON YOON WOON')\n",
      "('67주9198', 'UnionPay 0001-0637-8103-5340', 'YOON EUN JOON')\n",
      "('53어8987', 'JCB 1367-2138-0241-6583', 'HAN SOO HYUK')\n",
      "('00저0234', 'JCB 0038-8656-1602-3120', 'LEE JI JOO')\n",
      "('38로2985', 'VISA 7792-6499-1332-0357', 'YOON EUN MI')\n",
      "('32러8533', 'JCB 5686-1885-2530-4561', 'KIM SEO JOON')\n",
      "('26도9148', 'Amex 6011-9297-0688-9954', 'HAN EUN WOON')\n",
      "('81무6102', 'UnionPay 2921-3405-6153-9619', 'YOON SEO AH')\n",
      "('19로5462', 'Amex 6016-1535-5541-0584', 'KIM HYUN AH')\n",
      "('19하4743', 'Amex 6468-8986-2124-4807', 'LEE EUN JOO')\n",
      "('06보2942', 'UnionPay 1161-4958-6605-5382', 'YOON SOO MI')\n",
      "('12자7883', 'BC 5522-5630-2036-7849', 'LEE EUN SEOK')\n",
      "('04보5489', 'JCB 2550-2728-9248-6153', 'HA MOON MI')\n",
      "('10어3621', 'VISA 6304-0128-1606-6452', 'MOON SEONG YEON')\n",
      "('57주9582', 'JCB 3559-6931-1370-6034', 'KONG HYUN AH')\n",
      "('55어5873', 'VISA 1046-0452-8614-7399', 'HA KYUNG MI')\n",
      "('63두4202', 'MasterCard 0689-3537-2397-1714', 'KONG EUN SEOK')\n",
      "('46사2479', 'VISA 9768-7993-2431-9239', 'KANG SOO WOON')\n",
      "('86소8166', 'BC 3309-8893-9990-3584', 'KIM MIN HYUK')\n",
      "('41다8603', 'MasterCard 4208-9872-2554-6209', 'CHA HYUN WOON')\n",
      "('08거8462', 'VISA 1087-3687-2138-0665', 'YOON SEO WOON')\n",
      "('42버2438', 'JCB 7548-6083-8273-6262', 'MOON SEONG JOON')\n",
      "('73거8486', 'UnionPay 1251-6985-3376-4745', 'MOON JI SEOK')\n",
      "('61누9952', 'UnionPay 3826-0335-0003-2981', 'YOON SEONG YEON')\n",
      "('42마8085', 'Amex 4961-6685-6294-6286', 'KIM YOON AH')\n",
      "('30모5472', 'VISA 0588-7886-6846-2308', 'JEONG JI MI')\n",
      "('86머5779', 'BC 0576-7639-6335-7518', 'KIM MOON WOON')\n",
      "('99머0331', 'VISA 9802-2174-5306-1725', 'HWANG SEONG HYUK')\n"
     ]
    }
   ],
   "source": [
    "print_table('CUSTOMER_LIST', cur)"
   ]
  },
  {
   "cell_type": "code",
   "execution_count": null,
   "metadata": {},
   "outputs": [],
   "source": []
  }
 ],
 "metadata": {
  "kernelspec": {
   "display_name": "Python 3",
   "language": "python",
   "name": "python3"
  },
  "language_info": {
   "codemirror_mode": {
    "name": "ipython",
    "version": 3
   },
   "file_extension": ".py",
   "mimetype": "text/x-python",
   "name": "python",
   "nbconvert_exporter": "python",
   "pygments_lexer": "ipython3",
   "version": "3.6.5"
  }
 },
 "nbformat": 4,
 "nbformat_minor": 2
}
