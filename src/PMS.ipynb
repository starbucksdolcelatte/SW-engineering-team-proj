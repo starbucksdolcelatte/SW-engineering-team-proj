{
 "cells": [
  {
   "cell_type": "code",
   "execution_count": 1,
   "metadata": {},
   "outputs": [],
   "source": [
    "import sqlite3\n",
    "from datetime import datetime, date\n",
    "\n",
    "# SQLite DB 연결\n",
    "# test.db가 있으면 연결, 없으면 새로 생성\n",
    "con = sqlite3.connect(\"PMS_db_car.sqlite\",detect_types=sqlite3.PARSE_DECLTYPES)\n",
    "\n",
    "# Connection 으로부터 Cursor 생성\n",
    "curs = con.cursor()"
   ]
  },
  {
   "cell_type": "markdown",
   "metadata": {},
   "source": [
    "# 입차"
   ]
  },
  {
   "cell_type": "code",
   "execution_count": 4,
   "metadata": {
    "scrolled": true
   },
   "outputs": [
    {
     "ename": "SyntaxError",
     "evalue": "unexpected EOF while parsing (Camera.py, line 13)",
     "output_type": "error",
     "traceback": [
      "Traceback \u001b[1;36m(most recent call last)\u001b[0m:\n",
      "  File \u001b[0;32m\"C:\\Program Files (x86)\\Microsoft Visual Studio\\Shared\\Anaconda3_64\\lib\\site-packages\\IPython\\core\\interactiveshell.py\"\u001b[0m, line \u001b[0;32m2963\u001b[0m, in \u001b[0;35mrun_code\u001b[0m\n    exec(code_obj, self.user_global_ns, self.user_ns)\n",
      "\u001b[1;36m  File \u001b[1;32m\"<ipython-input-4-60154a34d9b4>\"\u001b[1;36m, line \u001b[1;32m1\u001b[1;36m, in \u001b[1;35m<module>\u001b[1;36m\u001b[0m\n\u001b[1;33m    import Camera\u001b[0m\n",
      "\u001b[1;36m  File \u001b[1;32m\"C:\\Users\\chief\\SW-engineering-team-proj\\src\\Camera.py\"\u001b[1;36m, line \u001b[1;32m13\u001b[0m\n\u001b[1;33m    \u001b[0m\n\u001b[1;37m    ^\u001b[0m\n\u001b[1;31mSyntaxError\u001b[0m\u001b[1;31m:\u001b[0m unexpected EOF while parsing\n"
     ]
    }
   ],
   "source": [
    "import Camera"
   ]
  },
  {
   "cell_type": "markdown",
   "metadata": {},
   "source": [
    "차가 들어옴\n",
    "카메라가 번호판 인식\n",
    "번호판 인식 후 string 출력\n",
    "출력된 번호 string 을 가지고 등록되었는지 안되었는지 확인함\n",
    "\n",
    "등록되었으면\n",
    "     1. car 객체 생성 car + increase num\n",
    "     2. block bar open()\n",
    "등록안되었으면\n",
    "     1. block bar close()\n",
    "     \n",
    "차가 주차함\n",
    "car.status = "
   ]
  },
  {
   "cell_type": "markdown",
   "metadata": {},
   "source": [
    "# 입차"
   ]
  },
  {
   "cell_type": "code",
   "execution_count": 15,
   "metadata": {},
   "outputs": [],
   "source": [
    "def Camera0_recog():\n",
    "    return '12가1234'\n",
    "\n",
    "def BlockBar0_is_registered(car_num):\n",
    "    return True\n",
    "\n",
    "def BlockBar0_is_paid(car_num):\n",
    "    if(BlockBar0_is_registered(car_num)):\n",
    "        print(\"회원입니다.\")\n",
    "        \n",
    "        # 데이터베이스 PARK_PAY 테이블의 car_num 일치하는 튜플 중 Park_is_paid == 0 인 것 있나 확인\n",
    "        # 있으면, 결제하고 Park_is_paid = 1 로 바꾸고 return True\n",
    "        # 결제 안 한 것이 여러개면 옛날 것부터 순차적으로 결제\n",
    "        # 결제 안 된 것 하나라도 있으면 return False\n",
    "        return True\n",
    "    \n",
    "    else:\n",
    "        print(\"회원이 아닙니다.\")    \n",
    "        return False     \n",
    "\n",
    "\n",
    "def BlockBar0_open(car_num):\n",
    "    if(BlockBar0_is_paid(car_num)):\n",
    "        print(\"차단바가 열립니다.\")\n",
    "    else:\n",
    "        print(\"차단바를 열 수 없습니다.\")"
   ]
  },
  {
   "cell_type": "code",
   "execution_count": 20,
   "metadata": {},
   "outputs": [
    {
     "name": "stdout",
     "output_type": "stream",
     "text": [
      "12가1234\n",
      "Car 객체가 생성되었습니다.\n",
      "Car number = 12가1234\n",
      "is_regi :  True\n",
      "회원입니다.\n",
      "차단바가 열립니다.\n"
     ]
    }
   ],
   "source": [
    "from Car import Car\n",
    "\n",
    "# 번호판 인식\n",
    "car_num = Camera0_recog()\n",
    "print(car_num)\n",
    "\n",
    "# Car 객체 생성\n",
    "mycar = Car(car_num)\n",
    "\n",
    "# 등록된 회원인지 여부 True or False\n",
    "is_regi = BlockBar0_is_registered(car_num)\n",
    "print('is_regi : ',is_regi)\n",
    "\n",
    "# 등록된 회원이면 결제여부 확인, 결제가 모두 완료되어 있으면 차단바 열고 아니면 닫기\n",
    "BlockBar0_open(mycar.car_num)\n"
   ]
  },
  {
   "cell_type": "markdown",
   "metadata": {},
   "source": [
    "# 주차"
   ]
  },
  {
   "cell_type": "code",
   "execution_count": 25,
   "metadata": {},
   "outputs": [],
   "source": [
    "# 각 zone 마다 설치된 카메라.\n",
    "# zone 의 주차 상태를 알려줌\n",
    "# Parking_status : 0 == vacant ; 1 == occupied ; 2 == moving_out\n",
    "def Parkinglot_status(zone):\n",
    "    # zone 에 일치하는 PARKINGLOT_LIST를 return\n",
    "    '''\n",
    "    zone = 'B1-A'\n",
    "    zone_info = []\n",
    "    cur.execute(\"select * from PARKINGLOT_LIST where Parking_spot like ?\", (zone + '%',))\n",
    "    rows = cur.fetchall()\n",
    "    for row in rows:\n",
    "        zone_info.append(row)\n",
    "    print(zone_info)\n",
    "    return zone_info\n",
    "    '''\n",
    "    return [['B1-A1', 0, None],['B1-A2', 1, '12가1234'],['B1-A3', 1, '15나1313'],\n",
    "            ['B1-A4', 2, '23가1122'],['B1-A5', 0, None],['B1-A6', 0, None],['B1-A7', 0, None],\n",
    "            ['B1-A8', 0, None],['B1-A9', 0, None],['B1-A10', 1,'67마1343']]\n",
    "\n",
    "def set_Parkinglot(zone):\n",
    "    # zone 에 일치하는 PARKINGLOT_LIST의 status와 차량번호를 update\n",
    "    # zone 에 일치하는 PARKINGLOT_LIST를 return\n",
    "    '''\n",
    "    zone = 'B1-A'\n",
    "\n",
    "    #### 변경 전 ####\n",
    "    print('******** 변경 전 ********')\n",
    "    zone_info = []\n",
    "    cur.execute(\"select * from PARKINGLOT_LIST where Parking_spot like ?\", (zone + '%',))\n",
    "    rows = cur.fetchall()\n",
    "    for row in rows:\n",
    "        zone_info.append(list(row))\n",
    "    for row in zone_info:\n",
    "        print(row)\n",
    "\n",
    "        \n",
    "    #### 변경 중 ####\n",
    "    zone_info[0][1] = 1\n",
    "    zone_info[0][2] = '49루0663'\n",
    "    # UPDATE table이름 SET 컬럼이름 = 변경된값 WHERE 특정튜플\n",
    "    cur.execute(\"UPDATE PARKINGLOT_LIST SET Parking_status = ?, Customer_car_num = ? WHERE Parking_spot = ?\",\n",
    "                (zone_info[0][1], zone_info[0][2], zone_info[0][0],))\n",
    "\n",
    "\n",
    "    #### 변경 후 ####\n",
    "    print('******** 변경 후 ********')\n",
    "    cur.execute(\"select * from PARKINGLOT_LIST where Parking_spot like ?\", (zone + '%',))\n",
    "    zone_info_after = []\n",
    "    rows = cur.fetchall()\n",
    "    for row in rows:\n",
    "        zone_info_after.append(list(row))\n",
    "    for row in zone_info_after:\n",
    "        print(row)\n",
    "    #return zone_info\n",
    "    \n",
    "    '''\n",
    "    return [['B1-A1', 1, '49루0663'],['B1-A2', 1, '12가1234'],['B1-A3', 1, '15나1313'],\n",
    "            ['B1-A4', 2, '23가1122'],['B1-A5', 0, None],['B1-A6', 0, None],['B1-A7', 0, None],\n",
    "            ['B1-A8', 0, None],['B1-A9', 0, None],['B1-A10', 1,'67마1343']]"
   ]
  },
  {
   "cell_type": "code",
   "execution_count": 30,
   "metadata": {},
   "outputs": [
    {
     "name": "stdout",
     "output_type": "stream",
     "text": [
      "['B1-A1', 0, None]\n",
      "['B1-A2', 1, '12가1234']\n",
      "['B1-A3', 1, '15나1313']\n",
      "['B1-A4', 2, '23가1122']\n",
      "['B1-A5', 0, None]\n",
      "['B1-A6', 0, None]\n",
      "['B1-A7', 0, None]\n",
      "['B1-A8', 0, None]\n",
      "['B1-A9', 0, None]\n",
      "['B1-A10', 1, '67마1343']\n",
      "********\n",
      "['B1-A1', 0, None]\n",
      "B1-A1\n",
      "0\n",
      "None\n"
     ]
    }
   ],
   "source": [
    "zone_B1A = Parkinglot_status('B1-A')\n",
    "# 전체 배열\n",
    "for spot in zone_B1A:\n",
    "    print(spot)\n",
    "print('********')\n",
    "\n",
    "# 'B1-A1'의 정보\n",
    "print(zone_B1A[0])\n",
    "# 'B1-A1'\n",
    "print(zone_B1A[0][0])\n",
    "# 'B1-A1'의 status\n",
    "print(zone_B1A[0][1])\n",
    "# 'B1-A1'에 주차한 차 번호\n",
    "print(zone_B1A[0][2])"
   ]
  },
  {
   "cell_type": "code",
   "execution_count": null,
   "metadata": {},
   "outputs": [],
   "source": [
    "# 차량이 주차하면 Parkinglot 상태가 변경됨\n",
    "# 변경되는 것은 센서를 통해 감지\n",
    "set_Parkinglot(zone)\n",
    "\n"
   ]
  }
 ],
 "metadata": {
  "kernelspec": {
   "display_name": "Python 3",
   "language": "python",
   "name": "python3"
  },
  "language_info": {
   "codemirror_mode": {
    "name": "ipython",
    "version": 3
   },
   "file_extension": ".py",
   "mimetype": "text/x-python",
   "name": "python",
   "nbconvert_exporter": "python",
   "pygments_lexer": "ipython3",
   "version": "3.6.5"
  }
 },
 "nbformat": 4,
 "nbformat_minor": 2
}
