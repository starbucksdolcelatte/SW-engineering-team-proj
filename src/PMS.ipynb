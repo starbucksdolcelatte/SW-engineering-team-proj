{
 "cells": [
  {
   "cell_type": "code",
   "execution_count": 1,
   "metadata": {},
   "outputs": [],
   "source": [
    "import sqlite3\n",
    "from datetime import datetime, date\n",
    "\n",
    "# SQLite DB 연결\n",
    "# test.db가 있으면 연결, 없으면 새로 생성\n",
    "con = sqlite3.connect(\"PMS_db_car.sqlite\",detect_types=sqlite3.PARSE_DECLTYPES)\n",
    "\n",
    "# Connection 으로부터 Cursor 생성\n",
    "curs = con.cursor()"
   ]
  },
  {
   "cell_type": "markdown",
   "metadata": {},
   "source": [
    "# 입차"
   ]
  },
  {
   "cell_type": "markdown",
   "metadata": {},
   "source": [
    "# 입차 프로세스\n",
    "1. 차량이 주차장 입구로 들어온다.\n",
    "2. 카메라가 차량의 번호판을 찍고, 카메라 객체의 인식 모듈이 이 번호판 사진을 인식하여 string으로 리턴한다.\n",
    "3. 차량번호 string으로 (1) 이 사람이 회원인지 (2) 회원이라면 미납된 요금이 있는지 확인한다.\n",
    "3-1. 회원인가? \n",
    "    YES : car 객체 생성 후 3-2로 \n",
    "    NO : \"회원이 아닙니다.\" 출력 후 문 열어주지 않는다.\n",
    "3-2. 미납된 요금이 있는가? \n",
    "    YES : 문을 열어준다. \n",
    "    NO : 3-2-1로\n",
    "    3-2-1. 미납 요금 결제를 진행한다. \n",
    "        결제 성공 : 문을 열어준다. \n",
    "        결제 실패 : \"xx원의 미납된 요금이 있습니다.\" 출력 후 문 열어준다."
   ]
  },
  {
   "cell_type": "markdown",
   "metadata": {},
   "source": [
    "# 입차 코드\n",
    "1. 차가 들어옴\n",
    "2. 카메라가 번호판 인식\n",
    "3. 카메라 객체의 인식 모듈이 번호판 인식 후 string 출력\n",
    "1. 출력된 번호 string 을 가지고 car 객체 car_obj 생성\n",
    "2. BlockBar.open(car_obj.car_num) 결제 실패 : \"xx원의 미납된 요금이 있습니다.\" 출력 후 문 열어준다.\n",
    "    --호출--> BlockBar.is_paid(car_obj.car_num) --호출--> BlockBar.is_registered(car_obj.car_num)\n",
    "    호출된 함수의 리턴값에 따라 최종적으로 BlockBar.open의 리턴값이 true 즉, \"열어줌\" 또는 flase \"닫음\" 둘 중 하나로 결정된다.\n",
    "    BlockBar.is_paid() == false 라면, pay 모듈을 호출하여 pay를 완료한다.\n",
    "    pay() 결과값 true(미납 요금 없음)이면, 문을 열어준다.\n",
    "    pay() 결과값 false(여전히 미납 요금이 있음)이면, \"xx원의 미납된 요금이 있습니다.\" 출력 후 문 열어준다.\n",
    "    "
   ]
  },
  {
   "cell_type": "code",
   "execution_count": 15,
   "metadata": {},
   "outputs": [],
   "source": [
    "def Camera0_recog():\n",
    "    return '12가1234'\n",
    "\n",
    "def BlockBar0_is_registered(car_num):\n",
    "    return True\n",
    "\n",
    "def BlockBar0_is_paid(car_num):\n",
    "    if(BlockBar0_is_registered(car_num)):\n",
    "        print(\"회원입니다.\")\n",
    "        \n",
    "        # 데이터베이스 PARK_PAY 테이블의 car_num 일치하는 튜플 중 Park_is_paid == 0 인 것 있나 확인\n",
    "        # 있으면, 결제하고 Park_is_paid = 1 로 바꾸고 return True\n",
    "        # 결제 안 한 것이 여러개면 옛날 것부터 순차적으로 결제\n",
    "        # 결제 안 된 것 하나라도 있으면 return False\n",
    "        return True\n",
    "    \n",
    "    else:\n",
    "        print(\"회원이 아닙니다.\")    \n",
    "        return False     \n",
    "\n",
    "\n",
    "def BlockBar0_open(car_num):\n",
    "    if(BlockBar0_is_paid(car_num)):\n",
    "        print(\"차단바가 열립니다.\")\n",
    "    else:\n",
    "        print(\"차단바를 열 수 없습니다.\")"
   ]
  },
  {
   "cell_type": "code",
   "execution_count": 20,
   "metadata": {},
   "outputs": [
    {
     "name": "stdout",
     "output_type": "stream",
     "text": [
      "12가1234\n",
      "Car 객체가 생성되었습니다.\n",
      "Car number = 12가1234\n",
      "is_regi :  True\n",
      "회원입니다.\n",
      "차단바가 열립니다.\n"
     ]
    }
   ],
   "source": [
    "from Car import Car\n",
    "\n",
    "# 번호판 인식\n",
    "car_num = Camera0_recog()\n",
    "print(car_num)\n",
    "\n",
    "# Car 객체 생성\n",
    "mycar = Car(car_num)\n",
    "\n",
    "# 등록된 회원인지 여부 True or False\n",
    "is_regi = BlockBar0_is_registered(car_num)\n",
    "print('is_regi : ',is_regi)\n",
    "\n",
    "# 등록된 회원이면 결제여부 확인, 결제가 모두 완료되어 있으면 차단바 열고 아니면 닫기\n",
    "BlockBar0_open(mycar.car_num)\n"
   ]
  },
  {
   "cell_type": "markdown",
   "metadata": {},
   "source": [
    "# 주차"
   ]
  },
  {
   "cell_type": "markdown",
   "metadata": {},
   "source": [
    "# 주차 프로세스\n",
    "1. 전광판이 각 층 별 주차 가능 대수와 전체 주차 가능 대수를 사용자에게 보여준다. 예) B1| 23 / 80 \n",
    "2. 주차장 칸마다 천장에 설치된 초음파센서가, 보낸 음파 신호와 받은 음파 신호의 시간을 통해 천장으로부터 물체까지의 거리를 측정한다.\n",
    "    if 천장-물체 거리 < 천장-바닥 거리 (오차범위 있음), 이 칸에 차량이 주차함\n",
    "    else, 이 칸이 비어 있음\n",
    "3. 운전자가 주차장 천장에 설치되어 있는 LED를 보고 주차 가능 여부를 확인한다. \n",
    "4. 운전자는 초록색 LED로 표시되어 있는 칸으로 이동하여 주차한다. \n",
    "5. 주차 후 카메라 센서를 통해 운전자의 차량이 주차를 시작한 시각, 차량 번호가 DB의 PARK_PAY 테이블에 새 튜플로 생성된다. \n",
    "6. 주차 후 초음파 센서를 통해 DB의 PARKINGLOT_LIST 테이블에 해당 칸의 주차상태, 해당칸에 주차한 차량번호가 업데이트된다. \n",
    "7. 운전자가 주차한 칸 천장의 LED가 빨간색으로 바뀐다."
   ]
  },
  {
   "cell_type": "markdown",
   "metadata": {},
   "source": [
    "# 주차 코드\n",
    "차량이 주차했다는 사실은 카메라 -> Car객체 && 초음파 센서 -> parkinglot 객체 두가지가 인식한다.\n",
    "1. ParkingLot.get_level_status() 가 전광판에 각 층마다의 주차현황 출력\n",
    "2. ParkingLot.get_spot_status() 가 LED에 각 칸마다의 주차상태를 색깔로써 출력\n",
    "3. ParkingLot.proc_usonic() 가 음파 센서와 통신하며 음파 센서의 거리 값에 따라 특정 칸의 주차상태를 실시간으로 출력한다.\n",
    "4. ParkingLot.updt_status() 는 DB의 PARKINGLOT_LIST 테이블의 특정 칸에 주차상태와 차량번호를 업데이트한다.\n",
    "5. ParkingLot.detect_change() 가 ParkingLot.proc_usonic() 에서 받은 값에 변동이 있을 때 ParkingLot.set_status() 호출\n",
    "6. 차량이 LED가 초록색인 주차칸으로 들어온다.\n",
    "7. 카메라가 차량의 번호판을 찍고, Camera 객체의 인식 모듈이 이 번호판 사진을 인식하여 string으로 리턴한다.\n",
    "8. 차량번호 string으로 Car 객체를 생성한다. 객체이름은 다른 차량과 겹치지 않게 주차칸이름+차량뒷번호4자리로 한다.\n",
    "9. Car.wr_parkin() 으로 Car.in_time과 Car.car_num과 Car.location을 DB의 PARK_PAY 테이블에 저장한다. (새 튜플 생성)\n",
    "10. 차량이 주차했으므로 \n",
    "10. ParkingLot.updt_status() 가 DB의 PARKINGLOT_LIST 테이블의 특정 칸에 주차상태를 저장한다.\n",
    "11. ParkingLot.updt_status()으로 DB의 PARKINGLOT_LIST 테이블에서 Car.location과 일치하는 튜플의 Customer_car_num 을 Car.car_num 으로 update 한다. (기존 튜플 업데이트)\n",
    "12. "
   ]
  },
  {
   "cell_type": "code",
   "execution_count": 25,
   "metadata": {},
   "outputs": [],
   "source": [
    "# 각 zone 마다 설치된 카메라.\n",
    "# zone 의 주차 상태를 알려줌\n",
    "# Parking_status : 0 == vacant ; 1 == occupied ; 2 == moving_out\n",
    "def get_pklt_status(zone):\n",
    "    # zone 에 일치하는 PARKINGLOT_LIST를 return\n",
    "    '''\n",
    "    zone = 'B1-A'\n",
    "    zone_info = []\n",
    "    cur.execute(\"select * from PARKINGLOT_LIST where Parking_spot like ?\", (zone + '%',))\n",
    "    rows = cur.fetchall()\n",
    "    for row in rows:\n",
    "        zone_info.append(row)\n",
    "    print(zone_info)\n",
    "    return zone_info\n",
    "    '''\n",
    "    return [['B1-A1', 0, None],['B1-A2', 1, '12가1234'],['B1-A3', 1, '15나1313'],\n",
    "            ['B1-A4', 2, '23가1122'],['B1-A5', 0, None],['B1-A6', 0, None],['B1-A7', 0, None],\n",
    "            ['B1-A8', 0, None],['B1-A9', 0, None],['B1-A10', 1,'67마1343']]\n",
    "\n",
    "def set_pklt_status(zone):\n",
    "    # zone 에 일치하는 PARKINGLOT_LIST의 status와 차량번호를 update\n",
    "    # zone 에 일치하는 PARKINGLOT_LIST를 return\n",
    "    '''\n",
    "    zone = 'B1-A'\n",
    "\n",
    "    #### 변경 전 ####\n",
    "    print('******** 변경 전 ********')\n",
    "    zone_info = []\n",
    "    cur.execute(\"select * from PARKINGLOT_LIST where Parking_spot like ?\", (zone + '%',))\n",
    "    rows = cur.fetchall()\n",
    "    for row in rows:\n",
    "        zone_info.append(list(row))\n",
    "    for row in zone_info:\n",
    "        print(row)\n",
    "\n",
    "        \n",
    "    #### 변경 중 ####\n",
    "    zone_info[0][1] = 1\n",
    "    zone_info[0][2] = '49루0663'\n",
    "    # UPDATE table이름 SET 컬럼이름 = 변경된값 WHERE 특정튜플\n",
    "    cur.execute(\"UPDATE PARKINGLOT_LIST SET Parking_status = ?, Customer_car_num = ? WHERE Parking_spot = ?\",\n",
    "                (zone_info[0][1], zone_info[0][2], zone_info[0][0],))\n",
    "\n",
    "\n",
    "    #### 변경 후 ####\n",
    "    print('******** 변경 후 ********')\n",
    "    cur.execute(\"select * from PARKINGLOT_LIST where Parking_spot like ?\", (zone + '%',))\n",
    "    zone_info_after = []\n",
    "    rows = cur.fetchall()\n",
    "    for row in rows:\n",
    "        zone_info_after.append(list(row))\n",
    "    for row in zone_info_after:\n",
    "        print(row)\n",
    "    #return zone_info\n",
    "    \n",
    "    '''\n",
    "    return [['B1-A1', 1, '49루0663'],['B1-A2', 1, '12가1234'],['B1-A3', 1, '15나1313'],\n",
    "            ['B1-A4', 2, '23가1122'],['B1-A5', 0, None],['B1-A6', 0, None],['B1-A7', 0, None],\n",
    "            ['B1-A8', 0, None],['B1-A9', 0, None],['B1-A10', 1,'67마1343']]\n",
    "\n",
    "def "
   ]
  },
  {
   "cell_type": "code",
   "execution_count": 30,
   "metadata": {},
   "outputs": [
    {
     "name": "stdout",
     "output_type": "stream",
     "text": [
      "['B1-A1', 0, None]\n",
      "['B1-A2', 1, '12가1234']\n",
      "['B1-A3', 1, '15나1313']\n",
      "['B1-A4', 2, '23가1122']\n",
      "['B1-A5', 0, None]\n",
      "['B1-A6', 0, None]\n",
      "['B1-A7', 0, None]\n",
      "['B1-A8', 0, None]\n",
      "['B1-A9', 0, None]\n",
      "['B1-A10', 1, '67마1343']\n",
      "********\n",
      "['B1-A1', 0, None]\n",
      "B1-A1\n",
      "0\n",
      "None\n"
     ]
    }
   ],
   "source": [
    "zone_B1A = Parkinglot_status('B1-A')\n",
    "# 전체 배열\n",
    "for spot in zone_B1A:\n",
    "    print(spot)\n",
    "print('********')\n",
    "\n",
    "# 'B1-A1'의 정보\n",
    "print(zone_B1A[0])\n",
    "# 'B1-A1'\n",
    "print(zone_B1A[0][0])\n",
    "# 'B1-A1'의 status\n",
    "print(zone_B1A[0][1])\n",
    "# 'B1-A1'에 주차한 차 번호\n",
    "print(zone_B1A[0][2])"
   ]
  },
  {
   "cell_type": "code",
   "execution_count": null,
   "metadata": {},
   "outputs": [],
   "source": [
    "# 차량이 주차하면 Parkinglot 상태가 변경됨\n",
    "# 변경되는 것은 센서를 통해 감지\n",
    "set_Parkinglot(zone)\n",
    "\n"
   ]
  }
 ],
 "metadata": {
  "kernelspec": {
   "display_name": "Python 3",
   "language": "python",
   "name": "python3"
  },
  "language_info": {
   "codemirror_mode": {
    "name": "ipython",
    "version": 3
   },
   "file_extension": ".py",
   "mimetype": "text/x-python",
   "name": "python",
   "nbconvert_exporter": "python",
   "pygments_lexer": "ipython3",
   "version": "3.6.5"
  }
 },
 "nbformat": 4,
 "nbformat_minor": 2
}
