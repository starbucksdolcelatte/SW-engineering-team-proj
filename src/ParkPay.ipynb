{
 "cells": [
  {
   "cell_type": "markdown",
   "metadata": {},
   "source": [
    "# import classes"
   ]
  },
  {
   "cell_type": "code",
   "execution_count": 27,
   "metadata": {},
   "outputs": [],
   "source": [
    "from Pms_db import DBinit\n",
    "import sqlite3"
   ]
  },
  {
   "cell_type": "code",
   "execution_count": 37,
   "metadata": {},
   "outputs": [
    {
     "name": "stdout",
     "output_type": "stream",
     "text": [
      "DBinit 객체가 생성되었습니다.\n"
     ]
    },
    {
     "ename": "OperationalError",
     "evalue": "table PARKINGLOT_LIST already exists",
     "output_type": "error",
     "traceback": [
      "\u001b[1;31m---------------------------------------------------------------------------\u001b[0m",
      "\u001b[1;31mOperationalError\u001b[0m                          Traceback (most recent call last)",
      "\u001b[1;32m<ipython-input-37-e6b2960bbd6e>\u001b[0m in \u001b[0;36m<module>\u001b[1;34m()\u001b[0m\n\u001b[0;32m      5\u001b[0m \u001b[1;33m\u001b[0m\u001b[0m\n\u001b[0;32m      6\u001b[0m \u001b[1;31m# Create all tables  { PARKINGLOT_LIST, CUSTOMER_LIST, PARK_PAY, SHOPPING_PAY, PRICE, DISCOUNT }\u001b[0m\u001b[1;33m\u001b[0m\u001b[1;33m\u001b[0m\u001b[0m\n\u001b[1;32m----> 7\u001b[1;33m \u001b[0mmypmsdb\u001b[0m\u001b[1;33m.\u001b[0m\u001b[0mcreate_all\u001b[0m\u001b[1;33m(\u001b[0m\u001b[1;33m)\u001b[0m\u001b[1;33m\u001b[0m\u001b[0m\n\u001b[0m",
      "\u001b[1;32m~\\SW-engineering-team-proj\\src\\Pms_db.py\u001b[0m in \u001b[0;36mcreate_all\u001b[1;34m(self)\u001b[0m\n\u001b[0;32m    110\u001b[0m \u001b[1;33m\u001b[0m\u001b[0m\n\u001b[0;32m    111\u001b[0m     \u001b[1;32mdef\u001b[0m \u001b[0mcreate_all\u001b[0m\u001b[1;33m(\u001b[0m\u001b[0mself\u001b[0m\u001b[1;33m)\u001b[0m\u001b[1;33m:\u001b[0m\u001b[1;33m\u001b[0m\u001b[0m\n\u001b[1;32m--> 112\u001b[1;33m         \u001b[0mself\u001b[0m\u001b[1;33m.\u001b[0m\u001b[0minit_parkinglot_list\u001b[0m\u001b[1;33m(\u001b[0m\u001b[1;33m)\u001b[0m\u001b[1;33m\u001b[0m\u001b[0m\n\u001b[0m\u001b[0;32m    113\u001b[0m         \u001b[0mself\u001b[0m\u001b[1;33m.\u001b[0m\u001b[0minit_customer_list\u001b[0m\u001b[1;33m(\u001b[0m\u001b[1;33m)\u001b[0m\u001b[1;33m\u001b[0m\u001b[0m\n\u001b[0;32m    114\u001b[0m         \u001b[0mself\u001b[0m\u001b[1;33m.\u001b[0m\u001b[0minit_park_pay\u001b[0m\u001b[1;33m(\u001b[0m\u001b[1;33m)\u001b[0m\u001b[1;33m\u001b[0m\u001b[0m\n",
      "\u001b[1;32m~\\SW-engineering-team-proj\\src\\Pms_db.py\u001b[0m in \u001b[0;36minit_parkinglot_list\u001b[1;34m(self)\u001b[0m\n\u001b[0;32m     33\u001b[0m             \u001b[0mREFERENCES\u001b[0m  \u001b[0mCUSTOMER_LIST\u001b[0m\u001b[1;33m(\u001b[0m\u001b[0mCustomer_car_num\u001b[0m\u001b[1;33m)\u001b[0m\u001b[1;33m\u001b[0m\u001b[0m\n\u001b[0;32m     34\u001b[0m             \u001b[0mON\u001b[0m \u001b[0mDELETE\u001b[0m \u001b[0mNO\u001b[0m \u001b[0mACTION\u001b[0m \u001b[0mON\u001b[0m \u001b[0mUPDATE\u001b[0m \u001b[0mCASCADE\u001b[0m\u001b[1;33m\u001b[0m\u001b[0m\n\u001b[1;32m---> 35\u001b[1;33m             )\"\"\")\n\u001b[0m\u001b[0;32m     36\u001b[0m         \u001b[0mself\u001b[0m\u001b[1;33m.\u001b[0m\u001b[0mconn\u001b[0m\u001b[1;33m.\u001b[0m\u001b[0mcommit\u001b[0m\u001b[1;33m(\u001b[0m\u001b[1;33m)\u001b[0m\u001b[1;33m\u001b[0m\u001b[0m\n\u001b[0;32m     37\u001b[0m         \u001b[0mprint\u001b[0m\u001b[1;33m(\u001b[0m\u001b[1;34m'PARKINGLOT_LIST Table이 생성되었습니다.'\u001b[0m\u001b[1;33m)\u001b[0m\u001b[1;33m\u001b[0m\u001b[0m\n",
      "\u001b[1;31mOperationalError\u001b[0m: table PARKINGLOT_LIST already exists"
     ]
    }
   ],
   "source": [
    "# DBinit 인스턴스 생성 with file path\n",
    "db_path = 'mypms_db.sqlite'\n",
    "# 아래 명령어를 실행하면 현재 폴더에 mypms_db.sqlite 파일이 생김.\n",
    "mypmsdb = DBinit(db_path)\n",
    "\n",
    "# Create all tables  { PARKINGLOT_LIST, CUSTOMER_LIST, PARK_PAY, SHOPPING_PAY, PRICE, DISCOUNT }\n",
    "mypmsdb.create_all()"
   ]
  },
  {
   "cell_type": "markdown",
   "metadata": {},
   "source": [
    "# Put Sample Data in Tables"
   ]
  },
  {
   "cell_type": "code",
   "execution_count": 38,
   "metadata": {},
   "outputs": [
    {
     "ename": "IntegrityError",
     "evalue": "UNIQUE constraint failed: PARKINGLOT_LIST.Parking_spot",
     "output_type": "error",
     "traceback": [
      "\u001b[1;31m---------------------------------------------------------------------------\u001b[0m",
      "\u001b[1;31mIntegrityError\u001b[0m                            Traceback (most recent call last)",
      "\u001b[1;32m<ipython-input-38-cfa68d783f2f>\u001b[0m in \u001b[0;36m<module>\u001b[1;34m()\u001b[0m\n\u001b[0;32m      1\u001b[0m \u001b[1;31m# Make Parkinglot list : B1층부터 B3층까지, zone A부터 J까지, 각 zone당 10칸씩\u001b[0m\u001b[1;33m\u001b[0m\u001b[1;33m\u001b[0m\u001b[0m\n\u001b[1;32m----> 2\u001b[1;33m \u001b[0mmypmsdb\u001b[0m\u001b[1;33m.\u001b[0m\u001b[0mmk_sample_parkinglot_list\u001b[0m\u001b[1;33m(\u001b[0m\u001b[1;33m)\u001b[0m\u001b[1;33m\u001b[0m\u001b[0m\n\u001b[0m\u001b[0;32m      3\u001b[0m \u001b[1;31m# Make Sample Customer tuples\u001b[0m\u001b[1;33m\u001b[0m\u001b[1;33m\u001b[0m\u001b[0m\n\u001b[0;32m      4\u001b[0m \u001b[0mmypmsdb\u001b[0m\u001b[1;33m.\u001b[0m\u001b[0mmk_sample_cust\u001b[0m\u001b[1;33m(\u001b[0m\u001b[1;36m20\u001b[0m\u001b[1;33m)\u001b[0m \u001b[1;31m# 20명의 샘플 데이터\u001b[0m\u001b[1;33m\u001b[0m\u001b[0m\n\u001b[0;32m      5\u001b[0m \u001b[1;31m# Make Sample Shopping pay tuples\u001b[0m\u001b[1;33m\u001b[0m\u001b[1;33m\u001b[0m\u001b[0m\n",
      "\u001b[1;32m~\\SW-engineering-team-proj\\src\\Pms_db.py\u001b[0m in \u001b[0;36mmk_sample_parkinglot_list\u001b[1;34m(self)\u001b[0m\n\u001b[0;32m    173\u001b[0m                 \u001b[1;32mfor\u001b[0m \u001b[0mspot\u001b[0m \u001b[1;32min\u001b[0m \u001b[0mrange\u001b[0m \u001b[1;33m(\u001b[0m\u001b[1;36m1\u001b[0m\u001b[1;33m,\u001b[0m\u001b[1;36m11\u001b[0m\u001b[1;33m)\u001b[0m\u001b[1;33m:\u001b[0m\u001b[1;33m\u001b[0m\u001b[0m\n\u001b[0;32m    174\u001b[0m                     self.cur.execute(\"INSERT INTO PARKINGLOT_LIST VALUES('B\"+str(floor)\n\u001b[1;32m--> 175\u001b[1;33m                     +\"-\"+string.ascii_uppercase[zone]+str(spot)+\"', 0, NULL)\")\n\u001b[0m\u001b[0;32m    176\u001b[0m \u001b[1;33m\u001b[0m\u001b[0m\n\u001b[0;32m    177\u001b[0m     \u001b[1;31m##################################################################\u001b[0m\u001b[1;33m\u001b[0m\u001b[1;33m\u001b[0m\u001b[0m\n",
      "\u001b[1;31mIntegrityError\u001b[0m: UNIQUE constraint failed: PARKINGLOT_LIST.Parking_spot"
     ]
    }
   ],
   "source": [
    "# Make Parkinglot list : B1층부터 B3층까지, zone A부터 J까지, 각 zone당 10칸씩\n",
    "mypmsdb.mk_sample_parkinglot_list()\n",
    "# Make Sample Customer tuples\n",
    "mypmsdb.mk_sample_cust(20) # 20명의 샘플 데이터\n",
    "# Make Sample Shopping pay tuples\n",
    "mypmsdb.mk_sample_spay(37,'2018-11-04', '2018-11-28') # 37개의 샘플 데이터, 기간\n",
    "# Make Price Table\n",
    "mypmsdb.mk_sample_price('10', '500') # 10분 당 500원 (주의:string으로 넣어줘야 함)\n",
    "# Make Discount Table\n",
    "mypmsdb.mk_sample_discount(10000) # 최소 결제금액 100000원, 2만원당 1시간씩 할인시간 늘어남 (최대 5시간)"
   ]
  },
  {
   "cell_type": "markdown",
   "metadata": {},
   "source": [
    "# Check"
   ]
  },
  {
   "cell_type": "code",
   "execution_count": 5,
   "metadata": {},
   "outputs": [
    {
     "name": "stdout",
     "output_type": "stream",
     "text": [
      "******** PARKINGLOT_LIST ********\n",
      "('B1-A1', 0, None)\n",
      "('B1-A2', 0, None)\n",
      "('B1-A3', 0, None)\n",
      "('B1-A4', 0, None)\n",
      "('B1-A5', 0, None)\n",
      "('B1-A6', 0, None)\n",
      "('B1-A7', 0, None)\n",
      "('B1-A8', 0, None)\n",
      "('B1-A9', 0, None)\n",
      "('B1-A10', 0, None)\n",
      "('B1-B1', 0, None)\n",
      "('B1-B2', 0, None)\n",
      "('B1-B3', 0, None)\n",
      "('B1-B4', 0, None)\n",
      "('B1-B5', 0, None)\n",
      "('B1-B6', 0, None)\n",
      "('B1-B7', 0, None)\n",
      "('B1-B8', 0, None)\n",
      "('B1-B9', 0, None)\n",
      "('B1-B10', 0, None)\n",
      "('B1-C1', 0, None)\n",
      "('B1-C2', 0, None)\n",
      "('B1-C3', 0, None)\n",
      "('B1-C4', 0, None)\n",
      "('B1-C5', 0, None)\n",
      "('B1-C6', 0, None)\n",
      "('B1-C7', 0, None)\n",
      "('B1-C8', 0, None)\n",
      "('B1-C9', 0, None)\n",
      "('B1-C10', 0, None)\n",
      "('B1-D1', 0, None)\n",
      "('B1-D2', 0, None)\n",
      "('B1-D3', 0, None)\n",
      "('B1-D4', 0, None)\n",
      "('B1-D5', 0, None)\n",
      "('B1-D6', 0, None)\n",
      "('B1-D7', 0, None)\n",
      "('B1-D8', 0, None)\n",
      "('B1-D9', 0, None)\n",
      "('B1-D10', 0, None)\n",
      "('B1-E1', 0, None)\n",
      "('B1-E2', 0, None)\n",
      "('B1-E3', 0, None)\n",
      "('B1-E4', 0, None)\n",
      "('B1-E5', 0, None)\n",
      "('B1-E6', 0, None)\n",
      "('B1-E7', 0, None)\n",
      "('B1-E8', 0, None)\n",
      "('B1-E9', 0, None)\n",
      "('B1-E10', 0, None)\n",
      "('B1-F1', 0, None)\n",
      "('B1-F2', 0, None)\n",
      "('B1-F3', 0, None)\n",
      "('B1-F4', 0, None)\n",
      "('B1-F5', 0, None)\n",
      "('B1-F6', 0, None)\n",
      "('B1-F7', 0, None)\n",
      "('B1-F8', 0, None)\n",
      "('B1-F9', 0, None)\n",
      "('B1-F10', 0, None)\n",
      "('B1-G1', 0, None)\n",
      "('B1-G2', 0, None)\n",
      "('B1-G3', 0, None)\n",
      "('B1-G4', 0, None)\n",
      "('B1-G5', 0, None)\n",
      "('B1-G6', 0, None)\n",
      "('B1-G7', 0, None)\n",
      "('B1-G8', 0, None)\n",
      "('B1-G9', 0, None)\n",
      "('B1-G10', 0, None)\n",
      "('B1-H1', 0, None)\n",
      "('B1-H2', 0, None)\n",
      "('B1-H3', 0, None)\n",
      "('B1-H4', 0, None)\n",
      "('B1-H5', 0, None)\n",
      "('B1-H6', 0, None)\n",
      "('B1-H7', 0, None)\n",
      "('B1-H8', 0, None)\n",
      "('B1-H9', 0, None)\n",
      "('B1-H10', 0, None)\n",
      "('B1-I1', 0, None)\n",
      "('B1-I2', 0, None)\n",
      "('B1-I3', 0, None)\n",
      "('B1-I4', 0, None)\n",
      "('B1-I5', 0, None)\n",
      "('B1-I6', 0, None)\n",
      "('B1-I7', 0, None)\n",
      "('B1-I8', 0, None)\n",
      "('B1-I9', 0, None)\n",
      "('B1-I10', 0, None)\n",
      "('B1-J1', 0, None)\n",
      "('B1-J2', 0, None)\n",
      "('B1-J3', 0, None)\n",
      "('B1-J4', 0, None)\n",
      "('B1-J5', 0, None)\n",
      "('B1-J6', 0, None)\n",
      "('B1-J7', 0, None)\n",
      "('B1-J8', 0, None)\n",
      "('B1-J9', 0, None)\n",
      "('B1-J10', 0, None)\n",
      "('B2-A1', 0, None)\n",
      "('B2-A2', 0, None)\n",
      "('B2-A3', 0, None)\n",
      "('B2-A4', 0, None)\n",
      "('B2-A5', 0, None)\n",
      "('B2-A6', 0, None)\n",
      "('B2-A7', 0, None)\n",
      "('B2-A8', 0, None)\n",
      "('B2-A9', 0, None)\n",
      "('B2-A10', 0, None)\n",
      "('B2-B1', 0, None)\n",
      "('B2-B2', 0, None)\n",
      "('B2-B3', 0, None)\n",
      "('B2-B4', 0, None)\n",
      "('B2-B5', 0, None)\n",
      "('B2-B6', 0, None)\n",
      "('B2-B7', 0, None)\n",
      "('B2-B8', 0, None)\n",
      "('B2-B9', 0, None)\n",
      "('B2-B10', 0, None)\n",
      "('B2-C1', 0, None)\n",
      "('B2-C2', 0, None)\n",
      "('B2-C3', 0, None)\n",
      "('B2-C4', 0, None)\n",
      "('B2-C5', 0, None)\n",
      "('B2-C6', 0, None)\n",
      "('B2-C7', 0, None)\n",
      "('B2-C8', 0, None)\n",
      "('B2-C9', 0, None)\n",
      "('B2-C10', 0, None)\n",
      "('B2-D1', 0, None)\n",
      "('B2-D2', 0, None)\n",
      "('B2-D3', 0, None)\n",
      "('B2-D4', 0, None)\n",
      "('B2-D5', 0, None)\n",
      "('B2-D6', 0, None)\n",
      "('B2-D7', 0, None)\n",
      "('B2-D8', 0, None)\n",
      "('B2-D9', 0, None)\n",
      "('B2-D10', 0, None)\n",
      "('B2-E1', 0, None)\n",
      "('B2-E2', 0, None)\n",
      "('B2-E3', 0, None)\n",
      "('B2-E4', 0, None)\n",
      "('B2-E5', 0, None)\n",
      "('B2-E6', 0, None)\n",
      "('B2-E7', 0, None)\n",
      "('B2-E8', 0, None)\n",
      "('B2-E9', 0, None)\n",
      "('B2-E10', 0, None)\n",
      "('B2-F1', 0, None)\n",
      "('B2-F2', 0, None)\n",
      "('B2-F3', 0, None)\n",
      "('B2-F4', 0, None)\n",
      "('B2-F5', 0, None)\n",
      "('B2-F6', 0, None)\n",
      "('B2-F7', 0, None)\n",
      "('B2-F8', 0, None)\n",
      "('B2-F9', 0, None)\n",
      "('B2-F10', 0, None)\n",
      "('B2-G1', 0, None)\n",
      "('B2-G2', 0, None)\n",
      "('B2-G3', 0, None)\n",
      "('B2-G4', 0, None)\n",
      "('B2-G5', 0, None)\n",
      "('B2-G6', 0, None)\n",
      "('B2-G7', 0, None)\n",
      "('B2-G8', 0, None)\n",
      "('B2-G9', 0, None)\n",
      "('B2-G10', 0, None)\n",
      "('B2-H1', 0, None)\n",
      "('B2-H2', 0, None)\n",
      "('B2-H3', 0, None)\n",
      "('B2-H4', 0, None)\n",
      "('B2-H5', 0, None)\n",
      "('B2-H6', 0, None)\n",
      "('B2-H7', 0, None)\n",
      "('B2-H8', 0, None)\n",
      "('B2-H9', 0, None)\n",
      "('B2-H10', 0, None)\n",
      "('B2-I1', 0, None)\n",
      "('B2-I2', 0, None)\n",
      "('B2-I3', 0, None)\n",
      "('B2-I4', 0, None)\n",
      "('B2-I5', 0, None)\n",
      "('B2-I6', 0, None)\n",
      "('B2-I7', 0, None)\n",
      "('B2-I8', 0, None)\n",
      "('B2-I9', 0, None)\n",
      "('B2-I10', 0, None)\n",
      "('B2-J1', 0, None)\n",
      "('B2-J2', 0, None)\n",
      "('B2-J3', 0, None)\n",
      "('B2-J4', 0, None)\n",
      "('B2-J5', 0, None)\n",
      "('B2-J6', 0, None)\n",
      "('B2-J7', 0, None)\n",
      "('B2-J8', 0, None)\n",
      "('B2-J9', 0, None)\n",
      "('B2-J10', 0, None)\n",
      "('B3-A1', 0, None)\n",
      "('B3-A2', 0, None)\n",
      "('B3-A3', 0, None)\n",
      "('B3-A4', 0, None)\n",
      "('B3-A5', 0, None)\n",
      "('B3-A6', 0, None)\n",
      "('B3-A7', 0, None)\n",
      "('B3-A8', 0, None)\n",
      "('B3-A9', 0, None)\n",
      "('B3-A10', 0, None)\n",
      "('B3-B1', 0, None)\n",
      "('B3-B2', 0, None)\n",
      "('B3-B3', 0, None)\n",
      "('B3-B4', 0, None)\n",
      "('B3-B5', 0, None)\n",
      "('B3-B6', 0, None)\n",
      "('B3-B7', 0, None)\n",
      "('B3-B8', 0, None)\n",
      "('B3-B9', 0, None)\n",
      "('B3-B10', 0, None)\n",
      "('B3-C1', 0, None)\n",
      "('B3-C2', 0, None)\n",
      "('B3-C3', 0, None)\n",
      "('B3-C4', 0, None)\n",
      "('B3-C5', 0, None)\n",
      "('B3-C6', 0, None)\n",
      "('B3-C7', 0, None)\n",
      "('B3-C8', 0, None)\n",
      "('B3-C9', 0, None)\n",
      "('B3-C10', 0, None)\n",
      "('B3-D1', 0, None)\n",
      "('B3-D2', 0, None)\n",
      "('B3-D3', 0, None)\n",
      "('B3-D4', 0, None)\n",
      "('B3-D5', 0, None)\n",
      "('B3-D6', 0, None)\n",
      "('B3-D7', 0, None)\n",
      "('B3-D8', 0, None)\n",
      "('B3-D9', 0, None)\n",
      "('B3-D10', 0, None)\n",
      "('B3-E1', 0, None)\n",
      "('B3-E2', 0, None)\n",
      "('B3-E3', 0, None)\n",
      "('B3-E4', 0, None)\n",
      "('B3-E5', 0, None)\n",
      "('B3-E6', 0, None)\n",
      "('B3-E7', 0, None)\n",
      "('B3-E8', 0, None)\n",
      "('B3-E9', 0, None)\n",
      "('B3-E10', 0, None)\n",
      "('B3-F1', 0, None)\n",
      "('B3-F2', 0, None)\n",
      "('B3-F3', 0, None)\n",
      "('B3-F4', 0, None)\n",
      "('B3-F5', 0, None)\n",
      "('B3-F6', 0, None)\n",
      "('B3-F7', 0, None)\n",
      "('B3-F8', 0, None)\n",
      "('B3-F9', 0, None)\n",
      "('B3-F10', 0, None)\n",
      "('B3-G1', 0, None)\n",
      "('B3-G2', 0, None)\n",
      "('B3-G3', 0, None)\n",
      "('B3-G4', 0, None)\n",
      "('B3-G5', 0, None)\n",
      "('B3-G6', 0, None)\n",
      "('B3-G7', 0, None)\n",
      "('B3-G8', 0, None)\n",
      "('B3-G9', 0, None)\n",
      "('B3-G10', 0, None)\n",
      "('B3-H1', 0, None)\n",
      "('B3-H2', 0, None)\n",
      "('B3-H3', 0, None)\n",
      "('B3-H4', 0, None)\n",
      "('B3-H5', 0, None)\n",
      "('B3-H6', 0, None)\n",
      "('B3-H7', 0, None)\n",
      "('B3-H8', 0, None)\n",
      "('B3-H9', 0, None)\n",
      "('B3-H10', 0, None)\n",
      "('B3-I1', 0, None)\n",
      "('B3-I2', 0, None)\n",
      "('B3-I3', 0, None)\n",
      "('B3-I4', 0, None)\n",
      "('B3-I5', 0, None)\n",
      "('B3-I6', 0, None)\n",
      "('B3-I7', 0, None)\n",
      "('B3-I8', 0, None)\n",
      "('B3-I9', 0, None)\n",
      "('B3-I10', 0, None)\n",
      "('B3-J1', 0, None)\n",
      "('B3-J2', 0, None)\n",
      "('B3-J3', 0, None)\n",
      "('B3-J4', 0, None)\n",
      "('B3-J5', 0, None)\n",
      "('B3-J6', 0, None)\n",
      "('B3-J7', 0, None)\n",
      "('B3-J8', 0, None)\n",
      "('B3-J9', 0, None)\n",
      "('B3-J10', 0, None)\n",
      "******** CUSTOMER_LIST ********\n",
      "('49루0663', 'Amex 8376-7961-6634-4969', 'JEONG MIN JOO')\n",
      "('64러4617', 'MasterCard 1553-4104-8725-9861', 'PARK HYUN MI')\n",
      "('93마5409', 'BC 9171-1649-5796-7113', 'HYUN JI JOO')\n",
      "('70우7253', 'UnionPay 4267-1020-8989-0230', 'LEE SOO JOON')\n",
      "('78주5458', 'MasterCard 5328-1031-3130-9298', 'KONG KYUNG AH')\n",
      "('69부1494', 'VISA 5243-8322-8016-1786', 'YOON SEONG YEON')\n",
      "('90더8969', 'Amex 8852-3329-9882-8965', 'CHA HYUN WOON')\n",
      "('11허6306', 'Amex 9431-3966-4756-3012', 'KONG YOON JOON')\n",
      "('78도7807', 'VISA 1471-2133-2450-0633', 'LEE SEONG SEOK')\n",
      "('90바4515', 'UnionPay 3858-3525-9663-6871', 'CHA HYUN WOON')\n",
      "('63조1349', 'Amex 1889-7969-9618-5493', 'KONG KYUNG JOON')\n",
      "('93로1919', 'JCB 3612-6095-2793-5448', 'KANG SEO MI')\n",
      "('18고0741', 'UnionPay 8752-9865-1212-0437', 'LEE KYUNG MI')\n",
      "('50거6064', 'VISA 0596-9920-0354-3188', 'PARK MOON WOON')\n",
      "('26라0373', 'UnionPay 6973-1662-4258-1146', 'KONG MOON YEON')\n",
      "('44무2954', 'VISA 8251-7653-0645-9772', 'LEE SOO JOO')\n",
      "('33조7704', 'UnionPay 2775-3332-0951-2592', 'PARK MIN YEON')\n",
      "('15허7246', 'JCB 2864-0216-7727-6715', 'CHA SEONG YEON')\n",
      "('83조6367', 'JCB 4111-2513-9184-0203', 'JEONG MOON HYUK')\n",
      "('94다8918', 'Amex 2209-3934-7894-5770', 'CHA HYUN HYUK')\n",
      "******** PARK_PAY ********\n",
      "******** SHOPPING_PAY ********\n",
      "(1, '93마5409', 293270, '2018-11-19 06:27:10 PM')\n",
      "(2, '64러4617', 128140, '2018-11-21 08:56:48 PM')\n",
      "(3, '18고0741', 1490, '2018-11-18 07:22:58 PM')\n",
      "(4, '44무2954', 79450, '2018-11-09 04:22:39 PM')\n",
      "(5, '93마5409', 287560, '2018-11-13 03:49:37 PM')\n",
      "(6, '93마5409', 138040, '2018-11-22 07:30:29 PM')\n",
      "(7, '44무2954', 146930, '2018-11-05 07:25:05 PM')\n",
      "(8, '83조6367', 173870, '2018-11-25 09:53:47 PM')\n",
      "(9, '94다8918', 248550, '2018-11-04 11:28:00 AM')\n",
      "(10, '69부1494', 103250, '2018-11-24 11:35:53 AM')\n",
      "(11, '78주5458', 62600, '2018-11-17 10:33:23 PM')\n",
      "(12, '18고0741', 275410, '2018-11-21 10:50:30 PM')\n",
      "(13, '78도7807', 223330, '2018-11-14 11:02:26 AM')\n",
      "(14, '11허6306', 236050, '2018-11-22 10:45:46 PM')\n",
      "(15, '90바4515', 201560, '2018-11-06 12:25:36 PM')\n",
      "(16, '49루0663', 287270, '2018-11-11 07:15:44 PM')\n",
      "(17, '44무2954', 33820, '2018-11-15 10:04:23 PM')\n",
      "(18, '18고0741', 8150, '2018-11-10 04:26:08 PM')\n",
      "(19, '26라0373', 283250, '2018-11-10 06:50:34 PM')\n",
      "(20, '70우7253', 38710, '2018-11-24 02:20:27 PM')\n",
      "(21, '11허6306', 14860, '2018-11-04 07:10:19 PM')\n",
      "(22, '93로1919', 104120, '2018-11-26 10:15:40 PM')\n",
      "(23, '15허7246', 278330, '2018-11-21 07:24:57 PM')\n",
      "(24, '90더8969', 234420, '2018-11-19 04:30:14 PM')\n",
      "(25, '78주5458', 123040, '2018-11-24 01:08:22 PM')\n",
      "(26, '78도7807', 193380, '2018-11-10 12:39:41 PM')\n",
      "(27, '63조1349', 110250, '2018-11-12 03:24:23 PM')\n",
      "(28, '18고0741', 111830, '2018-11-22 11:25:40 AM')\n",
      "(29, '63조1349', 54690, '2018-11-07 06:00:05 PM')\n",
      "(30, '70우7253', 130360, '2018-11-27 12:33:20 PM')\n",
      "(31, '26라0373', 157650, '2018-11-21 10:12:18 PM')\n",
      "(32, '64러4617', 59840, '2018-11-24 07:44:38 PM')\n",
      "(33, '64러4617', 133110, '2018-11-24 02:35:26 PM')\n",
      "(34, '26라0373', 33570, '2018-11-17 04:46:26 PM')\n",
      "(35, '69부1494', 276520, '2018-11-23 08:44:52 PM')\n",
      "(36, '26라0373', 157980, '2018-11-06 04:58:22 PM')\n",
      "(37, '15허7246', 99920, '2018-11-12 07:14:43 PM')\n",
      "******** PRICE ********\n",
      "(10, 500)\n",
      "******** DISCOUNT ********\n",
      "(10000, 1)\n",
      "(30000, 2)\n",
      "(50000, 3)\n",
      "(70000, 4)\n",
      "(90000, 5)\n"
     ]
    }
   ],
   "source": [
    "# PARKINGLOT_LIST, CUSTOMER_LIST, PARK_PAY, SHOPPING_PAY, PRICE, DISCOUNT\n",
    "print('******** PARKINGLOT_LIST ********')\n",
    "mypmsdb.print_table('PARKINGLOT_LIST')\n",
    "print('******** CUSTOMER_LIST ********')\n",
    "mypmsdb.print_table('CUSTOMER_LIST')\n",
    "print('******** PARK_PAY ********')\n",
    "mypmsdb.print_table('PARK_PAY')\n",
    "print('******** SHOPPING_PAY ********')\n",
    "mypmsdb.print_table('SHOPPING_PAY')\n",
    "print('******** PRICE ********')\n",
    "mypmsdb.print_table('PRICE')\n",
    "print('******** DISCOUNT ********')\n",
    "mypmsdb.print_table('DISCOUNT')"
   ]
  },
  {
   "cell_type": "markdown",
   "metadata": {},
   "source": [
    "# DB 연결은 이렇게"
   ]
  },
  {
   "cell_type": "code",
   "execution_count": 23,
   "metadata": {},
   "outputs": [],
   "source": [
    "# SQLite DB 연결\n",
    "# db_path가 있으면 연결, 없으면 새로 생성\n",
    "con = sqlite3.connect(db_path, detect_types=sqlite3.PARSE_DECLTYPES)\n",
    "\n",
    "# Connection 으로부터 Cursor 생성\n",
    "cur = con.cursor()"
   ]
  },
  {
   "cell_type": "markdown",
   "metadata": {},
   "source": [
    "# 차량번호 검색은 이렇게\n",
    "\n",
    "# ~ 와 일치하는 튜플 검색은 이렇게"
   ]
  },
  {
   "cell_type": "code",
   "execution_count": 25,
   "metadata": {},
   "outputs": [
    {
     "name": "stdout",
     "output_type": "stream",
     "text": [
      "[('94다8918', 'Amex 2209-3934-7894-5770', 'CHA HYUN HYUK')]\n"
     ]
    }
   ],
   "source": [
    "cn = '94다8918'\n",
    "cur.execute(\"select * from CUSTOMER_LIST where customer_car_num = ?\", (cn,))\n",
    "cust_info = cur.fetchall()\n",
    "print(cust_info)"
   ]
  },
  {
   "cell_type": "markdown",
   "metadata": {},
   "source": [
    "# ~ 로 시작하는/끝나는 튜플 검색은 이렇게"
   ]
  },
  {
   "cell_type": "code",
   "execution_count": 28,
   "metadata": {},
   "outputs": [
    {
     "name": "stdout",
     "output_type": "stream",
     "text": [
      "[('11허6306', 'Amex 9431-3966-4756-3012', 'KONG YOON JOON')]\n",
      "('93마5409', 'BC 9171-1649-5796-7113', 'HYUN JI JOO')\n",
      "('90더8969', 'Amex 8852-3329-9882-8965', 'CHA HYUN WOON')\n",
      "('63조1349', 'Amex 1889-7969-9618-5493', 'KONG KYUNG JOON')\n",
      "('93로1919', 'JCB 3612-6095-2793-5448', 'KANG SEO MI')\n"
     ]
    }
   ],
   "source": [
    "# CUSTOMER_LIST 테이블에서 \n",
    "# customer_car_num 이라는 컬럼 값이(번호판)\n",
    "# '11' 으로 시작하는 튜플 불러오는 쿼리\n",
    "a = '11'\n",
    "cur.execute(\"select * from CUSTOMER_LIST where customer_car_num like ?\", (a + '%',))\n",
    "cust_info = cur.fetchall()\n",
    "print(cust_info)\n",
    "\n",
    "# CUSTOMER_LIST 테이블에서 \n",
    "# customer_car_num 이라는 컬럼 값이(번호판)\n",
    "# '9' 으로 끝나는 튜플 불러오는 쿼리\n",
    "b = '9'\n",
    "cur.execute(\"select * from CUSTOMER_LIST where customer_car_num like ?\", ('%' + b,))\n",
    "cust_info = cur.fetchall()\n",
    "for row in cust_info:\n",
    "    print(row)"
   ]
  },
  {
   "cell_type": "markdown",
   "metadata": {},
   "source": [
    "# 튜플 INSERT는 이렇게"
   ]
  },
  {
   "cell_type": "code",
   "execution_count": 30,
   "metadata": {},
   "outputs": [
    {
     "data": {
      "text/plain": [
       "<sqlite3.Cursor at 0x1f8e80e8180>"
      ]
     },
     "execution_count": 30,
     "metadata": {},
     "output_type": "execute_result"
    }
   ],
   "source": [
    "# 한 튜플의 모든 컬럼에 값을 넣는 경우\n",
    "cur.execute(\"INSERT INTO CUSTOMER_LIST VALUES('12가1234', 'BC 1234-1234-1234-1234', 'PARK SEO YOON')\")\n",
    "\n",
    "# 한 튜플의 특정 컬럼에만 값을 넣는 경우, 컬럼을 명시해준다.\n",
    "# SHOPPING_PAY = (Spay_id, Customer_car_num, Shopping_pay_amount, Shopping_pay_time text)\n",
    "# 여기서 Spay_id를 제외한 나머지 컬럼에 값을 넣어 INSERT 해보자.\n",
    "cur.execute(\"\"\"INSERT INTO SHOPPING_PAY(Customer_car_num, Shopping_pay_amount, Shopping_pay_time)\n",
    "                VALUES('12가1234', 30000, '2018-11-09 11:34:27 AM')\"\"\")"
   ]
  },
  {
   "cell_type": "markdown",
   "metadata": {},
   "source": [
    "# 튜플 값 변경은 이렇게 - UPDATE SET WHERE"
   ]
  },
  {
   "cell_type": "code",
   "execution_count": 31,
   "metadata": {},
   "outputs": [
    {
     "name": "stdout",
     "output_type": "stream",
     "text": [
      "[('12가1234', 'BC 1234-1234-1234-1234', 'PARK SEO YOON')]\n",
      "[('12가1234', 'Amex 1233-1234-1234-9000', 'PARK SEO YOON')]\n"
     ]
    }
   ],
   "source": [
    "cn = '12가1234'\n",
    "# 변경 전 값 확인\n",
    "cur.execute(\"select * from CUSTOMER_LIST where customer_car_num = ?\", (cn,))\n",
    "cust_info = cur.fetchall()\n",
    "print(cust_info)\n",
    "\n",
    "# 차번호가 '12가1234'인 고객이 결제수단을 변경한 경우\n",
    "# CUSTOMER_LIST 테이블의 Customer_card_info 컬럼을 변경\n",
    "# UPDATE table이름 SET 컬럼이름 = 변경된값 WHERE 특정튜플\n",
    "cur.execute(\"UPDATE CUSTOMER_LIST SET Customer_card_info = 'Amex 1233-1234-1234-9000' WHERE customer_car_num = ?\", (cn,))\n",
    "\n",
    "# 변경되었는지 확인\n",
    "cur.execute(\"select * from CUSTOMER_LIST where customer_car_num = ?\", (cn,))\n",
    "cust_info = cur.fetchall()\n",
    "print(cust_info)"
   ]
  },
  {
   "cell_type": "code",
   "execution_count": 39,
   "metadata": {},
   "outputs": [
    {
     "name": "stdout",
     "output_type": "stream",
     "text": [
      "******** 변경 전 ********\n",
      "['B1-A1', 0, None]\n",
      "['B1-A2', 0, None]\n",
      "['B1-A3', 0, None]\n",
      "['B1-A4', 0, None]\n",
      "['B1-A5', 0, None]\n",
      "['B1-A6', 0, None]\n",
      "['B1-A7', 0, None]\n",
      "['B1-A8', 0, None]\n",
      "['B1-A9', 0, None]\n",
      "['B1-A10', 0, None]\n",
      "******** 변경 후 ********\n",
      "['B1-A1', 1, '49루0663']\n",
      "['B1-A2', 0, None]\n",
      "['B1-A3', 0, None]\n",
      "['B1-A4', 0, None]\n",
      "['B1-A5', 0, None]\n",
      "['B1-A6', 0, None]\n",
      "['B1-A7', 0, None]\n",
      "['B1-A8', 0, None]\n",
      "['B1-A9', 0, None]\n",
      "['B1-A10', 0, None]\n"
     ]
    }
   ],
   "source": [
    "zone = 'B1-A'\n",
    "\n",
    "#### 변경 전 ####\n",
    "print('******** 변경 전 ********')\n",
    "zone_info = []\n",
    "cur.execute(\"select * from PARKINGLOT_LIST where Parking_spot like ?\", (zone + '%',))\n",
    "rows = cur.fetchall()\n",
    "for row in rows:\n",
    "    zone_info.append(list(row))\n",
    "for row in zone_info:\n",
    "    print(row)\n",
    "    \n",
    "    \n",
    "#### 변경 중 ####\n",
    "zone_info[0][1] = 1\n",
    "zone_info[0][2] = '49루0663'\n",
    "\n",
    "# UPDATE table이름 SET 컬럼이름 = 변경된값 WHERE 특정튜플\n",
    "cur.execute(\"UPDATE PARKINGLOT_LIST SET Parking_status = ?, Customer_car_num = ? WHERE Parking_spot = ?\",\n",
    "            (zone_info[0][1], zone_info[0][2], zone_info[0][0],))\n",
    "\n",
    "\n",
    "#### 변경 후 ####\n",
    "print('******** 변경 후 ********')\n",
    "cur.execute(\"select * from PARKINGLOT_LIST where Parking_spot like ?\", (zone + '%',))\n",
    "zone_info_after = []\n",
    "rows = cur.fetchall()\n",
    "for row in rows:\n",
    "    zone_info_after.append(list(row))\n",
    "for row in zone_info_after:\n",
    "    print(row)\n",
    "#return zone_info"
   ]
  },
  {
   "cell_type": "markdown",
   "metadata": {},
   "source": [
    "# 튜플 삭제는 이렇게 - DELETE"
   ]
  },
  {
   "cell_type": "code",
   "execution_count": 32,
   "metadata": {},
   "outputs": [
    {
     "name": "stdout",
     "output_type": "stream",
     "text": [
      "[('12가1234', 'Amex 1233-1234-1234-9000', 'PARK SEO YOON')]\n",
      "[]\n"
     ]
    }
   ],
   "source": [
    "cn = '12가1234'\n",
    "# 변경 전 값 확인\n",
    "cur.execute(\"select * from CUSTOMER_LIST where customer_car_num = ?\", (cn,))\n",
    "cust_info = cur.fetchall()\n",
    "print(cust_info)\n",
    "\n",
    "# 차번호가 '12가1234'인 고객이 탈퇴한 경우\n",
    "# CUSTOMER_LIST 테이블의 Customer_car_num = '12가1234'인 튜플 삭제\n",
    "# DELETE FROM table이름 WHERE 특정튜플\n",
    "cur.execute(\"DELETE FROM CUSTOMER_LIST WHERE Customer_car_num = ?\", (cn,))\n",
    "\n",
    "# 변경되었는지 확인\n",
    "cur.execute(\"select * from CUSTOMER_LIST where customer_car_num = ?\", (cn,))\n",
    "cust_info = cur.fetchall()\n",
    "print(cust_info)"
   ]
  },
  {
   "cell_type": "code",
   "execution_count": 77,
   "metadata": {},
   "outputs": [
    {
     "ename": "NameError",
     "evalue": "name 'cur' is not defined",
     "output_type": "error",
     "traceback": [
      "\u001b[1;31m---------------------------------------------------------------------------\u001b[0m",
      "\u001b[1;31mNameError\u001b[0m                                 Traceback (most recent call last)",
      "\u001b[1;32m<ipython-input-77-c83eb93866f8>\u001b[0m in \u001b[0;36m<module>\u001b[1;34m()\u001b[0m\n\u001b[0;32m      1\u001b[0m \u001b[0mmypmsdb\u001b[0m\u001b[1;33m.\u001b[0m\u001b[0mcur\u001b[0m\u001b[1;33m.\u001b[0m\u001b[0mexecute\u001b[0m\u001b[1;33m(\u001b[0m\u001b[1;34m\"select * from PARK_PAY\"\u001b[0m\u001b[1;33m)\u001b[0m\u001b[1;33m\u001b[0m\u001b[0m\n\u001b[1;32m----> 2\u001b[1;33m \u001b[0mcust_info\u001b[0m \u001b[1;33m=\u001b[0m \u001b[0mcur\u001b[0m\u001b[1;33m.\u001b[0m\u001b[0mfetchall\u001b[0m\u001b[1;33m(\u001b[0m\u001b[1;33m)\u001b[0m\u001b[1;33m\u001b[0m\u001b[0m\n\u001b[0m",
      "\u001b[1;31mNameError\u001b[0m: name 'cur' is not defined"
     ]
    }
   ],
   "source": []
  },
  {
   "cell_type": "markdown",
   "metadata": {},
   "source": [
    "# Make sample PARK_PAY tuples"
   ]
  },
  {
   "cell_type": "code",
   "execution_count": 100,
   "metadata": {},
   "outputs": [],
   "source": [
    "# 아래 함수는 Pms_db.py 의 DBinit Class에 들어갈 것임. 따라서 self 는 DBinit 클래스를 가리킨다.\n",
    "##################################################################\n",
    "# Make sample tuple of PARK_PAY and insert them to PARK_PAY \n",
    "## PARK_PAY = {Ppay_id, Customer_car_num, Parking_spot, Park_in,\n",
    "##             Park_out, Park_free_hour, Park_pay_amount, Park_is_paid}\n",
    "## Ppay_id : 튜플 insert 시 자동으로 생성되는거라 얘를 빼고 나머지 컬럼값을 넣어줘야 함\n",
    "## Customer_car_num 은 SHOPPING_PAY에서 전부 가져온다. 쇼핑한 사람은 모두 주차도 했다고 가정.\n",
    "## Parking_spot PARKING_LOT 에서 가져온다고 가정. 둘 이상의 튜플이 같은시간대에 동일한 spot 을 가지면 안됨.\n",
    "## Park_in 은 최소 오전 11시부터, SHOPPING_PAY 의 Shopping_pay_time 전까지\n",
    "## Park_out 은 SHOPPING_PAY 의 Shopping_pay_time 이후부터 최대 오후 11시까지\n",
    "## Park_free_hour 는 SHOPPING_PAY 의 Shopping_pay_amount 와 PRICE와 DISCOUNT 테이블에 근거하여 계산\n",
    "## Park_free_hour 계산하는 모듈 따로 만들어야 함\n",
    "## Park_is_paid 는 랜덤하게 0과 1 섞어서 넣어줌.\n",
    "\n",
    "def mk_sample_ppay(self):\n",
    "    \n",
    "    '''\n",
    "    Make sample tuples of PARK_PAY and insert them to PARK_PAY \n",
    "    PARK_PAY = {Ppay_id, Customer_car_num, Parking_spot, Park_in,\n",
    "                Park_out, Park_free_hour, Park_pay_amount, Park_is_paid}\n",
    "    '''\n",
    "    # Get Customer_car_num list from SHOPPING_PAY\n",
    "    self.cur.execute('SELECT Customer_car_num FROM SHOPPING_PAY')\n",
    "    cnum_list = []\n",
    "    for row in self.cur:\n",
    "        cnum_list.append(row[0])\n",
    "    \n",
    "    # Get Parking_spot list fom PARKINGLOT_LIST \n",
    "    self.cur.execute('SELECT Parking_spot FROM PARKINGLOT_LIST')\n",
    "    pksp_list = []\n",
    "    for row in self.cur:\n",
    "        pksp_list.append(row[0])\n",
    "    \n",
    "    # Set opening hours    \n",
    "    open_time = \"11:00:00 AM\"\n",
    "    close_time = \"11:00:00 PM\"\n",
    "    \n",
    "    # Get Shopping_pay_amount list from SHOPPING_PAY\n",
    "    self.cur.execute('SELECT Shopping_pay_time FROM SHOPPING_PAY')\n",
    "    stime_list = []\n",
    "    for row in self.cur:\n",
    "        stime_list.append(row[0])\n",
    "    \n",
    "    # Set random park_in time between open_time and shopping_pay_time\n",
    "    pin_list = []\n",
    "    for stime in stime_list:\n",
    "        # stime.split(' ')[0] = 'yyyy-mm-dd-yyyy'\n",
    "        # ' '.join((stime.split(' ')[1:])) = 'hh:mm:ss PM/AM'\n",
    "        pin_list.append(stime.split(' ')[0] + ' ' + (randomTime(open_time, ' '.join((stime.split(' ')[1:])), random.random())))\n",
    "    \n",
    "    # Set random park_out time between shopping_pay_time and close_time\n",
    "    pout_list = []\n",
    "    for stime in stime_list:\n",
    "        # stime.split(' ')[0] = 'yyyy-mm-dd-yyyy'\n",
    "        # ' '.join((stime.split(' ')[1:])) = 'hh:mm:ss PM/AM'\n",
    "        pout_list.append(stime.split(' ')[0] + ' ' + (randomTime(' '.join((stime.split(' ')[1:])), close_time, random.random())))\n",
    "    \n",
    "    # Get parking minutes between park_in and park_out.\n",
    "    # That is, \"how long had this car parked?\"\n",
    "    pmin_list = []\n",
    "    for i in range(len(pin_list)):\n",
    "        pmin_list.append(diff_min(pin_list[i], pout_list[i], '%Y-%m-%d %I:%M:%S %p'))\n",
    "                         \n",
    "    # Get Shopping_pay_amount list from SHOPPING_PAY\n",
    "    self.cur.execute('SELECT Shopping_pay_amount FROM SHOPPING_PAY')\n",
    "    spay_list = []\n",
    "    for row in self.cur:\n",
    "        spay_list.append(row[0])\n",
    "    \n",
    "    # Get DISCOUNT table\n",
    "    self.cur.execute('SELECT * FROM DISCOUNT')\n",
    "    discount_list = []\n",
    "    for row in self.cur:\n",
    "        discount_list.append(list(row))\n",
    "    \n",
    "    # Calculate Park_free_hour\n",
    "    pfrh_list = []\n",
    "    for spay in spay_list:\n",
    "        pfrh_list.append(cal_freeh(spay, discount_list))\n",
    "    \n",
    "    # Get PRICE table\n",
    "    self.cur.execute('SELECT * FROM PRICE')\n",
    "    for row in self.cur:\n",
    "        price_list = list(row)\n",
    "    \n",
    "    # Calculate Park_pay_amount\n",
    "    ppay_list = []\n",
    "    for i in range(len(pmin_list)):\n",
    "        ppay_list.append(cal_price(pmin_list[i], price_list, pfrh_list[i]))\n",
    "    \n",
    "    \n",
    "    \n",
    "    for i in range (len(cnum_list)):\n",
    "        # 아래에서 주의해야 할 점\n",
    "        # 변수가 text 여야 하면 (예; 차 번호), \",'\" + 변수 + \"'\" 이렇게 넣어줘야 하고\n",
    "        # 변수가 int 여야 하면 (예: 결제여부), \",\" + str(변수) + 이렇게 넣어줘야 함\n",
    "        self.cur.execute(\"\"\"INSERT INTO PARK_PAY(Customer_car_num, Parking_spot, Park_in, Park_out, \n",
    "                         Park_free_hour, Park_pay_amount, Park_is_paid) VALUES('\"\"\"\n",
    "                        + cnum_list[i] + \"', '\" + pksp_list[i] + \"', '\" + pin_list[i] + \"', '\" + pout_list[i] + \"', \"\n",
    "                        + str(pfrh_list[i]) + \", \" + str(ppay_list[i]) + \", \" + str(1) + \")\")\n",
    "    # commit 을 해줘야 sqlite 에 반영이 됨\n",
    "    self.conn.commit()"
   ]
  },
  {
   "cell_type": "code",
   "execution_count": 101,
   "metadata": {},
   "outputs": [
    {
     "name": "stdout",
     "output_type": "stream",
     "text": [
      "[]\n"
     ]
    }
   ],
   "source": [
    "mypmsdb.cur.execute(\"DELETE from PARK_PAY\")\n",
    "ppay_info = mypmsdb.cur.fetchall()\n",
    "\n",
    "print(ppay_info)"
   ]
  },
  {
   "cell_type": "code",
   "execution_count": 102,
   "metadata": {
    "scrolled": true
   },
   "outputs": [],
   "source": [
    "mk_sample_ppay(mypmsdb)"
   ]
  },
  {
   "cell_type": "code",
   "execution_count": 103,
   "metadata": {},
   "outputs": [
    {
     "name": "stdout",
     "output_type": "stream",
     "text": [
      "(1, '93마5409', 'B1-A1', '2018-11-19 11:16:27 AM', '2018-11-19 06:57:41 PM', 5, 8500, 1)\n",
      "(2, '64러4617', 'B1-A10', '2018-11-21 02:44:48 PM', '2018-11-21 10:12:08 PM', 5, 7500, 1)\n",
      "(3, '18고0741', 'B1-A2', '2018-11-18 12:18:53 PM', '2018-11-18 10:11:53 PM', 0, 30000, 1)\n",
      "(4, '44무2954', 'B1-A3', '2018-11-09 01:56:54 PM', '2018-11-09 08:50:18 PM', 4, 9000, 1)\n",
      "(5, '93마5409', 'B1-A4', '2018-11-13 11:42:32 AM', '2018-11-13 06:33:06 PM', 5, 5500, 1)\n",
      "(6, '93마5409', 'B1-A5', '2018-11-22 12:29:08 PM', '2018-11-22 07:36:01 PM', 5, 6500, 1)\n",
      "(7, '44무2954', 'B1-A6', '2018-11-05 06:45:06 PM', '2018-11-05 08:58:50 PM', 5, 0, 1)\n",
      "(8, '83조6367', 'B1-A7', '2018-11-25 05:58:29 PM', '2018-11-25 10:54:17 PM', 5, 0, 1)\n",
      "(9, '94다8918', 'B1-A8', '2018-11-04 11:06:47 AM', '2018-11-04 03:18:22 PM', 5, 0, 1)\n",
      "(10, '69부1494', 'B1-A9', '2018-11-24 11:31:32 AM', '2018-11-24 02:25:30 PM', 5, 0, 1)\n",
      "(11, '78주5458', 'B1-B1', '2018-11-17 06:13:10 PM', '2018-11-17 10:37:03 PM', 3, 4500, 1)\n",
      "(12, '18고0741', 'B1-B10', '2018-11-21 10:11:50 PM', '2018-11-21 10:55:20 PM', 5, 0, 1)\n",
      "(13, '78도7807', 'B1-B2', '2018-11-14 11:01:10 AM', '2018-11-14 05:25:08 PM', 5, 4500, 1)\n",
      "(14, '11허6306', 'B1-B3', '2018-11-22 09:26:39 PM', '2018-11-22 10:46:48 PM', 5, 0, 1)\n",
      "(15, '90바4515', 'B1-B4', '2018-11-06 11:58:04 AM', '2018-11-06 04:44:16 PM', 5, 0, 1)\n",
      "(16, '49루0663', 'B1-B5', '2018-11-11 11:21:53 AM', '2018-11-11 09:43:27 PM', 5, 16500, 1)\n",
      "(17, '44무2954', 'B1-B6', '2018-11-15 01:39:38 PM', '2018-11-15 10:58:06 PM', 2, 22000, 1)\n",
      "(18, '18고0741', 'B1-B7', '2018-11-10 12:31:49 PM', '2018-11-10 07:16:06 PM', 0, 20500, 1)\n",
      "(19, '26라0373', 'B1-B8', '2018-11-10 12:20:00 PM', '2018-11-10 08:39:19 PM', 5, 10000, 1)\n",
      "(20, '70우7253', 'B1-B9', '2018-11-24 11:47:44 AM', '2018-11-24 06:25:13 PM', 2, 14000, 1)\n",
      "(21, '11허6306', 'B1-C1', '2018-11-04 12:50:49 PM', '2018-11-04 08:02:00 PM', 1, 19000, 1)\n",
      "(22, '93로1919', 'B1-C10', '2018-11-26 08:53:28 PM', '2018-11-26 10:33:10 PM', 5, 0, 1)\n",
      "(23, '15허7246', 'B1-C2', '2018-11-21 02:53:44 PM', '2018-11-21 09:43:42 PM', 5, 5500, 1)\n",
      "(24, '90더8969', 'B1-C3', '2018-11-19 03:49:27 PM', '2018-11-19 07:04:59 PM', 5, 0, 1)\n",
      "(25, '78주5458', 'B1-C4', '2018-11-24 11:17:42 AM', '2018-11-24 06:52:19 PM', 5, 8000, 1)\n",
      "(26, '78도7807', 'B1-C5', '2018-11-10 11:56:18 AM', '2018-11-10 09:18:00 PM', 5, 13500, 1)\n",
      "(27, '63조1349', 'B1-C6', '2018-11-12 11:03:33 AM', '2018-11-12 10:59:04 PM', 5, 21000, 1)\n",
      "(28, '18고0741', 'B1-C7', '2018-11-22 11:23:52 AM', '2018-11-22 09:40:10 PM', 5, 16000, 1)\n",
      "(29, '63조1349', 'B1-C8', '2018-11-07 11:02:22 AM', '2018-11-07 07:51:35 PM', 3, 17500, 1)\n",
      "(30, '70우7253', 'B1-C9', '2018-11-27 11:36:23 AM', '2018-11-27 12:46:56 PM', 5, 0, 1)\n",
      "(31, '26라0373', 'B1-D1', '2018-11-21 07:58:54 PM', '2018-11-21 10:41:28 PM', 5, 0, 1)\n",
      "(32, '64러4617', 'B1-D10', '2018-11-24 07:44:34 PM', '2018-11-24 09:17:20 PM', 3, 0, 1)\n",
      "(33, '64러4617', 'B1-D2', '2018-11-24 11:04:12 AM', '2018-11-24 04:35:01 PM', 5, 1500, 1)\n",
      "(34, '26라0373', 'B1-D3', '2018-11-17 03:45:29 PM', '2018-11-17 05:01:29 PM', 2, 0, 1)\n",
      "(35, '69부1494', 'B1-D4', '2018-11-23 03:58:20 PM', '2018-11-23 09:28:19 PM', 5, 1500, 1)\n",
      "(36, '26라0373', 'B1-D5', '2018-11-06 11:13:40 AM', '2018-11-06 09:46:58 PM', 5, 17000, 1)\n",
      "(37, '15허7246', 'B1-D6', '2018-11-12 05:24:27 PM', '2018-11-12 10:51:54 PM', 5, 1500, 1)\n"
     ]
    }
   ],
   "source": [
    "mypmsdb.print_table('PARK_PAY')"
   ]
  },
  {
   "cell_type": "code",
   "execution_count": 71,
   "metadata": {},
   "outputs": [
    {
     "name": "stdout",
     "output_type": "stream",
     "text": [
      "(1, '93마5409', 293270, '2018-11-19 06:27:10 PM')\n",
      "(2, '64러4617', 128140, '2018-11-21 08:56:48 PM')\n",
      "(3, '18고0741', 1490, '2018-11-18 07:22:58 PM')\n",
      "(4, '44무2954', 79450, '2018-11-09 04:22:39 PM')\n",
      "(5, '93마5409', 287560, '2018-11-13 03:49:37 PM')\n",
      "(6, '93마5409', 138040, '2018-11-22 07:30:29 PM')\n",
      "(7, '44무2954', 146930, '2018-11-05 07:25:05 PM')\n",
      "(8, '83조6367', 173870, '2018-11-25 09:53:47 PM')\n",
      "(9, '94다8918', 248550, '2018-11-04 11:28:00 AM')\n",
      "(10, '69부1494', 103250, '2018-11-24 11:35:53 AM')\n",
      "(11, '78주5458', 62600, '2018-11-17 10:33:23 PM')\n",
      "(12, '18고0741', 275410, '2018-11-21 10:50:30 PM')\n",
      "(13, '78도7807', 223330, '2018-11-14 11:02:26 AM')\n",
      "(14, '11허6306', 236050, '2018-11-22 10:45:46 PM')\n",
      "(15, '90바4515', 201560, '2018-11-06 12:25:36 PM')\n",
      "(16, '49루0663', 287270, '2018-11-11 07:15:44 PM')\n",
      "(17, '44무2954', 33820, '2018-11-15 10:04:23 PM')\n",
      "(18, '18고0741', 8150, '2018-11-10 04:26:08 PM')\n",
      "(19, '26라0373', 283250, '2018-11-10 06:50:34 PM')\n",
      "(20, '70우7253', 38710, '2018-11-24 02:20:27 PM')\n",
      "(21, '11허6306', 14860, '2018-11-04 07:10:19 PM')\n",
      "(22, '93로1919', 104120, '2018-11-26 10:15:40 PM')\n",
      "(23, '15허7246', 278330, '2018-11-21 07:24:57 PM')\n",
      "(24, '90더8969', 234420, '2018-11-19 04:30:14 PM')\n",
      "(25, '78주5458', 123040, '2018-11-24 01:08:22 PM')\n",
      "(26, '78도7807', 193380, '2018-11-10 12:39:41 PM')\n",
      "(27, '63조1349', 110250, '2018-11-12 03:24:23 PM')\n",
      "(28, '18고0741', 111830, '2018-11-22 11:25:40 AM')\n",
      "(29, '63조1349', 54690, '2018-11-07 06:00:05 PM')\n",
      "(30, '70우7253', 130360, '2018-11-27 12:33:20 PM')\n",
      "(31, '26라0373', 157650, '2018-11-21 10:12:18 PM')\n",
      "(32, '64러4617', 59840, '2018-11-24 07:44:38 PM')\n",
      "(33, '64러4617', 133110, '2018-11-24 02:35:26 PM')\n",
      "(34, '26라0373', 33570, '2018-11-17 04:46:26 PM')\n",
      "(35, '69부1494', 276520, '2018-11-23 08:44:52 PM')\n",
      "(36, '26라0373', 157980, '2018-11-06 04:58:22 PM')\n",
      "(37, '15허7246', 99920, '2018-11-12 07:14:43 PM')\n"
     ]
    }
   ],
   "source": [
    "mypmsdb.print_table('SHOPPING_PAY')"
   ]
  },
  {
   "cell_type": "code",
   "execution_count": 42,
   "metadata": {},
   "outputs": [
    {
     "name": "stdout",
     "output_type": "stream",
     "text": [
      "2018-12-08\n",
      "<class 'str'>\n",
      "['1:23:33', 'PM']\n",
      "1:23:33 PM\n",
      "<class 'str'>\n"
     ]
    }
   ],
   "source": [
    "open_time = \"11:00:00 AM\"\n",
    "stime = \"2018-12-08 1:23:33 PM\"\n",
    "print(stime.split(' ')[0])\n",
    "print(type(stime.split(' ')[0]))\n",
    "print(stime.split(' ')[1:])\n",
    "print(' '.join((stime.split(' ')[1:])))\n",
    "print(type(' '.join((stime.split(' ')[1:]))))\n",
    "#stime.split(' ')[0] + ' ' + (randomTime(open_time, ' '.join((stime.split(' ')[1:])), random.random())"
   ]
  },
  {
   "cell_type": "markdown",
   "metadata": {},
   "source": [
    "# Make DB.sqlite and Create Tables"
   ]
  },
  {
   "cell_type": "code",
   "execution_count": 54,
   "metadata": {},
   "outputs": [],
   "source": [
    "def cal_freeh(spay_amount, discount_list) :\n",
    "    '''\n",
    "    Calculate park_free_hour.\n",
    "    Format of parameters \n",
    "      spay_amount : int\n",
    "      discount = list ['Shopping_pay_minimum', 'Free_hour']\n",
    "    '''\n",
    "    for i in range(len(discount_list)):\n",
    "        if spay_amount < discount_list[i][0]:\n",
    "            return discount_list[i][1]-1\n",
    "    return discount_list[i][1]"
   ]
  },
  {
   "cell_type": "code",
   "execution_count": 83,
   "metadata": {},
   "outputs": [],
   "source": [
    "def cal_price(minutes, price_list, free_hour):\n",
    "    '''\n",
    "    Calculate park_pay_amount.\n",
    "    Format of parameters \n",
    "      minutes : int\n",
    "      price_list = [Unit_minute, Unit_price]\n",
    "      free_hour = int\n",
    "    '''\n",
    "    free_min = free_hour * 60\n",
    "    net_min = minutes - free_min\n",
    "    if net_min <= 0:\n",
    "        return 0\n",
    "    \n",
    "    t = int(net_min / price_list[0])\n",
    "    if (net_min % price_list[0] == 0):\n",
    "        return int(t * price_list[1])\n",
    "    else:\n",
    "        return int((t + 1) * price_list[1])"
   ]
  },
  {
   "cell_type": "code",
   "execution_count": 2,
   "metadata": {},
   "outputs": [],
   "source": [
    "import datetime\n",
    "import time\n",
    "import random"
   ]
  },
  {
   "cell_type": "code",
   "execution_count": 15,
   "metadata": {},
   "outputs": [
    {
     "name": "stdout",
     "output_type": "stream",
     "text": [
      "2017-08-02\n",
      "11:57:21 AM\n"
     ]
    }
   ],
   "source": [
    "import random\n",
    "import time\n",
    "\n",
    "def strDateProp(start, end, format, prop):\n",
    "    \"\"\"Get a time at a proportion of a range of two formatted times.\n",
    "\n",
    "    start and end should be strings specifying times formated in the\n",
    "    given format (strftime-style), giving an interval [start, end].\n",
    "    prop specifies how a proportion of the interval to be taken after\n",
    "    start.  The returned time will be in the specified format.\n",
    "    \"\"\"\n",
    "\n",
    "    sdate = time.mktime(time.strptime(start, format))\n",
    "    edate = time.mktime(time.strptime(end, format))\n",
    "    pdate = sdate + prop * (edate - sdate)\n",
    "\n",
    "    return time.strftime(format, time.localtime(pdate))\n",
    "\n",
    "\n",
    "\n",
    "\n",
    "def strTimeProp(start, end, format, prop):\n",
    "    \"\"\"Get a time at a proportion of a range of two formatted times.\n",
    "\n",
    "    start and end should be strings specifying times formated in the\n",
    "    given format (strftime-style), giving an interval [start, end].\n",
    "    prop specifies how a proportion of the interval to be taken after\n",
    "    start.  The returned time will be in the specified format.\n",
    "    \"\"\"\n",
    "    date = '2018-12-08'\n",
    "    start_dt = date + ' ' + start\n",
    "    end_dt = date + ' ' + end\n",
    "    stime = time.mktime(time.strptime(start_dt, '%Y-%m-%d %I:%M:%S %p'))\n",
    "    etime = time.mktime(time.strptime(end_dt, '%Y-%m-%d %I:%M:%S %p'))\n",
    "    ptime = stime + prop * (etime - stime)\n",
    "\n",
    "    return time.strftime(format, time.localtime(ptime))\n",
    "\n",
    "\n",
    "\n",
    "\n",
    "def randomDate(start, end, prop):\n",
    "    return strDateProp(start, end, '%Y-%m-%d', prop)\n",
    "print(randomDate(\"2016-01-01\", \"2018-11-22\", random.random()))\n",
    "\n",
    "\n",
    "def randomTime(start, end, prop):\n",
    "    return strTimeProp(start, end, '%I:%M:%S %p', prop)\n",
    "# Open Hours : 11:00:00 AM to 11:00:00 PM\n",
    "print (randomTime(\"11:00:00 AM\", \"11:00:00 PM\", random.random()))"
   ]
  },
  {
   "cell_type": "code",
   "execution_count": 7,
   "metadata": {},
   "outputs": [
    {
     "name": "stdout",
     "output_type": "stream",
     "text": [
      "12/08/2018 05:57:52 PM\n"
     ]
    }
   ],
   "source": [
    "def randomDateTime(start, end, format, prop):\n",
    "    start_dt = time.mktime(time.strptime(start, format))\n",
    "    end_dt = time.mktime(time.strptime(end, format))\n",
    "    ptime = start_dt + prop * (end_dt - start_dt)\n",
    "\n",
    "    return time.strftime(format, time.localtime(ptime))\n",
    "\n",
    "print (randomDateTime(\"12/8/2018 11:00:00 AM\", \"12/8/2018 11:00:00 PM\", '%m/%d/%Y %I:%M:%S %p', random.random()))"
   ]
  },
  {
   "cell_type": "code",
   "execution_count": 16,
   "metadata": {},
   "outputs": [
    {
     "data": {
      "text/plain": [
       "1544234400.0"
      ]
     },
     "execution_count": 16,
     "metadata": {},
     "output_type": "execute_result"
    }
   ],
   "source": [
    "time.mktime(time.strptime(\"2018-12-8 11:00:00 AM\", '%Y-%m-%d %I:%M:%S %p'))"
   ]
  },
  {
   "cell_type": "code",
   "execution_count": 11,
   "metadata": {},
   "outputs": [
    {
     "data": {
      "text/plain": [
       "'2018-12-08'"
      ]
     },
     "execution_count": 11,
     "metadata": {},
     "output_type": "execute_result"
    }
   ],
   "source": [
    "time.strftime('%Y-%m-%d', time.localtime(time.mktime(time.strptime(\"2018-12-8 11:00:00 AM\", '%Y-%m-%d %I:%M:%S %p'))))"
   ]
  },
  {
   "cell_type": "code",
   "execution_count": 12,
   "metadata": {},
   "outputs": [
    {
     "data": {
      "text/plain": [
       "'2018-12-8'"
      ]
     },
     "execution_count": 12,
     "metadata": {},
     "output_type": "execute_result"
    }
   ],
   "source": [
    "\"2018-12-08 11:00:00 AM\".split(' ')[0]"
   ]
  },
  {
   "cell_type": "code",
   "execution_count": 17,
   "metadata": {},
   "outputs": [
    {
     "name": "stdout",
     "output_type": "stream",
     "text": [
      "43200.0\n"
     ]
    }
   ],
   "source": [
    "stime = time.mktime(time.strptime(\"2018-12-8 11:00:00 AM\", '%Y-%m-%d %I:%M:%S %p'))\n",
    "etime = time.mktime(time.strptime(\"2018-12-8 11:00:00 PM\", '%Y-%m-%d %I:%M:%S %p'))\n",
    "ptime = (etime - stime)\n",
    "print(ptime)"
   ]
  },
  {
   "cell_type": "code",
   "execution_count": 20,
   "metadata": {},
   "outputs": [
    {
     "data": {
      "text/plain": [
       "12.0"
      ]
     },
     "execution_count": 20,
     "metadata": {},
     "output_type": "execute_result"
    }
   ],
   "source": [
    "ptime/3600"
   ]
  },
  {
   "cell_type": "code",
   "execution_count": 23,
   "metadata": {},
   "outputs": [],
   "source": [
    "def diff_min(start, end, format):\n",
    "    stime = time.mktime(time.strptime(start, format))\n",
    "    etime = time.mktime(time.strptime(end, format))\n",
    "    ptime = (etime - stime)\n",
    "    return int(ptime/60)"
   ]
  },
  {
   "cell_type": "code",
   "execution_count": 24,
   "metadata": {},
   "outputs": [
    {
     "data": {
      "text/plain": [
       "720"
      ]
     },
     "execution_count": 24,
     "metadata": {},
     "output_type": "execute_result"
    }
   ],
   "source": [
    "diff_min(\"2018-12-8 11:00:00 AM\", \"2018-12-8 11:00:00 PM\", '%Y-%m-%d %I:%M:%S %p')"
   ]
  },
  {
   "cell_type": "code",
   "execution_count": null,
   "metadata": {},
   "outputs": [],
   "source": [
    "1초 * 60 = 1분\n",
    "1분 * 60 = 1시간 \n",
    "1초 * 60 * 60 = 1시간\n",
    "43200초 * 60 * 60 = 12시간"
   ]
  }
 ],
 "metadata": {
  "kernelspec": {
   "display_name": "Python 3",
   "language": "python",
   "name": "python3"
  },
  "language_info": {
   "codemirror_mode": {
    "name": "ipython",
    "version": 3
   },
   "file_extension": ".py",
   "mimetype": "text/x-python",
   "name": "python",
   "nbconvert_exporter": "python",
   "pygments_lexer": "ipython3",
   "version": "3.6.5"
  }
 },
 "nbformat": 4,
 "nbformat_minor": 2
}
