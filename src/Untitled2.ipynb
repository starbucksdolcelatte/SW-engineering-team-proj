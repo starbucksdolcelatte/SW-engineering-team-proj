{
 "cells": [
  {
   "cell_type": "code",
   "execution_count": 5,
   "metadata": {},
   "outputs": [],
   "source": [
    "# Created By Seoyoon Park\n",
    "\n",
    "import sqlite3\n",
    "from datetime import datetime, date\n",
    "import string\n",
    "import random\n",
    "\n",
    "random.seed(0)\n",
    "\n",
    "# Connect to SQLite DB\n",
    "## if exist \"PMS_db.sqlite\" then connect \n",
    "## if not exitst \"PMS_db.sqlite\" then create\n",
    "conn = sqlite3.connect(\"PMS_db.sqlite\", detect_types=sqlite3.PARSE_DECLTYPES)\n",
    "\n",
    "# Create cursir from DB Connection\n",
    "cur = conn.cursor()"
   ]
  },
  {
   "cell_type": "code",
   "execution_count": 2,
   "metadata": {},
   "outputs": [],
   "source": [
    "##################################################################\n",
    "## PARKINGLOT_LIST = {Parking_spot, Parking_status, Customer_car_num}\n",
    "## Parking_status : 0 == vacant ; 1 == occupied ; 2 == moving_out\n",
    "## Total 3 levels, A-J zones, 1-10 spots\n",
    "## ['B3-J10', 0, NULL]\n",
    "def init_parkinglot_list():\n",
    "    for floor in range (1,4):\n",
    "        for zone in range (0,10):\n",
    "            for spot in range (1,11):\n",
    "                cur.execute(\"INSERT INTO PARKINGLOT_LIST VALUES('B\"+str(floor)\n",
    "                +\"-\"+string.ascii_uppercase[zone]+str(spot)+\"', 0, NULL)\")\n",
    "    return 0"
   ]
  },
  {
   "cell_type": "code",
   "execution_count": 3,
   "metadata": {},
   "outputs": [],
   "source": [
    "##################################################################\n",
    "## CUSTOMER_LIST = {Customer_car_num, Customer_card_info, Customer_name}\n",
    "h_plate = ['가','나','다','라','마',\n",
    "                 '거','너','더','러','머','버','서','어','저',\n",
    "                 '고','노','도','로','모','보','소','오','조',\n",
    "                 '구','누','두','루','무','부','수','우','주',\n",
    "                 '아','바','사','자',\n",
    "                 '배','하','허','호']\n",
    "\n",
    "n_first = ['KIM','LEE', 'PARK', 'KONG', 'YOON', 'HYUN', 'KANG',\n",
    "            'JEONG', 'MOON', 'CHA', 'HAN', 'HWANG', 'HA']\n",
    "n_middle = ['SEO', 'MOON', 'YOON', 'KYUNG', 'HYUN', 'MIN',\n",
    "            'SOO', 'EUN', 'SEONG', 'JI']\n",
    "n_last = ['JOON', 'MI', 'AH', 'JOO', 'YEON', 'HYUK', 'SEOK','WOON']\n",
    "\n",
    "card = ['VISA', 'MasterCard', 'Amex', 'BC', 'UnionPay','JCB']\n",
    "\n",
    "\n",
    "# Make sample tuple of CUSTOMER_LIST and insert it to CUSTOMER_LIST\n",
    "## CUSTOMER_LIST = { Customer_car_num, Customer_card_info, Customer_name }\n",
    "def mk_sample_cust(cust_num):\n",
    "    for _ in range (cust_num):\n",
    "        cur.execute(\"INSERT INTO CUSTOMER_LIST VALUES('\"\n",
    "        '{0:02d}'.format(random.randrange(100)) + h_plate[random.randrange(len(h_plate))] + '{0:04d}'.format(random.randrange(10000)) +\n",
    "            \"','\" + card[random.randrange(len(card))] + \" \" + '{0:04d}'.format(random.randrange(10000)) + \"-\" + '{0:04d}'.format(random.randrange(10000)) + \"-\" + '{0:04d}'.format(random.randrange(10000)) + \"-\" + '{0:04d}'.format(random.randrange(10000)) +\n",
    "            \"','\" + n_first[random.randrange(len(n_first))] + \" \" + n_middle[random.randrange(len(n_middle))] + \" \" + n_last[random.randrange(len(n_last))] +\n",
    "            \"')\")\n",
    "    return 0"
   ]
  },
  {
   "cell_type": "code",
   "execution_count": 7,
   "metadata": {},
   "outputs": [],
   "source": [
    "# Connect to SQLite DB\n",
    "## if exist \"PMS_db.sqlite\" then connect \n",
    "## if not exitst \"PMS_db.sqlite\" then create\n",
    "conn_test = sqlite3.connect(\"PMS_test.sqlite\", detect_types=sqlite3.PARSE_DECLTYPES)\n",
    "\n",
    "# Create cursir from DB Connection\n",
    "cur_test = conn_test.cursor()"
   ]
  },
  {
   "cell_type": "code",
   "execution_count": 10,
   "metadata": {},
   "outputs": [
    {
     "data": {
      "text/plain": [
       "<sqlite3.Cursor at 0x199956fb6c0>"
      ]
     },
     "execution_count": 10,
     "metadata": {},
     "output_type": "execute_result"
    }
   ],
   "source": [
    "cur_test.execute(\"\"\"\n",
    "    CREATE TABLE SHOPPING_PAY (\n",
    "    Spay_id INTEGER PRIMARY KEY AUTOINCREMENT,\n",
    "    Customer_car_num text     )\"\"\")"
   ]
  },
  {
   "cell_type": "code",
   "execution_count": 6,
   "metadata": {},
   "outputs": [
    {
     "ename": "OperationalError",
     "evalue": "no such table: CUSTOMER_LIST",
     "output_type": "error",
     "traceback": [
      "\u001b[1;31m---------------------------------------------------------------------------\u001b[0m",
      "\u001b[1;31mOperationalError\u001b[0m                          Traceback (most recent call last)",
      "\u001b[1;32m<ipython-input-6-c8474a12e5d2>\u001b[0m in \u001b[0;36m<module>\u001b[1;34m()\u001b[0m\n\u001b[1;32m----> 1\u001b[1;33m \u001b[0mcur\u001b[0m\u001b[1;33m.\u001b[0m\u001b[0mexecute\u001b[0m\u001b[1;33m(\u001b[0m\u001b[1;34m\"INSERT INTO CUSTOMER_LIST VALUES('12가1234','VISA 1234-1234-1234-1234', 'KIM MIN JI')\"\u001b[0m\u001b[1;33m)\u001b[0m\u001b[1;33m\u001b[0m\u001b[0m\n\u001b[0m",
      "\u001b[1;31mOperationalError\u001b[0m: no such table: CUSTOMER_LIST"
     ]
    }
   ],
   "source": [
    "cur.execute(\"INSERT INTO CUSTOMER_LIST VALUES('12가1234','VISA 1234-1234-1234-1234', 'KIM MIN JI')\")"
   ]
  },
  {
   "cell_type": "code",
   "execution_count": null,
   "metadata": {},
   "outputs": [],
   "source": [
    "# SQL 쿼리 실행은 cur.execute로 함\n",
    "cur.execute(\"select * from CUSTOMER_LIST\")\n",
    "\n",
    "# 데이타 Fetch\n",
    "rows = cur.fetchall()\n",
    "for row in rows:\n",
    "    print(row)"
   ]
  }
 ],
 "metadata": {
  "kernelspec": {
   "display_name": "Python 3",
   "language": "python",
   "name": "python3"
  },
  "language_info": {
   "codemirror_mode": {
    "name": "ipython",
    "version": 3
   },
   "file_extension": ".py",
   "mimetype": "text/x-python",
   "name": "python",
   "nbconvert_exporter": "python",
   "pygments_lexer": "ipython3",
   "version": "3.6.5"
  }
 },
 "nbformat": 4,
 "nbformat_minor": 2
}
