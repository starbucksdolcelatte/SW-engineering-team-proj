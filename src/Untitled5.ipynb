{
 "cells": [
  {
   "cell_type": "code",
   "execution_count": 1,
   "metadata": {},
   "outputs": [],
   "source": [
    "from Car import Car\n",
    "from BlockBarIn import BlockBarIn\n",
    "from Camera import Camera"
   ]
  },
  {
   "cell_type": "code",
   "execution_count": 2,
   "metadata": {},
   "outputs": [
    {
     "name": "stdout",
     "output_type": "stream",
     "text": [
      "Camera 객체가 생성되었습니다.\n",
      "DBinit 객체가 생성되었습니다.\n",
      "BlockBarIn 객체가 생성되었습니다.\n",
      "DBinit 객체가 생성되었습니다.\n"
     ]
    }
   ],
   "source": [
    "db_path = 'pms_db_fin_1.sqlite'\n",
    "in_cam = Camera(db_path)\n",
    "block_bar_in = BlockBarIn(db_path)"
   ]
  },
  {
   "cell_type": "code",
   "execution_count": 3,
   "metadata": {},
   "outputs": [
    {
     "name": "stdout",
     "output_type": "stream",
     "text": [
      "인식한 차량 번호는  60모7641  입니다.\n",
      "Car 객체가 생성되었습니다.\n",
      "Car number = 60모7641\n",
      "DBinit 객체가 생성되었습니다.\n"
     ]
    }
   ],
   "source": [
    "# 번호판 인식\n",
    "car_num = in_cam.recog()[0]\n",
    "print('인식한 차량 번호는 ',car_num,' 입니다.')\n",
    "# Car 객체 생성\n",
    "mycar = Car(car_num,db_path)"
   ]
  },
  {
   "cell_type": "code",
   "execution_count": 4,
   "metadata": {},
   "outputs": [
    {
     "name": "stdout",
     "output_type": "stream",
     "text": [
      "('60모7641', 'VISA 1079-6552-9267-3374', 'YOON EUN WOON')\n",
      "등록된 회원입니다.\n",
      "차단바가 열립니다.\n"
     ]
    }
   ],
   "source": [
    "# 등록된 회원이면 결제여부 확인, \n",
    "# 결제가 모두 완료되어 있으면 차단바 열고 아니면 닫기\n",
    "block_bar_in.blockbar_open(mycar.car_num)"
   ]
  },
  {
   "cell_type": "code",
   "execution_count": null,
   "metadata": {},
   "outputs": [],
   "source": []
  },
  {
   "cell_type": "code",
   "execution_count": null,
   "metadata": {},
   "outputs": [],
   "source": []
  },
  {
   "cell_type": "code",
   "execution_count": null,
   "metadata": {},
   "outputs": [],
   "source": []
  },
  {
   "cell_type": "code",
   "execution_count": null,
   "metadata": {},
   "outputs": [],
   "source": []
  },
  {
   "cell_type": "code",
   "execution_count": null,
   "metadata": {},
   "outputs": [],
   "source": []
  }
 ],
 "metadata": {
  "kernelspec": {
   "display_name": "Python 3",
   "language": "python",
   "name": "python3"
  },
  "language_info": {
   "codemirror_mode": {
    "name": "ipython",
    "version": 3
   },
   "file_extension": ".py",
   "mimetype": "text/x-python",
   "name": "python",
   "nbconvert_exporter": "python",
   "pygments_lexer": "ipython3",
   "version": "3.6.5"
  }
 },
 "nbformat": 4,
 "nbformat_minor": 2
}
